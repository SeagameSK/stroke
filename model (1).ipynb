{
 "cells": [
  {
   "cell_type": "code",
   "execution_count": 1,
   "id": "d920d97c",
   "metadata": {},
   "outputs": [],
   "source": [
    "import pandas as pd\n",
    "import numpy as np\n",
    "import matplotlib.pyplot as plt\n",
    "import seaborn as sns\n",
    "from collections import Counter\n",
    "\n",
    "from imblearn.under_sampling import RandomUnderSampler\n",
    "from imblearn.over_sampling import RandomOverSampler\n",
    "from imblearn.over_sampling import SMOTE\n",
    "\n",
    "from lazypredict.Supervised import LazyClassifier\n",
    "from sklearn.preprocessing import MinMaxScaler, StandardScaler\n",
    "from sklearn.impute import KNNImputer\n",
    "from sklearn.model_selection import train_test_split, GridSearchCV, cross_val_score\n",
    "from sklearn.metrics import confusion_matrix, classification_report, plot_confusion_matrix\n",
    "from sklearn.linear_model import LogisticRegression\n",
    "from sklearn.neighbors import KNeighborsClassifier\n",
    "from sklearn.svm import SVC\n",
    "from sklearn.neural_network import MLPClassifier\n",
    "from sklearn.tree import DecisionTreeClassifier\n",
    "from sklearn.ensemble import RandomForestClassifier\n",
    "from sklearn.ensemble import GradientBoostingClassifier\n",
    "from sklearn import metrics\n",
    "\n",
    "from xverse.ensemble import VotingSelector\n",
    "#from lightgbm import LGBMClassifier\n",
    "\n",
    "pd.set_option('display.max_columns', None)\n",
    "%config InlineBackend.figure_format = 'retina' \n",
    "%matplotlib inline\n",
    "import pickle\n",
    "\n",
    "import warnings\n",
    "warnings.filterwarnings('ignore')"
   ]
  },
  {
   "cell_type": "code",
   "execution_count": 2,
   "id": "cb76c7ce",
   "metadata": {},
   "outputs": [
    {
     "data": {
      "text/html": [
       "<div>\n",
       "<style scoped>\n",
       "    .dataframe tbody tr th:only-of-type {\n",
       "        vertical-align: middle;\n",
       "    }\n",
       "\n",
       "    .dataframe tbody tr th {\n",
       "        vertical-align: top;\n",
       "    }\n",
       "\n",
       "    .dataframe thead th {\n",
       "        text-align: right;\n",
       "    }\n",
       "</style>\n",
       "<table border=\"1\" class=\"dataframe\">\n",
       "  <thead>\n",
       "    <tr style=\"text-align: right;\">\n",
       "      <th></th>\n",
       "      <th>rowID</th>\n",
       "      <th>patientAge</th>\n",
       "      <th>patientSexName</th>\n",
       "      <th>smoking</th>\n",
       "      <th>alcohol</th>\n",
       "      <th>vital_bmi</th>\n",
       "      <th>vital_hr</th>\n",
       "      <th>vital_pulse</th>\n",
       "      <th>vital_temperature</th>\n",
       "      <th>vital_rr</th>\n",
       "      <th>vital_bps</th>\n",
       "      <th>vital_bpd</th>\n",
       "      <th>LDL-Cholesterol</th>\n",
       "      <th>Hypertension</th>\n",
       "      <th>Hyperlipidaemia</th>\n",
       "      <th>Diabetes_Mellitus</th>\n",
       "      <th>Hemiplegia</th>\n",
       "      <th>Chronic_kidney</th>\n",
       "      <th>Atrial_fibrillation</th>\n",
       "      <th>Hypokalemia</th>\n",
       "      <th>stroke</th>\n",
       "      <th>Age_R</th>\n",
       "      <th>health_level</th>\n",
       "      <th>LDL_level</th>\n",
       "      <th>Creatinine</th>\n",
       "      <th>Cholesterol</th>\n",
       "      <th>FBS</th>\n",
       "      <th>Triglyceride</th>\n",
       "      <th>Potassium</th>\n",
       "      <th>HCT</th>\n",
       "      <th>Age_R_e</th>\n",
       "      <th>health_level_e</th>\n",
       "      <th>LDL_level_e</th>\n",
       "    </tr>\n",
       "  </thead>\n",
       "  <tbody>\n",
       "    <tr>\n",
       "      <th>0</th>\n",
       "      <td>3719915</td>\n",
       "      <td>69</td>\n",
       "      <td>0.00</td>\n",
       "      <td>0.00</td>\n",
       "      <td>0.00</td>\n",
       "      <td>25.30</td>\n",
       "      <td>80.00</td>\n",
       "      <td>73.00</td>\n",
       "      <td>36.00</td>\n",
       "      <td>16.00</td>\n",
       "      <td>150.00</td>\n",
       "      <td>90.00</td>\n",
       "      <td>124.00</td>\n",
       "      <td>1</td>\n",
       "      <td>0</td>\n",
       "      <td>0</td>\n",
       "      <td>0</td>\n",
       "      <td>0</td>\n",
       "      <td>0</td>\n",
       "      <td>0</td>\n",
       "      <td>1</td>\n",
       "      <td>65-69</td>\n",
       "      <td>obese 1</td>\n",
       "      <td>close to normal</td>\n",
       "      <td>0.70</td>\n",
       "      <td>142.60</td>\n",
       "      <td>97.20</td>\n",
       "      <td>347.00</td>\n",
       "      <td>3.92</td>\n",
       "      <td>39.54</td>\n",
       "      <td>10</td>\n",
       "      <td>4</td>\n",
       "      <td>2</td>\n",
       "    </tr>\n",
       "    <tr>\n",
       "      <th>1</th>\n",
       "      <td>215399</td>\n",
       "      <td>75</td>\n",
       "      <td>1.00</td>\n",
       "      <td>1.00</td>\n",
       "      <td>0.00</td>\n",
       "      <td>26.78</td>\n",
       "      <td>80.00</td>\n",
       "      <td>80.00</td>\n",
       "      <td>36.60</td>\n",
       "      <td>20.00</td>\n",
       "      <td>150.00</td>\n",
       "      <td>84.00</td>\n",
       "      <td>86.00</td>\n",
       "      <td>1</td>\n",
       "      <td>1</td>\n",
       "      <td>1</td>\n",
       "      <td>0</td>\n",
       "      <td>0</td>\n",
       "      <td>0</td>\n",
       "      <td>0</td>\n",
       "      <td>1</td>\n",
       "      <td>75+</td>\n",
       "      <td>obese 1</td>\n",
       "      <td>normal</td>\n",
       "      <td>1.11</td>\n",
       "      <td>158.60</td>\n",
       "      <td>128.00</td>\n",
       "      <td>92.80</td>\n",
       "      <td>4.95</td>\n",
       "      <td>38.34</td>\n",
       "      <td>12</td>\n",
       "      <td>4</td>\n",
       "      <td>1</td>\n",
       "    </tr>\n",
       "    <tr>\n",
       "      <th>2</th>\n",
       "      <td>1556914</td>\n",
       "      <td>80</td>\n",
       "      <td>1.00</td>\n",
       "      <td>1.00</td>\n",
       "      <td>1.00</td>\n",
       "      <td>25.13</td>\n",
       "      <td>80.00</td>\n",
       "      <td>69.00</td>\n",
       "      <td>36.50</td>\n",
       "      <td>20.00</td>\n",
       "      <td>144.00</td>\n",
       "      <td>66.00</td>\n",
       "      <td>141.00</td>\n",
       "      <td>1</td>\n",
       "      <td>0</td>\n",
       "      <td>0</td>\n",
       "      <td>0</td>\n",
       "      <td>1</td>\n",
       "      <td>0</td>\n",
       "      <td>0</td>\n",
       "      <td>1</td>\n",
       "      <td>75+</td>\n",
       "      <td>obese 1</td>\n",
       "      <td>quite high</td>\n",
       "      <td>1.40</td>\n",
       "      <td>218.00</td>\n",
       "      <td>93.00</td>\n",
       "      <td>218.00</td>\n",
       "      <td>4.50</td>\n",
       "      <td>38.00</td>\n",
       "      <td>12</td>\n",
       "      <td>4</td>\n",
       "      <td>3</td>\n",
       "    </tr>\n",
       "    <tr>\n",
       "      <th>3</th>\n",
       "      <td>3970389</td>\n",
       "      <td>51</td>\n",
       "      <td>1.00</td>\n",
       "      <td>1.00</td>\n",
       "      <td>0.00</td>\n",
       "      <td>31.49</td>\n",
       "      <td>80.00</td>\n",
       "      <td>78.00</td>\n",
       "      <td>36.50</td>\n",
       "      <td>20.00</td>\n",
       "      <td>130.00</td>\n",
       "      <td>70.00</td>\n",
       "      <td>95.00</td>\n",
       "      <td>1</td>\n",
       "      <td>1</td>\n",
       "      <td>0</td>\n",
       "      <td>0</td>\n",
       "      <td>0</td>\n",
       "      <td>0</td>\n",
       "      <td>0</td>\n",
       "      <td>1</td>\n",
       "      <td>50-54</td>\n",
       "      <td>obese 2</td>\n",
       "      <td>normal</td>\n",
       "      <td>1.30</td>\n",
       "      <td>159.00</td>\n",
       "      <td>98.00</td>\n",
       "      <td>120.00</td>\n",
       "      <td>4.00</td>\n",
       "      <td>49.00</td>\n",
       "      <td>7</td>\n",
       "      <td>5</td>\n",
       "      <td>1</td>\n",
       "    </tr>\n",
       "    <tr>\n",
       "      <th>4</th>\n",
       "      <td>100835</td>\n",
       "      <td>57</td>\n",
       "      <td>0.00</td>\n",
       "      <td>1.00</td>\n",
       "      <td>0.00</td>\n",
       "      <td>29.30</td>\n",
       "      <td>80.00</td>\n",
       "      <td>94.00</td>\n",
       "      <td>36.00</td>\n",
       "      <td>16.00</td>\n",
       "      <td>120.00</td>\n",
       "      <td>89.00</td>\n",
       "      <td>101.00</td>\n",
       "      <td>1</td>\n",
       "      <td>0</td>\n",
       "      <td>0</td>\n",
       "      <td>0</td>\n",
       "      <td>0</td>\n",
       "      <td>0</td>\n",
       "      <td>0</td>\n",
       "      <td>1</td>\n",
       "      <td>55-59</td>\n",
       "      <td>obese 1</td>\n",
       "      <td>close to normal</td>\n",
       "      <td>0.86</td>\n",
       "      <td>193.00</td>\n",
       "      <td>124.00</td>\n",
       "      <td>178.00</td>\n",
       "      <td>3.99</td>\n",
       "      <td>40.38</td>\n",
       "      <td>8</td>\n",
       "      <td>4</td>\n",
       "      <td>2</td>\n",
       "    </tr>\n",
       "    <tr>\n",
       "      <th>...</th>\n",
       "      <td>...</td>\n",
       "      <td>...</td>\n",
       "      <td>...</td>\n",
       "      <td>...</td>\n",
       "      <td>...</td>\n",
       "      <td>...</td>\n",
       "      <td>...</td>\n",
       "      <td>...</td>\n",
       "      <td>...</td>\n",
       "      <td>...</td>\n",
       "      <td>...</td>\n",
       "      <td>...</td>\n",
       "      <td>...</td>\n",
       "      <td>...</td>\n",
       "      <td>...</td>\n",
       "      <td>...</td>\n",
       "      <td>...</td>\n",
       "      <td>...</td>\n",
       "      <td>...</td>\n",
       "      <td>...</td>\n",
       "      <td>...</td>\n",
       "      <td>...</td>\n",
       "      <td>...</td>\n",
       "      <td>...</td>\n",
       "      <td>...</td>\n",
       "      <td>...</td>\n",
       "      <td>...</td>\n",
       "      <td>...</td>\n",
       "      <td>...</td>\n",
       "      <td>...</td>\n",
       "      <td>...</td>\n",
       "      <td>...</td>\n",
       "      <td>...</td>\n",
       "    </tr>\n",
       "    <tr>\n",
       "      <th>26024</th>\n",
       "      <td>7590153</td>\n",
       "      <td>68</td>\n",
       "      <td>0.00</td>\n",
       "      <td>0.00</td>\n",
       "      <td>0.00</td>\n",
       "      <td>27.56</td>\n",
       "      <td>80.00</td>\n",
       "      <td>72.00</td>\n",
       "      <td>37.00</td>\n",
       "      <td>20.00</td>\n",
       "      <td>144.00</td>\n",
       "      <td>67.00</td>\n",
       "      <td>170.00</td>\n",
       "      <td>1</td>\n",
       "      <td>1</td>\n",
       "      <td>0</td>\n",
       "      <td>0</td>\n",
       "      <td>0</td>\n",
       "      <td>0</td>\n",
       "      <td>0</td>\n",
       "      <td>0</td>\n",
       "      <td>65-69</td>\n",
       "      <td>obese 1</td>\n",
       "      <td>high</td>\n",
       "      <td>0.67</td>\n",
       "      <td>261.00</td>\n",
       "      <td>99.00</td>\n",
       "      <td>128.00</td>\n",
       "      <td>4.00</td>\n",
       "      <td>41.00</td>\n",
       "      <td>10</td>\n",
       "      <td>4</td>\n",
       "      <td>4</td>\n",
       "    </tr>\n",
       "    <tr>\n",
       "      <th>26025</th>\n",
       "      <td>7589648</td>\n",
       "      <td>62</td>\n",
       "      <td>0.00</td>\n",
       "      <td>0.00</td>\n",
       "      <td>0.00</td>\n",
       "      <td>26.90</td>\n",
       "      <td>80.00</td>\n",
       "      <td>92.00</td>\n",
       "      <td>36.50</td>\n",
       "      <td>20.00</td>\n",
       "      <td>154.00</td>\n",
       "      <td>90.00</td>\n",
       "      <td>108.00</td>\n",
       "      <td>0</td>\n",
       "      <td>0</td>\n",
       "      <td>0</td>\n",
       "      <td>0</td>\n",
       "      <td>0</td>\n",
       "      <td>0</td>\n",
       "      <td>0</td>\n",
       "      <td>0</td>\n",
       "      <td>60-64</td>\n",
       "      <td>obese 1</td>\n",
       "      <td>close to normal</td>\n",
       "      <td>0.82</td>\n",
       "      <td>188.00</td>\n",
       "      <td>120.00</td>\n",
       "      <td>138.00</td>\n",
       "      <td>4.60</td>\n",
       "      <td>43.00</td>\n",
       "      <td>9</td>\n",
       "      <td>4</td>\n",
       "      <td>2</td>\n",
       "    </tr>\n",
       "    <tr>\n",
       "      <th>26026</th>\n",
       "      <td>7595099</td>\n",
       "      <td>64</td>\n",
       "      <td>0.00</td>\n",
       "      <td>0.00</td>\n",
       "      <td>0.00</td>\n",
       "      <td>31.33</td>\n",
       "      <td>80.00</td>\n",
       "      <td>66.00</td>\n",
       "      <td>35.20</td>\n",
       "      <td>20.00</td>\n",
       "      <td>187.00</td>\n",
       "      <td>69.00</td>\n",
       "      <td>101.00</td>\n",
       "      <td>1</td>\n",
       "      <td>1</td>\n",
       "      <td>0</td>\n",
       "      <td>0</td>\n",
       "      <td>1</td>\n",
       "      <td>0</td>\n",
       "      <td>0</td>\n",
       "      <td>0</td>\n",
       "      <td>60-64</td>\n",
       "      <td>obese 2</td>\n",
       "      <td>close to normal</td>\n",
       "      <td>2.11</td>\n",
       "      <td>171.00</td>\n",
       "      <td>214.00</td>\n",
       "      <td>126.00</td>\n",
       "      <td>5.05</td>\n",
       "      <td>32.80</td>\n",
       "      <td>9</td>\n",
       "      <td>5</td>\n",
       "      <td>2</td>\n",
       "    </tr>\n",
       "    <tr>\n",
       "      <th>26027</th>\n",
       "      <td>7589985</td>\n",
       "      <td>63</td>\n",
       "      <td>1.00</td>\n",
       "      <td>0.00</td>\n",
       "      <td>0.00</td>\n",
       "      <td>24.39</td>\n",
       "      <td>80.00</td>\n",
       "      <td>69.00</td>\n",
       "      <td>36.60</td>\n",
       "      <td>20.00</td>\n",
       "      <td>130.00</td>\n",
       "      <td>75.00</td>\n",
       "      <td>112.00</td>\n",
       "      <td>0</td>\n",
       "      <td>0</td>\n",
       "      <td>0</td>\n",
       "      <td>0</td>\n",
       "      <td>0</td>\n",
       "      <td>0</td>\n",
       "      <td>0</td>\n",
       "      <td>0</td>\n",
       "      <td>60-64</td>\n",
       "      <td>overweight</td>\n",
       "      <td>close to normal</td>\n",
       "      <td>0.90</td>\n",
       "      <td>199.00</td>\n",
       "      <td>114.00</td>\n",
       "      <td>59.00</td>\n",
       "      <td>4.40</td>\n",
       "      <td>45.20</td>\n",
       "      <td>9</td>\n",
       "      <td>3</td>\n",
       "      <td>2</td>\n",
       "    </tr>\n",
       "    <tr>\n",
       "      <th>26028</th>\n",
       "      <td>7591675</td>\n",
       "      <td>58</td>\n",
       "      <td>0.00</td>\n",
       "      <td>0.00</td>\n",
       "      <td>0.00</td>\n",
       "      <td>21.91</td>\n",
       "      <td>80.00</td>\n",
       "      <td>93.00</td>\n",
       "      <td>36.50</td>\n",
       "      <td>20.00</td>\n",
       "      <td>135.00</td>\n",
       "      <td>83.00</td>\n",
       "      <td>125.00</td>\n",
       "      <td>1</td>\n",
       "      <td>1</td>\n",
       "      <td>0</td>\n",
       "      <td>0</td>\n",
       "      <td>0</td>\n",
       "      <td>0</td>\n",
       "      <td>0</td>\n",
       "      <td>0</td>\n",
       "      <td>55-59</td>\n",
       "      <td>healthy</td>\n",
       "      <td>close to normal</td>\n",
       "      <td>0.49</td>\n",
       "      <td>226.00</td>\n",
       "      <td>373.00</td>\n",
       "      <td>70.00</td>\n",
       "      <td>4.20</td>\n",
       "      <td>40.00</td>\n",
       "      <td>8</td>\n",
       "      <td>2</td>\n",
       "      <td>2</td>\n",
       "    </tr>\n",
       "  </tbody>\n",
       "</table>\n",
       "<p>26029 rows × 33 columns</p>\n",
       "</div>"
      ],
      "text/plain": [
       "         rowID  patientAge  patientSexName  smoking  alcohol  vital_bmi  \\\n",
       "0      3719915          69            0.00     0.00     0.00      25.30   \n",
       "1       215399          75            1.00     1.00     0.00      26.78   \n",
       "2      1556914          80            1.00     1.00     1.00      25.13   \n",
       "3      3970389          51            1.00     1.00     0.00      31.49   \n",
       "4       100835          57            0.00     1.00     0.00      29.30   \n",
       "...        ...         ...             ...      ...      ...        ...   \n",
       "26024  7590153          68            0.00     0.00     0.00      27.56   \n",
       "26025  7589648          62            0.00     0.00     0.00      26.90   \n",
       "26026  7595099          64            0.00     0.00     0.00      31.33   \n",
       "26027  7589985          63            1.00     0.00     0.00      24.39   \n",
       "26028  7591675          58            0.00     0.00     0.00      21.91   \n",
       "\n",
       "       vital_hr  vital_pulse  vital_temperature  vital_rr  vital_bps  \\\n",
       "0         80.00        73.00              36.00     16.00     150.00   \n",
       "1         80.00        80.00              36.60     20.00     150.00   \n",
       "2         80.00        69.00              36.50     20.00     144.00   \n",
       "3         80.00        78.00              36.50     20.00     130.00   \n",
       "4         80.00        94.00              36.00     16.00     120.00   \n",
       "...         ...          ...                ...       ...        ...   \n",
       "26024     80.00        72.00              37.00     20.00     144.00   \n",
       "26025     80.00        92.00              36.50     20.00     154.00   \n",
       "26026     80.00        66.00              35.20     20.00     187.00   \n",
       "26027     80.00        69.00              36.60     20.00     130.00   \n",
       "26028     80.00        93.00              36.50     20.00     135.00   \n",
       "\n",
       "       vital_bpd  LDL-Cholesterol  Hypertension  Hyperlipidaemia  \\\n",
       "0          90.00           124.00             1                0   \n",
       "1          84.00            86.00             1                1   \n",
       "2          66.00           141.00             1                0   \n",
       "3          70.00            95.00             1                1   \n",
       "4          89.00           101.00             1                0   \n",
       "...          ...              ...           ...              ...   \n",
       "26024      67.00           170.00             1                1   \n",
       "26025      90.00           108.00             0                0   \n",
       "26026      69.00           101.00             1                1   \n",
       "26027      75.00           112.00             0                0   \n",
       "26028      83.00           125.00             1                1   \n",
       "\n",
       "       Diabetes_Mellitus  Hemiplegia  Chronic_kidney  Atrial_fibrillation  \\\n",
       "0                      0           0               0                    0   \n",
       "1                      1           0               0                    0   \n",
       "2                      0           0               1                    0   \n",
       "3                      0           0               0                    0   \n",
       "4                      0           0               0                    0   \n",
       "...                  ...         ...             ...                  ...   \n",
       "26024                  0           0               0                    0   \n",
       "26025                  0           0               0                    0   \n",
       "26026                  0           0               1                    0   \n",
       "26027                  0           0               0                    0   \n",
       "26028                  0           0               0                    0   \n",
       "\n",
       "       Hypokalemia  stroke  Age_R health_level        LDL_level  Creatinine  \\\n",
       "0                0       1  65-69      obese 1  close to normal        0.70   \n",
       "1                0       1    75+      obese 1           normal        1.11   \n",
       "2                0       1    75+      obese 1       quite high        1.40   \n",
       "3                0       1  50-54      obese 2           normal        1.30   \n",
       "4                0       1  55-59      obese 1  close to normal        0.86   \n",
       "...            ...     ...    ...          ...              ...         ...   \n",
       "26024            0       0  65-69      obese 1             high        0.67   \n",
       "26025            0       0  60-64      obese 1  close to normal        0.82   \n",
       "26026            0       0  60-64      obese 2  close to normal        2.11   \n",
       "26027            0       0  60-64   overweight  close to normal        0.90   \n",
       "26028            0       0  55-59      healthy  close to normal        0.49   \n",
       "\n",
       "       Cholesterol    FBS  Triglyceride  Potassium   HCT  Age_R_e  \\\n",
       "0           142.60  97.20        347.00       3.92 39.54       10   \n",
       "1           158.60 128.00         92.80       4.95 38.34       12   \n",
       "2           218.00  93.00        218.00       4.50 38.00       12   \n",
       "3           159.00  98.00        120.00       4.00 49.00        7   \n",
       "4           193.00 124.00        178.00       3.99 40.38        8   \n",
       "...            ...    ...           ...        ...   ...      ...   \n",
       "26024       261.00  99.00        128.00       4.00 41.00       10   \n",
       "26025       188.00 120.00        138.00       4.60 43.00        9   \n",
       "26026       171.00 214.00        126.00       5.05 32.80        9   \n",
       "26027       199.00 114.00         59.00       4.40 45.20        9   \n",
       "26028       226.00 373.00         70.00       4.20 40.00        8   \n",
       "\n",
       "       health_level_e  LDL_level_e  \n",
       "0                   4            2  \n",
       "1                   4            1  \n",
       "2                   4            3  \n",
       "3                   5            1  \n",
       "4                   4            2  \n",
       "...               ...          ...  \n",
       "26024               4            4  \n",
       "26025               4            2  \n",
       "26026               5            2  \n",
       "26027               3            2  \n",
       "26028               2            2  \n",
       "\n",
       "[26029 rows x 33 columns]"
      ]
     },
     "execution_count": 2,
     "metadata": {},
     "output_type": "execute_result"
    }
   ],
   "source": [
    "df = pd.read_csv('stroke_model.csv')\n",
    "df"
   ]
  },
  {
   "cell_type": "code",
   "execution_count": 3,
   "id": "dae804a2",
   "metadata": {},
   "outputs": [
    {
     "name": "stdout",
     "output_type": "stream",
     "text": [
      "<class 'pandas.core.frame.DataFrame'>\n",
      "RangeIndex: 26029 entries, 0 to 26028\n",
      "Data columns (total 33 columns):\n",
      " #   Column               Non-Null Count  Dtype  \n",
      "---  ------               --------------  -----  \n",
      " 0   rowID                26029 non-null  int64  \n",
      " 1   patientAge           26029 non-null  int64  \n",
      " 2   patientSexName       26029 non-null  float64\n",
      " 3   smoking              26029 non-null  float64\n",
      " 4   alcohol              26029 non-null  float64\n",
      " 5   vital_bmi            26029 non-null  float64\n",
      " 6   vital_hr             26029 non-null  float64\n",
      " 7   vital_pulse          26029 non-null  float64\n",
      " 8   vital_temperature    26029 non-null  float64\n",
      " 9   vital_rr             26029 non-null  float64\n",
      " 10  vital_bps            26029 non-null  float64\n",
      " 11  vital_bpd            26029 non-null  float64\n",
      " 12  LDL-Cholesterol      26029 non-null  float64\n",
      " 13  Hypertension         26029 non-null  int64  \n",
      " 14  Hyperlipidaemia      26029 non-null  int64  \n",
      " 15  Diabetes_Mellitus    26029 non-null  int64  \n",
      " 16  Hemiplegia           26029 non-null  int64  \n",
      " 17  Chronic_kidney       26029 non-null  int64  \n",
      " 18  Atrial_fibrillation  26029 non-null  int64  \n",
      " 19  Hypokalemia          26029 non-null  int64  \n",
      " 20  stroke               26029 non-null  int64  \n",
      " 21  Age_R                26029 non-null  object \n",
      " 22  health_level         26029 non-null  object \n",
      " 23  LDL_level            26029 non-null  object \n",
      " 24  Creatinine           26029 non-null  float64\n",
      " 25  Cholesterol          26029 non-null  float64\n",
      " 26  FBS                  26029 non-null  float64\n",
      " 27  Triglyceride         26029 non-null  float64\n",
      " 28  Potassium            26029 non-null  float64\n",
      " 29  HCT                  26029 non-null  float64\n",
      " 30  Age_R_e              26029 non-null  int64  \n",
      " 31  health_level_e       26029 non-null  int64  \n",
      " 32  LDL_level_e          26029 non-null  int64  \n",
      "dtypes: float64(17), int64(13), object(3)\n",
      "memory usage: 6.6+ MB\n"
     ]
    }
   ],
   "source": [
    "df.info()"
   ]
  },
  {
   "cell_type": "code",
   "execution_count": 4,
   "id": "fe78db43",
   "metadata": {},
   "outputs": [
    {
     "data": {
      "text/html": [
       "<style type=\"text/css\">\n",
       "#T_feccb_row0_col0, #T_feccb_row1_col1, #T_feccb_row2_col2, #T_feccb_row3_col3, #T_feccb_row4_col4, #T_feccb_row5_col5, #T_feccb_row6_col6, #T_feccb_row7_col7, #T_feccb_row8_col8, #T_feccb_row9_col9, #T_feccb_row10_col10, #T_feccb_row11_col11, #T_feccb_row12_col12, #T_feccb_row13_col13, #T_feccb_row14_col14, #T_feccb_row15_col15, #T_feccb_row16_col16, #T_feccb_row17_col17, #T_feccb_row18_col18, #T_feccb_row19_col19, #T_feccb_row20_col20, #T_feccb_row21_col21, #T_feccb_row22_col22, #T_feccb_row23_col23, #T_feccb_row24_col24, #T_feccb_row25_col25, #T_feccb_row26_col26, #T_feccb_row27_col27, #T_feccb_row28_col28, #T_feccb_row29_col29 {\n",
       "  background-color: #08306b;\n",
       "  color: #f1f1f1;\n",
       "}\n",
       "#T_feccb_row0_col1, #T_feccb_row0_col22, #T_feccb_row1_col10, #T_feccb_row8_col1, #T_feccb_row15_col7, #T_feccb_row16_col26, #T_feccb_row18_col26, #T_feccb_row20_col1, #T_feccb_row20_col27, #T_feccb_row23_col22, #T_feccb_row25_col17 {\n",
       "  background-color: #cddff1;\n",
       "  color: #000000;\n",
       "}\n",
       "#T_feccb_row0_col2, #T_feccb_row4_col0, #T_feccb_row4_col12, #T_feccb_row4_col28, #T_feccb_row5_col21, #T_feccb_row5_col29, #T_feccb_row15_col13, #T_feccb_row17_col10, #T_feccb_row19_col12, #T_feccb_row21_col22, #T_feccb_row23_col0, #T_feccb_row24_col2 {\n",
       "  background-color: #ddeaf7;\n",
       "  color: #000000;\n",
       "}\n",
       "#T_feccb_row0_col3, #T_feccb_row2_col16, #T_feccb_row2_col29, #T_feccb_row7_col3, #T_feccb_row8_col6, #T_feccb_row12_col17, #T_feccb_row15_col4, #T_feccb_row17_col18, #T_feccb_row18_col3, #T_feccb_row18_col24, #T_feccb_row20_col24, #T_feccb_row24_col14, #T_feccb_row27_col26, #T_feccb_row29_col17 {\n",
       "  background-color: #ebf3fb;\n",
       "  color: #000000;\n",
       "}\n",
       "#T_feccb_row0_col4, #T_feccb_row0_col19, #T_feccb_row1_col22, #T_feccb_row5_col19, #T_feccb_row6_col19, #T_feccb_row11_col3, #T_feccb_row12_col20, #T_feccb_row12_col23, #T_feccb_row16_col14, #T_feccb_row16_col24, #T_feccb_row18_col4, #T_feccb_row19_col4, #T_feccb_row25_col4, #T_feccb_row26_col14, #T_feccb_row26_col27, #T_feccb_row27_col19, #T_feccb_row28_col19 {\n",
       "  background-color: #e7f0fa;\n",
       "  color: #000000;\n",
       "}\n",
       "#T_feccb_row0_col5, #T_feccb_row0_col20, #T_feccb_row2_col1, #T_feccb_row3_col1, #T_feccb_row4_col21, #T_feccb_row7_col20, #T_feccb_row8_col22, #T_feccb_row11_col9, #T_feccb_row13_col20, #T_feccb_row13_col26, #T_feccb_row21_col11, #T_feccb_row23_col1, #T_feccb_row23_col27, #T_feccb_row24_col20, #T_feccb_row24_col29 {\n",
       "  background-color: #d2e3f3;\n",
       "  color: #000000;\n",
       "}\n",
       "#T_feccb_row0_col6, #T_feccb_row10_col3, #T_feccb_row12_col13, #T_feccb_row12_col16, #T_feccb_row27_col11, #T_feccb_row29_col18 {\n",
       "  background-color: #f6faff;\n",
       "  color: #000000;\n",
       "}\n",
       "#T_feccb_row0_col7, #T_feccb_row0_col28, #T_feccb_row4_col20, #T_feccb_row6_col8, #T_feccb_row9_col21, #T_feccb_row19_col5, #T_feccb_row23_col21, #T_feccb_row25_col22, #T_feccb_row29_col5 {\n",
       "  background-color: #d6e5f4;\n",
       "  color: #000000;\n",
       "}\n",
       "#T_feccb_row0_col8, #T_feccb_row1_col4, #T_feccb_row1_col5, #T_feccb_row1_col6, #T_feccb_row1_col7, #T_feccb_row1_col11, #T_feccb_row1_col24, #T_feccb_row1_col28, #T_feccb_row4_col14, #T_feccb_row8_col0, #T_feccb_row8_col10, #T_feccb_row9_col20, #T_feccb_row11_col1, #T_feccb_row11_col17, #T_feccb_row11_col27, #T_feccb_row12_col18, #T_feccb_row14_col3, #T_feccb_row15_col26, #T_feccb_row20_col9, #T_feccb_row20_col12, #T_feccb_row20_col22, #T_feccb_row20_col29, #T_feccb_row22_col2, #T_feccb_row22_col16, #T_feccb_row22_col18, #T_feccb_row25_col19, #T_feccb_row26_col15, #T_feccb_row26_col17, #T_feccb_row26_col21, #T_feccb_row26_col23, #T_feccb_row26_col25, #T_feccb_row27_col4, #T_feccb_row27_col6, #T_feccb_row27_col7, #T_feccb_row27_col24, #T_feccb_row29_col13 {\n",
       "  background-color: #f7fbff;\n",
       "  color: #000000;\n",
       "}\n",
       "#T_feccb_row0_col9, #T_feccb_row10_col13, #T_feccb_row13_col11, #T_feccb_row14_col13, #T_feccb_row14_col20, #T_feccb_row26_col28 {\n",
       "  background-color: #c4daee;\n",
       "  color: #000000;\n",
       "}\n",
       "#T_feccb_row0_col10, #T_feccb_row2_col9, #T_feccb_row2_col15, #T_feccb_row5_col22, #T_feccb_row6_col28, #T_feccb_row7_col0, #T_feccb_row7_col10, #T_feccb_row7_col28, #T_feccb_row8_col20, #T_feccb_row16_col21, #T_feccb_row21_col17, #T_feccb_row22_col5, #T_feccb_row22_col10, #T_feccb_row23_col12, #T_feccb_row29_col10 {\n",
       "  background-color: #d6e6f4;\n",
       "  color: #000000;\n",
       "}\n",
       "#T_feccb_row0_col11, #T_feccb_row14_col1, #T_feccb_row22_col11, #T_feccb_row24_col11, #T_feccb_row26_col20, #T_feccb_row29_col11 {\n",
       "  background-color: #b3d3e8;\n",
       "  color: #000000;\n",
       "}\n",
       "#T_feccb_row0_col12, #T_feccb_row2_col27, #T_feccb_row3_col15, #T_feccb_row3_col27, #T_feccb_row5_col13, #T_feccb_row6_col5, #T_feccb_row8_col21, #T_feccb_row9_col26, #T_feccb_row9_col29, #T_feccb_row10_col29, #T_feccb_row11_col24 {\n",
       "  background-color: #d3e3f3;\n",
       "  color: #000000;\n",
       "}\n",
       "#T_feccb_row0_col13, #T_feccb_row9_col6, #T_feccb_row10_col18, #T_feccb_row12_col3, #T_feccb_row12_col6, #T_feccb_row15_col3, #T_feccb_row15_col12, #T_feccb_row15_col18, #T_feccb_row18_col13, #T_feccb_row18_col16, #T_feccb_row20_col4, #T_feccb_row20_col6, #T_feccb_row20_col17, #T_feccb_row23_col18, #T_feccb_row24_col6, #T_feccb_row26_col13, #T_feccb_row26_col16 {\n",
       "  background-color: #f0f6fd;\n",
       "  color: #000000;\n",
       "}\n",
       "#T_feccb_row0_col14, #T_feccb_row0_col25, #T_feccb_row1_col29, #T_feccb_row2_col23, #T_feccb_row3_col18, #T_feccb_row4_col18, #T_feccb_row7_col13, #T_feccb_row10_col4, #T_feccb_row11_col8, #T_feccb_row12_col2, #T_feccb_row14_col6, #T_feccb_row18_col23, #T_feccb_row22_col20, #T_feccb_row25_col13, #T_feccb_row27_col29, #T_feccb_row29_col14 {\n",
       "  background-color: #eef5fc;\n",
       "  color: #000000;\n",
       "}\n",
       "#T_feccb_row0_col15, #T_feccb_row4_col8, #T_feccb_row4_col15, #T_feccb_row8_col26, #T_feccb_row9_col0, #T_feccb_row12_col0, #T_feccb_row17_col5, #T_feccb_row22_col0, #T_feccb_row25_col5, #T_feccb_row27_col14 {\n",
       "  background-color: #d3e4f3;\n",
       "  color: #000000;\n",
       "}\n",
       "#T_feccb_row0_col16, #T_feccb_row1_col23, #T_feccb_row3_col6, #T_feccb_row3_col14, #T_feccb_row4_col6, #T_feccb_row5_col3, #T_feccb_row5_col16, #T_feccb_row14_col4, #T_feccb_row21_col14, #T_feccb_row23_col16, #T_feccb_row27_col28, #T_feccb_row28_col3, #T_feccb_row28_col16 {\n",
       "  background-color: #f5f9fe;\n",
       "  color: #000000;\n",
       "}\n",
       "#T_feccb_row0_col17, #T_feccb_row1_col2, #T_feccb_row5_col27, #T_feccb_row8_col19, #T_feccb_row12_col4, #T_feccb_row13_col29, #T_feccb_row14_col19, #T_feccb_row14_col24, #T_feccb_row17_col19, #T_feccb_row19_col13, #T_feccb_row20_col3, #T_feccb_row21_col23, #T_feccb_row25_col0, #T_feccb_row25_col3, #T_feccb_row26_col19, #T_feccb_row27_col2, #T_feccb_row29_col4 {\n",
       "  background-color: #e8f1fa;\n",
       "  color: #000000;\n",
       "}\n",
       "#T_feccb_row0_col18, #T_feccb_row0_col23, #T_feccb_row1_col26, #T_feccb_row2_col22, #T_feccb_row3_col10, #T_feccb_row3_col23, #T_feccb_row5_col2, #T_feccb_row7_col14, #T_feccb_row8_col18, #T_feccb_row9_col13, #T_feccb_row11_col14, #T_feccb_row13_col23, #T_feccb_row19_col3, #T_feccb_row21_col26, #T_feccb_row23_col3, #T_feccb_row27_col12 {\n",
       "  background-color: #ecf4fb;\n",
       "  color: #000000;\n",
       "}\n",
       "#T_feccb_row0_col21, #T_feccb_row5_col23, #T_feccb_row8_col7, #T_feccb_row16_col5, #T_feccb_row17_col2, #T_feccb_row17_col20, #T_feccb_row17_col28, #T_feccb_row20_col5, #T_feccb_row21_col8, #T_feccb_row25_col20, #T_feccb_row26_col7 {\n",
       "  background-color: #d7e6f5;\n",
       "  color: #000000;\n",
       "}\n",
       "#T_feccb_row0_col24, #T_feccb_row2_col24, #T_feccb_row13_col12, #T_feccb_row17_col29, #T_feccb_row18_col10, #T_feccb_row18_col12, #T_feccb_row21_col29, #T_feccb_row29_col20 {\n",
       "  background-color: #e4eff9;\n",
       "  color: #000000;\n",
       "}\n",
       "#T_feccb_row0_col26, #T_feccb_row6_col15, #T_feccb_row10_col20, #T_feccb_row26_col12, #T_feccb_row28_col24 {\n",
       "  background-color: #c7dcef;\n",
       "  color: #000000;\n",
       "}\n",
       "#T_feccb_row0_col27, #T_feccb_row8_col15, #T_feccb_row13_col9, #T_feccb_row14_col11, #T_feccb_row14_col26, #T_feccb_row14_col28, #T_feccb_row16_col9, #T_feccb_row19_col15, #T_feccb_row28_col9, #T_feccb_row28_col20 {\n",
       "  background-color: #cde0f1;\n",
       "  color: #000000;\n",
       "}\n",
       "#T_feccb_row0_col29, #T_feccb_row1_col14, #T_feccb_row4_col22, #T_feccb_row6_col22, #T_feccb_row12_col5, #T_feccb_row12_col10, #T_feccb_row15_col14, #T_feccb_row15_col24, #T_feccb_row18_col21, #T_feccb_row23_col17, #T_feccb_row24_col10, #T_feccb_row28_col22 {\n",
       "  background-color: #d5e5f4;\n",
       "  color: #000000;\n",
       "}\n",
       "#T_feccb_row1_col0, #T_feccb_row1_col8, #T_feccb_row3_col5, #T_feccb_row7_col21, #T_feccb_row8_col2, #T_feccb_row9_col17, #T_feccb_row15_col10, #T_feccb_row16_col0, #T_feccb_row16_col12, #T_feccb_row17_col14, #T_feccb_row18_col22, #T_feccb_row19_col8, #T_feccb_row21_col28, #T_feccb_row27_col0 {\n",
       "  background-color: #deebf7;\n",
       "  color: #000000;\n",
       "}\n",
       "#T_feccb_row1_col3, #T_feccb_row7_col16, #T_feccb_row10_col16, #T_feccb_row17_col6, #T_feccb_row20_col23, #T_feccb_row22_col13, #T_feccb_row24_col16, #T_feccb_row27_col3 {\n",
       "  background-color: #f4f9fe;\n",
       "  color: #000000;\n",
       "}\n",
       "#T_feccb_row1_col9, #T_feccb_row3_col20, #T_feccb_row6_col9, #T_feccb_row6_col20, #T_feccb_row7_col26, #T_feccb_row10_col22, #T_feccb_row11_col29, #T_feccb_row14_col9, #T_feccb_row18_col9, #T_feccb_row21_col9 {\n",
       "  background-color: #cbdef1;\n",
       "  color: #000000;\n",
       "}\n",
       "#T_feccb_row1_col12, #T_feccb_row4_col23, #T_feccb_row6_col3, #T_feccb_row7_col18, #T_feccb_row9_col3, #T_feccb_row11_col6, #T_feccb_row11_col18, #T_feccb_row11_col23, #T_feccb_row12_col14, #T_feccb_row16_col23, #T_feccb_row18_col14, #T_feccb_row20_col25, #T_feccb_row23_col13, #T_feccb_row29_col2 {\n",
       "  background-color: #edf4fc;\n",
       "  color: #000000;\n",
       "}\n",
       "#T_feccb_row1_col13, #T_feccb_row9_col15, #T_feccb_row11_col22, #T_feccb_row19_col20, #T_feccb_row21_col27, #T_feccb_row23_col5, #T_feccb_row24_col23 {\n",
       "  background-color: #c3daee;\n",
       "  color: #000000;\n",
       "}\n",
       "#T_feccb_row1_col15, #T_feccb_row5_col10, #T_feccb_row7_col6, #T_feccb_row11_col0, #T_feccb_row14_col5, #T_feccb_row17_col25, #T_feccb_row18_col11, #T_feccb_row19_col1, #T_feccb_row23_col28, #T_feccb_row26_col29 {\n",
       "  background-color: #cadef0;\n",
       "  color: #000000;\n",
       "}\n",
       "#T_feccb_row1_col16, #T_feccb_row4_col16, #T_feccb_row8_col16, #T_feccb_row10_col8, #T_feccb_row11_col16, #T_feccb_row13_col6, #T_feccb_row13_col16, #T_feccb_row17_col16, #T_feccb_row19_col25, #T_feccb_row20_col13, #T_feccb_row27_col16 {\n",
       "  background-color: #f2f7fd;\n",
       "  color: #000000;\n",
       "}\n",
       "#T_feccb_row1_col17, #T_feccb_row13_col5, #T_feccb_row15_col17 {\n",
       "  background-color: #bcd7eb;\n",
       "  color: #000000;\n",
       "}\n",
       "#T_feccb_row1_col18, #T_feccb_row2_col8, #T_feccb_row2_col17, #T_feccb_row3_col7, #T_feccb_row5_col14, #T_feccb_row9_col25, #T_feccb_row12_col8, #T_feccb_row14_col25, #T_feccb_row17_col8, #T_feccb_row17_col23, #T_feccb_row18_col0, #T_feccb_row18_col2, #T_feccb_row18_col7, #T_feccb_row18_col28, #T_feccb_row19_col2, #T_feccb_row20_col15, #T_feccb_row20_col16, #T_feccb_row20_col19 {\n",
       "  background-color: #dce9f6;\n",
       "  color: #000000;\n",
       "}\n",
       "#T_feccb_row1_col19, #T_feccb_row7_col2, #T_feccb_row9_col14, #T_feccb_row11_col13, #T_feccb_row14_col23, #T_feccb_row18_col29, #T_feccb_row19_col17, #T_feccb_row20_col8, #T_feccb_row23_col19, #T_feccb_row24_col19, #T_feccb_row27_col22, #T_feccb_row29_col23 {\n",
       "  background-color: #e6f0f9;\n",
       "  color: #000000;\n",
       "}\n",
       "#T_feccb_row1_col20, #T_feccb_row1_col21, #T_feccb_row3_col9, #T_feccb_row10_col12, #T_feccb_row10_col21, #T_feccb_row19_col9, #T_feccb_row26_col3 {\n",
       "  background-color: #d0e1f2;\n",
       "  color: #000000;\n",
       "}\n",
       "#T_feccb_row1_col25, #T_feccb_row5_col20, #T_feccb_row6_col27, #T_feccb_row7_col5, #T_feccb_row9_col11, #T_feccb_row9_col12, #T_feccb_row21_col20, #T_feccb_row27_col25 {\n",
       "  background-color: #cfe1f2;\n",
       "  color: #000000;\n",
       "}\n",
       "#T_feccb_row1_col27, #T_feccb_row27_col1 {\n",
       "  background-color: #083370;\n",
       "  color: #f1f1f1;\n",
       "}\n",
       "#T_feccb_row2_col0, #T_feccb_row4_col5, #T_feccb_row4_col7, #T_feccb_row5_col12, #T_feccb_row6_col29, #T_feccb_row7_col24, #T_feccb_row7_col29, #T_feccb_row8_col5, #T_feccb_row11_col4, #T_feccb_row12_col1, #T_feccb_row12_col24, #T_feccb_row12_col27, #T_feccb_row15_col8, #T_feccb_row15_col11, #T_feccb_row15_col20, #T_feccb_row17_col11, #T_feccb_row17_col22, #T_feccb_row19_col28, #T_feccb_row20_col10, #T_feccb_row21_col5, #T_feccb_row22_col1, #T_feccb_row22_col27, #T_feccb_row24_col8, #T_feccb_row25_col11, #T_feccb_row28_col14 {\n",
       "  background-color: #dae8f6;\n",
       "  color: #000000;\n",
       "}\n",
       "#T_feccb_row2_col3 {\n",
       "  background-color: #8dc1dd;\n",
       "  color: #000000;\n",
       "}\n",
       "#T_feccb_row2_col4, #T_feccb_row11_col26 {\n",
       "  background-color: #82bbdb;\n",
       "  color: #000000;\n",
       "}\n",
       "#T_feccb_row2_col5, #T_feccb_row2_col7, #T_feccb_row2_col10, #T_feccb_row3_col29, #T_feccb_row6_col23, #T_feccb_row8_col3, #T_feccb_row9_col4, #T_feccb_row9_col24, #T_feccb_row10_col14, #T_feccb_row12_col25, #T_feccb_row14_col0, #T_feccb_row15_col0, #T_feccb_row17_col4, #T_feccb_row17_col7, #T_feccb_row17_col12, #T_feccb_row21_col19, #T_feccb_row23_col2, #T_feccb_row28_col8 {\n",
       "  background-color: #e2edf8;\n",
       "  color: #000000;\n",
       "}\n",
       "#T_feccb_row2_col6, #T_feccb_row2_col13, #T_feccb_row10_col6, #T_feccb_row13_col3, #T_feccb_row15_col16, #T_feccb_row19_col6, #T_feccb_row21_col6, #T_feccb_row22_col6, #T_feccb_row24_col18 {\n",
       "  background-color: #f2f8fd;\n",
       "  color: #000000;\n",
       "}\n",
       "#T_feccb_row2_col11, #T_feccb_row11_col5, #T_feccb_row12_col11, #T_feccb_row14_col27 {\n",
       "  background-color: #b2d2e8;\n",
       "  color: #000000;\n",
       "}\n",
       "#T_feccb_row2_col12, #T_feccb_row4_col10, #T_feccb_row5_col1, #T_feccb_row7_col25, #T_feccb_row9_col2, #T_feccb_row16_col18, #T_feccb_row22_col17, #T_feccb_row28_col4 {\n",
       "  background-color: #eaf2fb;\n",
       "  color: #000000;\n",
       "}\n",
       "#T_feccb_row2_col14, #T_feccb_row3_col13, #T_feccb_row9_col16, #T_feccb_row11_col25, #T_feccb_row25_col6, #T_feccb_row25_col16, #T_feccb_row27_col23 {\n",
       "  background-color: #f3f8fe;\n",
       "  color: #000000;\n",
       "}\n",
       "#T_feccb_row2_col18, #T_feccb_row9_col19, #T_feccb_row12_col19, #T_feccb_row14_col2, #T_feccb_row15_col6, #T_feccb_row16_col3, #T_feccb_row19_col18, #T_feccb_row21_col18, #T_feccb_row23_col6, #T_feccb_row24_col13, #T_feccb_row28_col2, #T_feccb_row29_col19 {\n",
       "  background-color: #e9f2fa;\n",
       "  color: #000000;\n",
       "}\n",
       "#T_feccb_row2_col19, #T_feccb_row2_col25, #T_feccb_row3_col28, #T_feccb_row6_col24, #T_feccb_row7_col1, #T_feccb_row9_col10, #T_feccb_row9_col23, #T_feccb_row10_col23, #T_feccb_row14_col29, #T_feccb_row16_col10, #T_feccb_row16_col17, #T_feccb_row18_col17, #T_feccb_row18_col19, #T_feccb_row21_col12, #T_feccb_row25_col14, #T_feccb_row25_col26, #T_feccb_row29_col25 {\n",
       "  background-color: #e3eef8;\n",
       "  color: #000000;\n",
       "}\n",
       "#T_feccb_row2_col20, #T_feccb_row5_col11, #T_feccb_row28_col11 {\n",
       "  background-color: #a3cce3;\n",
       "  color: #000000;\n",
       "}\n",
       "#T_feccb_row2_col21, #T_feccb_row8_col9, #T_feccb_row11_col28, #T_feccb_row13_col10, #T_feccb_row22_col26, #T_feccb_row24_col5, #T_feccb_row25_col21 {\n",
       "  background-color: #b7d4ea;\n",
       "  color: #000000;\n",
       "}\n",
       "#T_feccb_row2_col26 {\n",
       "  background-color: #72b2d8;\n",
       "  color: #f1f1f1;\n",
       "}\n",
       "#T_feccb_row2_col28, #T_feccb_row6_col14, #T_feccb_row7_col19, #T_feccb_row7_col27, #T_feccb_row8_col17, #T_feccb_row8_col24, #T_feccb_row11_col19, #T_feccb_row13_col19, #T_feccb_row13_col24, #T_feccb_row13_col25, #T_feccb_row14_col8, #T_feccb_row14_col21, #T_feccb_row21_col13, #T_feccb_row23_col14, #T_feccb_row24_col3, #T_feccb_row25_col7, #T_feccb_row28_col27 {\n",
       "  background-color: #e3eef9;\n",
       "  color: #000000;\n",
       "}\n",
       "#T_feccb_row3_col0, #T_feccb_row8_col4, #T_feccb_row8_col25, #T_feccb_row8_col29, #T_feccb_row13_col7, #T_feccb_row13_col22, #T_feccb_row16_col7, #T_feccb_row19_col0, #T_feccb_row19_col10, #T_feccb_row21_col24, #T_feccb_row25_col12, #T_feccb_row27_col18, #T_feccb_row28_col21, #T_feccb_row28_col29 {\n",
       "  background-color: #dceaf6;\n",
       "  color: #000000;\n",
       "}\n",
       "#T_feccb_row3_col2 {\n",
       "  background-color: #7fb9da;\n",
       "  color: #000000;\n",
       "}\n",
       "#T_feccb_row3_col4 {\n",
       "  background-color: #4292c6;\n",
       "  color: #f1f1f1;\n",
       "}\n",
       "#T_feccb_row3_col8, #T_feccb_row5_col7, #T_feccb_row9_col5, #T_feccb_row9_col7, #T_feccb_row19_col21, #T_feccb_row22_col7, #T_feccb_row23_col20, #T_feccb_row26_col0, #T_feccb_row29_col0 {\n",
       "  background-color: #d4e4f4;\n",
       "  color: #000000;\n",
       "}\n",
       "#T_feccb_row3_col11, #T_feccb_row7_col9, #T_feccb_row23_col9 {\n",
       "  background-color: #c7dbef;\n",
       "  color: #000000;\n",
       "}\n",
       "#T_feccb_row3_col12, #T_feccb_row3_col17, #T_feccb_row4_col17, #T_feccb_row4_col24, #T_feccb_row10_col25, #T_feccb_row11_col21, #T_feccb_row13_col8, #T_feccb_row17_col0, #T_feccb_row19_col29, #T_feccb_row20_col7, #T_feccb_row22_col15, #T_feccb_row22_col21, #T_feccb_row22_col23, #T_feccb_row24_col4, #T_feccb_row29_col15 {\n",
       "  background-color: #e0ecf8;\n",
       "  color: #000000;\n",
       "}\n",
       "#T_feccb_row3_col16, #T_feccb_row4_col13, #T_feccb_row8_col13, #T_feccb_row8_col14, #T_feccb_row13_col18, #T_feccb_row14_col16, #T_feccb_row14_col18, #T_feccb_row15_col29, #T_feccb_row18_col6, #T_feccb_row21_col16 {\n",
       "  background-color: #f1f7fd;\n",
       "  color: #000000;\n",
       "}\n",
       "#T_feccb_row3_col19, #T_feccb_row4_col19, #T_feccb_row6_col4, #T_feccb_row8_col23, #T_feccb_row15_col2, #T_feccb_row15_col22, #T_feccb_row17_col3, #T_feccb_row23_col4, #T_feccb_row26_col1 {\n",
       "  background-color: #e7f1fa;\n",
       "  color: #000000;\n",
       "}\n",
       "#T_feccb_row3_col21, #T_feccb_row10_col7, #T_feccb_row13_col17, #T_feccb_row19_col26, #T_feccb_row24_col7, #T_feccb_row24_col12, #T_feccb_row24_col21, #T_feccb_row27_col21 {\n",
       "  background-color: #d0e2f2;\n",
       "  color: #000000;\n",
       "}\n",
       "#T_feccb_row3_col22, #T_feccb_row4_col27, #T_feccb_row9_col28, #T_feccb_row14_col17, #T_feccb_row16_col19, #T_feccb_row20_col21, #T_feccb_row20_col28, #T_feccb_row22_col28, #T_feccb_row23_col10, #T_feccb_row24_col27, #T_feccb_row28_col12, #T_feccb_row28_col23, #T_feccb_row29_col1, #T_feccb_row29_col24, #T_feccb_row29_col27 {\n",
       "  background-color: #d9e8f5;\n",
       "  color: #000000;\n",
       "}\n",
       "#T_feccb_row3_col24, #T_feccb_row3_col25, #T_feccb_row5_col25, #T_feccb_row6_col0, #T_feccb_row6_col2, #T_feccb_row10_col2, #T_feccb_row10_col17, #T_feccb_row11_col15, #T_feccb_row14_col7, #T_feccb_row14_col12, #T_feccb_row18_col25, #T_feccb_row20_col14, #T_feccb_row20_col18, #T_feccb_row21_col4, #T_feccb_row24_col17, #T_feccb_row27_col8, #T_feccb_row29_col21 {\n",
       "  background-color: #dfebf7;\n",
       "  color: #000000;\n",
       "}\n",
       "#T_feccb_row3_col26, #T_feccb_row6_col7, #T_feccb_row10_col1 {\n",
       "  background-color: #afd1e7;\n",
       "  color: #000000;\n",
       "}\n",
       "#T_feccb_row4_col1, #T_feccb_row5_col0, #T_feccb_row6_col12, #T_feccb_row10_col24, #T_feccb_row16_col22, #T_feccb_row19_col7, #T_feccb_row19_col22, #T_feccb_row23_col8, #T_feccb_row23_col26, #T_feccb_row23_col29, #T_feccb_row24_col1, #T_feccb_row25_col28, #T_feccb_row26_col24, #T_feccb_row29_col28 {\n",
       "  background-color: #d9e7f5;\n",
       "  color: #000000;\n",
       "}\n",
       "#T_feccb_row4_col2 {\n",
       "  background-color: #79b5d9;\n",
       "  color: #000000;\n",
       "}\n",
       "#T_feccb_row4_col3 {\n",
       "  background-color: #4695c8;\n",
       "  color: #f1f1f1;\n",
       "}\n",
       "#T_feccb_row4_col9, #T_feccb_row5_col24, #T_feccb_row9_col8, #T_feccb_row9_col27, #T_feccb_row16_col1, #T_feccb_row16_col11, #T_feccb_row16_col27, #T_feccb_row24_col9, #T_feccb_row26_col4, #T_feccb_row28_col10 {\n",
       "  background-color: #caddf0;\n",
       "  color: #000000;\n",
       "}\n",
       "#T_feccb_row4_col11, #T_feccb_row10_col5, #T_feccb_row23_col24, #T_feccb_row24_col15, #T_feccb_row27_col17 {\n",
       "  background-color: #bdd7ec;\n",
       "  color: #000000;\n",
       "}\n",
       "#T_feccb_row4_col25, #T_feccb_row5_col8, #T_feccb_row5_col17, #T_feccb_row6_col10, #T_feccb_row6_col25, #T_feccb_row10_col19, #T_feccb_row12_col15, #T_feccb_row16_col25, #T_feccb_row17_col24, #T_feccb_row20_col0, #T_feccb_row21_col3, #T_feccb_row21_col7, #T_feccb_row22_col25, #T_feccb_row25_col2, #T_feccb_row25_col10, #T_feccb_row26_col8, #T_feccb_row28_col17 {\n",
       "  background-color: #e1edf8;\n",
       "  color: #000000;\n",
       "}\n",
       "#T_feccb_row4_col26 {\n",
       "  background-color: #add0e6;\n",
       "  color: #000000;\n",
       "}\n",
       "#T_feccb_row4_col29, #T_feccb_row8_col28, #T_feccb_row12_col21, #T_feccb_row13_col0, #T_feccb_row16_col29, #T_feccb_row17_col26, #T_feccb_row25_col24, #T_feccb_row25_col29, #T_feccb_row28_col25 {\n",
       "  background-color: #dfecf7;\n",
       "  color: #000000;\n",
       "}\n",
       "#T_feccb_row5_col4, #T_feccb_row6_col13, #T_feccb_row6_col18, #T_feccb_row7_col17, #T_feccb_row9_col18, #T_feccb_row13_col4, #T_feccb_row16_col13, #T_feccb_row19_col14, #T_feccb_row19_col23, #T_feccb_row22_col19, #T_feccb_row25_col18, #T_feccb_row26_col18 {\n",
       "  background-color: #eaf3fb;\n",
       "  color: #000000;\n",
       "}\n",
       "#T_feccb_row5_col6, #T_feccb_row5_col18, #T_feccb_row6_col16, #T_feccb_row16_col6, #T_feccb_row22_col3, #T_feccb_row22_col14, #T_feccb_row26_col6, #T_feccb_row28_col6, #T_feccb_row28_col18, #T_feccb_row29_col3, #T_feccb_row29_col6 {\n",
       "  background-color: #eff6fc;\n",
       "  color: #000000;\n",
       "}\n",
       "#T_feccb_row5_col9, #T_feccb_row6_col26, #T_feccb_row10_col15, #T_feccb_row11_col2, #T_feccb_row17_col21, #T_feccb_row19_col27, #T_feccb_row23_col11, #T_feccb_row27_col9, #T_feccb_row27_col10 {\n",
       "  background-color: #ccdff1;\n",
       "  color: #000000;\n",
       "}\n",
       "#T_feccb_row5_col15, #T_feccb_row5_col26, #T_feccb_row18_col1, #T_feccb_row24_col28, #T_feccb_row29_col26 {\n",
       "  background-color: #b8d5ea;\n",
       "  color: #000000;\n",
       "}\n",
       "#T_feccb_row5_col28, #T_feccb_row28_col5 {\n",
       "  background-color: #08488e;\n",
       "  color: #f1f1f1;\n",
       "}\n",
       "#T_feccb_row6_col1, #T_feccb_row7_col22, #T_feccb_row7_col23, #T_feccb_row8_col27, #T_feccb_row10_col9, #T_feccb_row16_col15, #T_feccb_row27_col20 {\n",
       "  background-color: #cee0f2;\n",
       "  color: #000000;\n",
       "}\n",
       "#T_feccb_row6_col11, #T_feccb_row15_col1, #T_feccb_row15_col27 {\n",
       "  background-color: #c6dbef;\n",
       "  color: #000000;\n",
       "}\n",
       "#T_feccb_row6_col17, #T_feccb_row7_col4, #T_feccb_row13_col2, #T_feccb_row15_col19, #T_feccb_row16_col4, #T_feccb_row19_col16, #T_feccb_row19_col24, #T_feccb_row22_col4, #T_feccb_row28_col1 {\n",
       "  background-color: #e5eff9;\n",
       "  color: #000000;\n",
       "}\n",
       "#T_feccb_row6_col21, #T_feccb_row7_col8, #T_feccb_row7_col12, #T_feccb_row12_col7, #T_feccb_row12_col28, #T_feccb_row16_col2, #T_feccb_row17_col13, #T_feccb_row18_col5, #T_feccb_row21_col10, #T_feccb_row22_col8, #T_feccb_row25_col8, #T_feccb_row28_col0, #T_feccb_row28_col7, #T_feccb_row29_col7 {\n",
       "  background-color: #d8e7f5;\n",
       "  color: #000000;\n",
       "}\n",
       "#T_feccb_row7_col11 {\n",
       "  background-color: #9dcae1;\n",
       "  color: #000000;\n",
       "}\n",
       "#T_feccb_row7_col15, #T_feccb_row11_col20, #T_feccb_row22_col9, #T_feccb_row23_col7 {\n",
       "  background-color: #bed8ec;\n",
       "  color: #000000;\n",
       "}\n",
       "#T_feccb_row8_col11, #T_feccb_row8_col12, #T_feccb_row14_col10, #T_feccb_row14_col22, #T_feccb_row16_col8, #T_feccb_row16_col28, #T_feccb_row18_col8, #T_feccb_row21_col0, #T_feccb_row24_col0, #T_feccb_row24_col25, #T_feccb_row26_col10, #T_feccb_row29_col8 {\n",
       "  background-color: #dbe9f6;\n",
       "  color: #000000;\n",
       "}\n",
       "#T_feccb_row9_col1, #T_feccb_row9_col22, #T_feccb_row10_col26, #T_feccb_row15_col28, #T_feccb_row21_col15, #T_feccb_row23_col25, #T_feccb_row25_col9, #T_feccb_row27_col15 {\n",
       "  background-color: #c9ddf0;\n",
       "  color: #000000;\n",
       "}\n",
       "#T_feccb_row10_col0, #T_feccb_row13_col21, #T_feccb_row15_col21, #T_feccb_row18_col15, #T_feccb_row25_col23, #T_feccb_row26_col9, #T_feccb_row28_col13 {\n",
       "  background-color: #d1e2f3;\n",
       "  color: #000000;\n",
       "}\n",
       "#T_feccb_row10_col11 {\n",
       "  background-color: #4a98c9;\n",
       "  color: #f1f1f1;\n",
       "}\n",
       "#T_feccb_row10_col27 {\n",
       "  background-color: #b0d2e7;\n",
       "  color: #000000;\n",
       "}\n",
       "#T_feccb_row10_col28, #T_feccb_row13_col14, #T_feccb_row13_col15, #T_feccb_row15_col9, #T_feccb_row15_col25, #T_feccb_row21_col1, #T_feccb_row26_col22 {\n",
       "  background-color: #c1d9ed;\n",
       "  color: #000000;\n",
       "}\n",
       "#T_feccb_row11_col7, #T_feccb_row16_col20, #T_feccb_row25_col1, #T_feccb_row25_col27 {\n",
       "  background-color: #b4d3e9;\n",
       "  color: #000000;\n",
       "}\n",
       "#T_feccb_row11_col10 {\n",
       "  background-color: #5fa6d1;\n",
       "  color: #f1f1f1;\n",
       "}\n",
       "#T_feccb_row11_col12, #T_feccb_row17_col9, #T_feccb_row19_col11 {\n",
       "  background-color: #c8dcf0;\n",
       "  color: #000000;\n",
       "}\n",
       "#T_feccb_row12_col9, #T_feccb_row13_col28, #T_feccb_row18_col20, #T_feccb_row21_col2 {\n",
       "  background-color: #bfd8ed;\n",
       "  color: #000000;\n",
       "}\n",
       "#T_feccb_row12_col22 {\n",
       "  background-color: #084990;\n",
       "  color: #f1f1f1;\n",
       "}\n",
       "#T_feccb_row12_col26, #T_feccb_row20_col26, #T_feccb_row28_col26 {\n",
       "  background-color: #b5d4e9;\n",
       "  color: #000000;\n",
       "}\n",
       "#T_feccb_row12_col29, #T_feccb_row29_col12 {\n",
       "  background-color: #083c7d;\n",
       "  color: #f1f1f1;\n",
       "}\n",
       "#T_feccb_row13_col1, #T_feccb_row13_col27 {\n",
       "  background-color: #97c6df;\n",
       "  color: #000000;\n",
       "}\n",
       "#T_feccb_row14_col15, #T_feccb_row18_col27, #T_feccb_row20_col2, #T_feccb_row20_col11 {\n",
       "  background-color: #b9d6ea;\n",
       "  color: #000000;\n",
       "}\n",
       "#T_feccb_row15_col5, #T_feccb_row21_col25, #T_feccb_row24_col26, #T_feccb_row26_col5, #T_feccb_row27_col13, #T_feccb_row29_col9 {\n",
       "  background-color: #c2d9ee;\n",
       "  color: #000000;\n",
       "}\n",
       "#T_feccb_row15_col23 {\n",
       "  background-color: #71b1d7;\n",
       "  color: #f1f1f1;\n",
       "}\n",
       "#T_feccb_row17_col1 {\n",
       "  background-color: #9ac8e0;\n",
       "  color: #000000;\n",
       "}\n",
       "#T_feccb_row17_col15 {\n",
       "  background-color: #a0cbe2;\n",
       "  color: #000000;\n",
       "}\n",
       "#T_feccb_row17_col27 {\n",
       "  background-color: #9cc9e1;\n",
       "  color: #000000;\n",
       "}\n",
       "#T_feccb_row22_col12 {\n",
       "  background-color: #084a91;\n",
       "  color: #f1f1f1;\n",
       "}\n",
       "#T_feccb_row22_col24 {\n",
       "  background-color: #a9cfe5;\n",
       "  color: #000000;\n",
       "}\n",
       "#T_feccb_row22_col29 {\n",
       "  background-color: #0b559f;\n",
       "  color: #f1f1f1;\n",
       "}\n",
       "#T_feccb_row23_col15 {\n",
       "  background-color: #56a0ce;\n",
       "  color: #f1f1f1;\n",
       "}\n",
       "#T_feccb_row24_col22 {\n",
       "  background-color: #92c4de;\n",
       "  color: #000000;\n",
       "}\n",
       "#T_feccb_row25_col15 {\n",
       "  background-color: #a8cee4;\n",
       "  color: #000000;\n",
       "}\n",
       "#T_feccb_row26_col2 {\n",
       "  background-color: #89bedc;\n",
       "  color: #000000;\n",
       "}\n",
       "#T_feccb_row26_col11 {\n",
       "  background-color: #7cb7da;\n",
       "  color: #000000;\n",
       "}\n",
       "#T_feccb_row27_col5, #T_feccb_row29_col16 {\n",
       "  background-color: #f5fafe;\n",
       "  color: #000000;\n",
       "}\n",
       "#T_feccb_row28_col15 {\n",
       "  background-color: #bad6eb;\n",
       "  color: #000000;\n",
       "}\n",
       "#T_feccb_row29_col22 {\n",
       "  background-color: #0a539e;\n",
       "  color: #f1f1f1;\n",
       "}\n",
       "</style>\n",
       "<table id=\"T_feccb\">\n",
       "  <thead>\n",
       "    <tr>\n",
       "      <th class=\"blank level0\" >&nbsp;</th>\n",
       "      <th id=\"T_feccb_level0_col0\" class=\"col_heading level0 col0\" >rowID</th>\n",
       "      <th id=\"T_feccb_level0_col1\" class=\"col_heading level0 col1\" >patientAge</th>\n",
       "      <th id=\"T_feccb_level0_col2\" class=\"col_heading level0 col2\" >patientSexName</th>\n",
       "      <th id=\"T_feccb_level0_col3\" class=\"col_heading level0 col3\" >smoking</th>\n",
       "      <th id=\"T_feccb_level0_col4\" class=\"col_heading level0 col4\" >alcohol</th>\n",
       "      <th id=\"T_feccb_level0_col5\" class=\"col_heading level0 col5\" >vital_bmi</th>\n",
       "      <th id=\"T_feccb_level0_col6\" class=\"col_heading level0 col6\" >vital_hr</th>\n",
       "      <th id=\"T_feccb_level0_col7\" class=\"col_heading level0 col7\" >vital_pulse</th>\n",
       "      <th id=\"T_feccb_level0_col8\" class=\"col_heading level0 col8\" >vital_temperature</th>\n",
       "      <th id=\"T_feccb_level0_col9\" class=\"col_heading level0 col9\" >vital_rr</th>\n",
       "      <th id=\"T_feccb_level0_col10\" class=\"col_heading level0 col10\" >vital_bps</th>\n",
       "      <th id=\"T_feccb_level0_col11\" class=\"col_heading level0 col11\" >vital_bpd</th>\n",
       "      <th id=\"T_feccb_level0_col12\" class=\"col_heading level0 col12\" >LDL-Cholesterol</th>\n",
       "      <th id=\"T_feccb_level0_col13\" class=\"col_heading level0 col13\" >Hypertension</th>\n",
       "      <th id=\"T_feccb_level0_col14\" class=\"col_heading level0 col14\" >Hyperlipidaemia</th>\n",
       "      <th id=\"T_feccb_level0_col15\" class=\"col_heading level0 col15\" >Diabetes_Mellitus</th>\n",
       "      <th id=\"T_feccb_level0_col16\" class=\"col_heading level0 col16\" >Hemiplegia</th>\n",
       "      <th id=\"T_feccb_level0_col17\" class=\"col_heading level0 col17\" >Chronic_kidney</th>\n",
       "      <th id=\"T_feccb_level0_col18\" class=\"col_heading level0 col18\" >Atrial_fibrillation</th>\n",
       "      <th id=\"T_feccb_level0_col19\" class=\"col_heading level0 col19\" >Hypokalemia</th>\n",
       "      <th id=\"T_feccb_level0_col20\" class=\"col_heading level0 col20\" >stroke</th>\n",
       "      <th id=\"T_feccb_level0_col21\" class=\"col_heading level0 col21\" >Creatinine</th>\n",
       "      <th id=\"T_feccb_level0_col22\" class=\"col_heading level0 col22\" >Cholesterol</th>\n",
       "      <th id=\"T_feccb_level0_col23\" class=\"col_heading level0 col23\" >FBS</th>\n",
       "      <th id=\"T_feccb_level0_col24\" class=\"col_heading level0 col24\" >Triglyceride</th>\n",
       "      <th id=\"T_feccb_level0_col25\" class=\"col_heading level0 col25\" >Potassium</th>\n",
       "      <th id=\"T_feccb_level0_col26\" class=\"col_heading level0 col26\" >HCT</th>\n",
       "      <th id=\"T_feccb_level0_col27\" class=\"col_heading level0 col27\" >Age_R_e</th>\n",
       "      <th id=\"T_feccb_level0_col28\" class=\"col_heading level0 col28\" >health_level_e</th>\n",
       "      <th id=\"T_feccb_level0_col29\" class=\"col_heading level0 col29\" >LDL_level_e</th>\n",
       "    </tr>\n",
       "  </thead>\n",
       "  <tbody>\n",
       "    <tr>\n",
       "      <th id=\"T_feccb_level0_row0\" class=\"row_heading level0 row0\" >rowID</th>\n",
       "      <td id=\"T_feccb_row0_col0\" class=\"data row0 col0\" >1.00</td>\n",
       "      <td id=\"T_feccb_row0_col1\" class=\"data row0 col1\" >-0.02</td>\n",
       "      <td id=\"T_feccb_row0_col2\" class=\"data row0 col2\" >0.01</td>\n",
       "      <td id=\"T_feccb_row0_col3\" class=\"data row0 col3\" >-0.01</td>\n",
       "      <td id=\"T_feccb_row0_col4\" class=\"data row0 col4\" >-0.01</td>\n",
       "      <td id=\"T_feccb_row0_col5\" class=\"data row0 col5\" >0.02</td>\n",
       "      <td id=\"T_feccb_row0_col6\" class=\"data row0 col6\" >-0.02</td>\n",
       "      <td id=\"T_feccb_row0_col7\" class=\"data row0 col7\" >0.03</td>\n",
       "      <td id=\"T_feccb_row0_col8\" class=\"data row0 col8\" >-0.16</td>\n",
       "      <td id=\"T_feccb_row0_col9\" class=\"data row0 col9\" >0.05</td>\n",
       "      <td id=\"T_feccb_row0_col10\" class=\"data row0 col10\" >0.06</td>\n",
       "      <td id=\"T_feccb_row0_col11\" class=\"data row0 col11\" >0.10</td>\n",
       "      <td id=\"T_feccb_row0_col12\" class=\"data row0 col12\" >0.05</td>\n",
       "      <td id=\"T_feccb_row0_col13\" class=\"data row0 col13\" >-0.03</td>\n",
       "      <td id=\"T_feccb_row0_col14\" class=\"data row0 col14\" >-0.04</td>\n",
       "      <td id=\"T_feccb_row0_col15\" class=\"data row0 col15\" >-0.04</td>\n",
       "      <td id=\"T_feccb_row0_col16\" class=\"data row0 col16\" >-0.01</td>\n",
       "      <td id=\"T_feccb_row0_col17\" class=\"data row0 col17\" >-0.03</td>\n",
       "      <td id=\"T_feccb_row0_col18\" class=\"data row0 col18\" >-0.00</td>\n",
       "      <td id=\"T_feccb_row0_col19\" class=\"data row0 col19\" >-0.01</td>\n",
       "      <td id=\"T_feccb_row0_col20\" class=\"data row0 col20\" >-0.03</td>\n",
       "      <td id=\"T_feccb_row0_col21\" class=\"data row0 col21\" >0.00</td>\n",
       "      <td id=\"T_feccb_row0_col22\" class=\"data row0 col22\" >0.05</td>\n",
       "      <td id=\"T_feccb_row0_col23\" class=\"data row0 col23\" >-0.01</td>\n",
       "      <td id=\"T_feccb_row0_col24\" class=\"data row0 col24\" >0.00</td>\n",
       "      <td id=\"T_feccb_row0_col25\" class=\"data row0 col25\" >-0.08</td>\n",
       "      <td id=\"T_feccb_row0_col26\" class=\"data row0 col26\" >0.04</td>\n",
       "      <td id=\"T_feccb_row0_col27\" class=\"data row0 col27\" >-0.02</td>\n",
       "      <td id=\"T_feccb_row0_col28\" class=\"data row0 col28\" >0.02</td>\n",
       "      <td id=\"T_feccb_row0_col29\" class=\"data row0 col29\" >0.04</td>\n",
       "    </tr>\n",
       "    <tr>\n",
       "      <th id=\"T_feccb_level0_row1\" class=\"row_heading level0 row1\" >patientAge</th>\n",
       "      <td id=\"T_feccb_row1_col0\" class=\"data row1 col0\" >-0.02</td>\n",
       "      <td id=\"T_feccb_row1_col1\" class=\"data row1 col1\" >1.00</td>\n",
       "      <td id=\"T_feccb_row1_col2\" class=\"data row1 col2\" >-0.06</td>\n",
       "      <td id=\"T_feccb_row1_col3\" class=\"data row1 col3\" >-0.06</td>\n",
       "      <td id=\"T_feccb_row1_col4\" class=\"data row1 col4\" >-0.10</td>\n",
       "      <td id=\"T_feccb_row1_col5\" class=\"data row1 col5\" >-0.21</td>\n",
       "      <td id=\"T_feccb_row1_col6\" class=\"data row1 col6\" >-0.03</td>\n",
       "      <td id=\"T_feccb_row1_col7\" class=\"data row1 col7\" >-0.17</td>\n",
       "      <td id=\"T_feccb_row1_col8\" class=\"data row1 col8\" >-0.02</td>\n",
       "      <td id=\"T_feccb_row1_col9\" class=\"data row1 col9\" >0.01</td>\n",
       "      <td id=\"T_feccb_row1_col10\" class=\"data row1 col10\" >0.12</td>\n",
       "      <td id=\"T_feccb_row1_col11\" class=\"data row1 col11\" >-0.30</td>\n",
       "      <td id=\"T_feccb_row1_col12\" class=\"data row1 col12\" >-0.11</td>\n",
       "      <td id=\"T_feccb_row1_col13\" class=\"data row1 col13\" >0.21</td>\n",
       "      <td id=\"T_feccb_row1_col14\" class=\"data row1 col14\" >0.10</td>\n",
       "      <td id=\"T_feccb_row1_col15\" class=\"data row1 col15\" >0.03</td>\n",
       "      <td id=\"T_feccb_row1_col16\" class=\"data row1 col16\" >0.00</td>\n",
       "      <td id=\"T_feccb_row1_col17\" class=\"data row1 col17\" >0.20</td>\n",
       "      <td id=\"T_feccb_row1_col18\" class=\"data row1 col18\" >0.08</td>\n",
       "      <td id=\"T_feccb_row1_col19\" class=\"data row1 col19\" >-0.00</td>\n",
       "      <td id=\"T_feccb_row1_col20\" class=\"data row1 col20\" >-0.02</td>\n",
       "      <td id=\"T_feccb_row1_col21\" class=\"data row1 col21\" >0.05</td>\n",
       "      <td id=\"T_feccb_row1_col22\" class=\"data row1 col22\" >-0.11</td>\n",
       "      <td id=\"T_feccb_row1_col23\" class=\"data row1 col23\" >-0.05</td>\n",
       "      <td id=\"T_feccb_row1_col24\" class=\"data row1 col24\" >-0.10</td>\n",
       "      <td id=\"T_feccb_row1_col25\" class=\"data row1 col25\" >0.10</td>\n",
       "      <td id=\"T_feccb_row1_col26\" class=\"data row1 col26\" >-0.20</td>\n",
       "      <td id=\"T_feccb_row1_col27\" class=\"data row1 col27\" >0.98</td>\n",
       "      <td id=\"T_feccb_row1_col28\" class=\"data row1 col28\" >-0.18</td>\n",
       "      <td id=\"T_feccb_row1_col29\" class=\"data row1 col29\" >-0.10</td>\n",
       "    </tr>\n",
       "    <tr>\n",
       "      <th id=\"T_feccb_level0_row2\" class=\"row_heading level0 row2\" >patientSexName</th>\n",
       "      <td id=\"T_feccb_row2_col0\" class=\"data row2 col0\" >0.01</td>\n",
       "      <td id=\"T_feccb_row2_col1\" class=\"data row2 col1\" >-0.06</td>\n",
       "      <td id=\"T_feccb_row2_col2\" class=\"data row2 col2\" >1.00</td>\n",
       "      <td id=\"T_feccb_row2_col3\" class=\"data row2 col3\" >0.37</td>\n",
       "      <td id=\"T_feccb_row2_col4\" class=\"data row2 col4\" >0.39</td>\n",
       "      <td id=\"T_feccb_row2_col5\" class=\"data row2 col5\" >-0.08</td>\n",
       "      <td id=\"T_feccb_row2_col6\" class=\"data row2 col6\" >-0.00</td>\n",
       "      <td id=\"T_feccb_row2_col7\" class=\"data row2 col7\" >-0.04</td>\n",
       "      <td id=\"T_feccb_row2_col8\" class=\"data row2 col8\" >-0.00</td>\n",
       "      <td id=\"T_feccb_row2_col9\" class=\"data row2 col9\" >-0.07</td>\n",
       "      <td id=\"T_feccb_row2_col10\" class=\"data row2 col10\" >-0.01</td>\n",
       "      <td id=\"T_feccb_row2_col11\" class=\"data row2 col11\" >0.11</td>\n",
       "      <td id=\"T_feccb_row2_col12\" class=\"data row2 col12\" >-0.09</td>\n",
       "      <td id=\"T_feccb_row2_col13\" class=\"data row2 col13\" >-0.04</td>\n",
       "      <td id=\"T_feccb_row2_col14\" class=\"data row2 col14\" >-0.06</td>\n",
       "      <td id=\"T_feccb_row2_col15\" class=\"data row2 col15\" >-0.06</td>\n",
       "      <td id=\"T_feccb_row2_col16\" class=\"data row2 col16\" >0.03</td>\n",
       "      <td id=\"T_feccb_row2_col17\" class=\"data row2 col17\" >0.04</td>\n",
       "      <td id=\"T_feccb_row2_col18\" class=\"data row2 col18\" >0.02</td>\n",
       "      <td id=\"T_feccb_row2_col19\" class=\"data row2 col19\" >0.01</td>\n",
       "      <td id=\"T_feccb_row2_col20\" class=\"data row2 col20\" >0.19</td>\n",
       "      <td id=\"T_feccb_row2_col21\" class=\"data row2 col21\" >0.17</td>\n",
       "      <td id=\"T_feccb_row2_col22\" class=\"data row2 col22\" >-0.15</td>\n",
       "      <td id=\"T_feccb_row2_col23\" class=\"data row2 col23\" >-0.02</td>\n",
       "      <td id=\"T_feccb_row2_col24\" class=\"data row2 col24\" >0.00</td>\n",
       "      <td id=\"T_feccb_row2_col25\" class=\"data row2 col25\" >-0.02</td>\n",
       "      <td id=\"T_feccb_row2_col26\" class=\"data row2 col26\" >0.34</td>\n",
       "      <td id=\"T_feccb_row2_col27\" class=\"data row2 col27\" >-0.06</td>\n",
       "      <td id=\"T_feccb_row2_col28\" class=\"data row2 col28\" >-0.06</td>\n",
       "      <td id=\"T_feccb_row2_col29\" class=\"data row2 col29\" >-0.08</td>\n",
       "    </tr>\n",
       "    <tr>\n",
       "      <th id=\"T_feccb_level0_row3\" class=\"row_heading level0 row3\" >smoking</th>\n",
       "      <td id=\"T_feccb_row3_col0\" class=\"data row3 col0\" >-0.01</td>\n",
       "      <td id=\"T_feccb_row3_col1\" class=\"data row3 col1\" >-0.06</td>\n",
       "      <td id=\"T_feccb_row3_col2\" class=\"data row3 col2\" >0.37</td>\n",
       "      <td id=\"T_feccb_row3_col3\" class=\"data row3 col3\" >1.00</td>\n",
       "      <td id=\"T_feccb_row3_col4\" class=\"data row3 col4\" >0.59</td>\n",
       "      <td id=\"T_feccb_row3_col5\" class=\"data row3 col5\" >-0.06</td>\n",
       "      <td id=\"T_feccb_row3_col6\" class=\"data row3 col6\" >-0.02</td>\n",
       "      <td id=\"T_feccb_row3_col7\" class=\"data row3 col7\" >-0.01</td>\n",
       "      <td id=\"T_feccb_row3_col8\" class=\"data row3 col8\" >0.04</td>\n",
       "      <td id=\"T_feccb_row3_col9\" class=\"data row3 col9\" >-0.02</td>\n",
       "      <td id=\"T_feccb_row3_col10\" class=\"data row3 col10\" >-0.06</td>\n",
       "      <td id=\"T_feccb_row3_col11\" class=\"data row3 col11\" >0.02</td>\n",
       "      <td id=\"T_feccb_row3_col12\" class=\"data row3 col12\" >-0.03</td>\n",
       "      <td id=\"T_feccb_row3_col13\" class=\"data row3 col13\" >-0.05</td>\n",
       "      <td id=\"T_feccb_row3_col14\" class=\"data row3 col14\" >-0.07</td>\n",
       "      <td id=\"T_feccb_row3_col15\" class=\"data row3 col15\" >-0.03</td>\n",
       "      <td id=\"T_feccb_row3_col16\" class=\"data row3 col16\" >0.00</td>\n",
       "      <td id=\"T_feccb_row3_col17\" class=\"data row3 col17\" >0.01</td>\n",
       "      <td id=\"T_feccb_row3_col18\" class=\"data row3 col18\" >-0.01</td>\n",
       "      <td id=\"T_feccb_row3_col19\" class=\"data row3 col19\" >-0.01</td>\n",
       "      <td id=\"T_feccb_row3_col20\" class=\"data row3 col20\" >0.01</td>\n",
       "      <td id=\"T_feccb_row3_col21\" class=\"data row3 col21\" >0.05</td>\n",
       "      <td id=\"T_feccb_row3_col22\" class=\"data row3 col22\" >-0.03</td>\n",
       "      <td id=\"T_feccb_row3_col23\" class=\"data row3 col23\" >-0.01</td>\n",
       "      <td id=\"T_feccb_row3_col24\" class=\"data row3 col24\" >0.03</td>\n",
       "      <td id=\"T_feccb_row3_col25\" class=\"data row3 col25\" >0.01</td>\n",
       "      <td id=\"T_feccb_row3_col26\" class=\"data row3 col26\" >0.14</td>\n",
       "      <td id=\"T_feccb_row3_col27\" class=\"data row3 col27\" >-0.06</td>\n",
       "      <td id=\"T_feccb_row3_col28\" class=\"data row3 col28\" >-0.06</td>\n",
       "      <td id=\"T_feccb_row3_col29\" class=\"data row3 col29\" >-0.03</td>\n",
       "    </tr>\n",
       "    <tr>\n",
       "      <th id=\"T_feccb_level0_row4\" class=\"row_heading level0 row4\" >alcohol</th>\n",
       "      <td id=\"T_feccb_row4_col0\" class=\"data row4 col0\" >-0.01</td>\n",
       "      <td id=\"T_feccb_row4_col1\" class=\"data row4 col1\" >-0.10</td>\n",
       "      <td id=\"T_feccb_row4_col2\" class=\"data row4 col2\" >0.39</td>\n",
       "      <td id=\"T_feccb_row4_col3\" class=\"data row4 col3\" >0.59</td>\n",
       "      <td id=\"T_feccb_row4_col4\" class=\"data row4 col4\" >1.00</td>\n",
       "      <td id=\"T_feccb_row4_col5\" class=\"data row4 col5\" >-0.03</td>\n",
       "      <td id=\"T_feccb_row4_col6\" class=\"data row4 col6\" >-0.01</td>\n",
       "      <td id=\"T_feccb_row4_col7\" class=\"data row4 col7\" >0.00</td>\n",
       "      <td id=\"T_feccb_row4_col8\" class=\"data row4 col8\" >0.05</td>\n",
       "      <td id=\"T_feccb_row4_col9\" class=\"data row4 col9\" >0.02</td>\n",
       "      <td id=\"T_feccb_row4_col10\" class=\"data row4 col10\" >-0.05</td>\n",
       "      <td id=\"T_feccb_row4_col11\" class=\"data row4 col11\" >0.06</td>\n",
       "      <td id=\"T_feccb_row4_col12\" class=\"data row4 col12\" >-0.02</td>\n",
       "      <td id=\"T_feccb_row4_col13\" class=\"data row4 col13\" >-0.03</td>\n",
       "      <td id=\"T_feccb_row4_col14\" class=\"data row4 col14\" >-0.09</td>\n",
       "      <td id=\"T_feccb_row4_col15\" class=\"data row4 col15\" >-0.03</td>\n",
       "      <td id=\"T_feccb_row4_col16\" class=\"data row4 col16\" >-0.00</td>\n",
       "      <td id=\"T_feccb_row4_col17\" class=\"data row4 col17\" >0.01</td>\n",
       "      <td id=\"T_feccb_row4_col18\" class=\"data row4 col18\" >-0.01</td>\n",
       "      <td id=\"T_feccb_row4_col19\" class=\"data row4 col19\" >-0.01</td>\n",
       "      <td id=\"T_feccb_row4_col20\" class=\"data row4 col20\" >-0.06</td>\n",
       "      <td id=\"T_feccb_row4_col21\" class=\"data row4 col21\" >0.03</td>\n",
       "      <td id=\"T_feccb_row4_col22\" class=\"data row4 col22\" >-0.00</td>\n",
       "      <td id=\"T_feccb_row4_col23\" class=\"data row4 col23\" >-0.01</td>\n",
       "      <td id=\"T_feccb_row4_col24\" class=\"data row4 col24\" >0.02</td>\n",
       "      <td id=\"T_feccb_row4_col25\" class=\"data row4 col25\" >-0.01</td>\n",
       "      <td id=\"T_feccb_row4_col26\" class=\"data row4 col26\" >0.15</td>\n",
       "      <td id=\"T_feccb_row4_col27\" class=\"data row4 col27\" >-0.10</td>\n",
       "      <td id=\"T_feccb_row4_col28\" class=\"data row4 col28\" >-0.03</td>\n",
       "      <td id=\"T_feccb_row4_col29\" class=\"data row4 col29\" >-0.02</td>\n",
       "    </tr>\n",
       "    <tr>\n",
       "      <th id=\"T_feccb_level0_row5\" class=\"row_heading level0 row5\" >vital_bmi</th>\n",
       "      <td id=\"T_feccb_row5_col0\" class=\"data row5 col0\" >0.02</td>\n",
       "      <td id=\"T_feccb_row5_col1\" class=\"data row5 col1\" >-0.21</td>\n",
       "      <td id=\"T_feccb_row5_col2\" class=\"data row5 col2\" >-0.08</td>\n",
       "      <td id=\"T_feccb_row5_col3\" class=\"data row5 col3\" >-0.06</td>\n",
       "      <td id=\"T_feccb_row5_col4\" class=\"data row5 col4\" >-0.03</td>\n",
       "      <td id=\"T_feccb_row5_col5\" class=\"data row5 col5\" >1.00</td>\n",
       "      <td id=\"T_feccb_row5_col6\" class=\"data row5 col6\" >0.01</td>\n",
       "      <td id=\"T_feccb_row5_col7\" class=\"data row5 col7\" >0.04</td>\n",
       "      <td id=\"T_feccb_row5_col8\" class=\"data row5 col8\" >-0.04</td>\n",
       "      <td id=\"T_feccb_row5_col9\" class=\"data row5 col9\" >0.00</td>\n",
       "      <td id=\"T_feccb_row5_col10\" class=\"data row5 col10\" >0.13</td>\n",
       "      <td id=\"T_feccb_row5_col11\" class=\"data row5 col11\" >0.17</td>\n",
       "      <td id=\"T_feccb_row5_col12\" class=\"data row5 col12\" >0.00</td>\n",
       "      <td id=\"T_feccb_row5_col13\" class=\"data row5 col13\" >0.13</td>\n",
       "      <td id=\"T_feccb_row5_col14\" class=\"data row5 col14\" >0.07</td>\n",
       "      <td id=\"T_feccb_row5_col15\" class=\"data row5 col15\" >0.11</td>\n",
       "      <td id=\"T_feccb_row5_col16\" class=\"data row5 col16\" >-0.01</td>\n",
       "      <td id=\"T_feccb_row5_col17\" class=\"data row5 col17\" >0.01</td>\n",
       "      <td id=\"T_feccb_row5_col18\" class=\"data row5 col18\" >-0.02</td>\n",
       "      <td id=\"T_feccb_row5_col19\" class=\"data row5 col19\" >-0.01</td>\n",
       "      <td id=\"T_feccb_row5_col20\" class=\"data row5 col20\" >-0.01</td>\n",
       "      <td id=\"T_feccb_row5_col21\" class=\"data row5 col21\" >-0.03</td>\n",
       "      <td id=\"T_feccb_row5_col22\" class=\"data row5 col22\" >-0.01</td>\n",
       "      <td id=\"T_feccb_row5_col23\" class=\"data row5 col23\" >0.10</td>\n",
       "      <td id=\"T_feccb_row5_col24\" class=\"data row5 col24\" >0.15</td>\n",
       "      <td id=\"T_feccb_row5_col25\" class=\"data row5 col25\" >0.01</td>\n",
       "      <td id=\"T_feccb_row5_col26\" class=\"data row5 col26\" >0.11</td>\n",
       "      <td id=\"T_feccb_row5_col27\" class=\"data row5 col27\" >-0.20</td>\n",
       "      <td id=\"T_feccb_row5_col28\" class=\"data row5 col28\" >0.89</td>\n",
       "      <td id=\"T_feccb_row5_col29\" class=\"data row5 col29\" >-0.00</td>\n",
       "    </tr>\n",
       "    <tr>\n",
       "      <th id=\"T_feccb_level0_row6\" class=\"row_heading level0 row6\" >vital_hr</th>\n",
       "      <td id=\"T_feccb_row6_col0\" class=\"data row6 col0\" >-0.02</td>\n",
       "      <td id=\"T_feccb_row6_col1\" class=\"data row6 col1\" >-0.03</td>\n",
       "      <td id=\"T_feccb_row6_col2\" class=\"data row6 col2\" >-0.00</td>\n",
       "      <td id=\"T_feccb_row6_col3\" class=\"data row6 col3\" >-0.02</td>\n",
       "      <td id=\"T_feccb_row6_col4\" class=\"data row6 col4\" >-0.01</td>\n",
       "      <td id=\"T_feccb_row6_col5\" class=\"data row6 col5\" >0.01</td>\n",
       "      <td id=\"T_feccb_row6_col6\" class=\"data row6 col6\" >1.00</td>\n",
       "      <td id=\"T_feccb_row6_col7\" class=\"data row6 col7\" >0.21</td>\n",
       "      <td id=\"T_feccb_row6_col8\" class=\"data row6 col8\" >0.03</td>\n",
       "      <td id=\"T_feccb_row6_col9\" class=\"data row6 col9\" >0.01</td>\n",
       "      <td id=\"T_feccb_row6_col10\" class=\"data row6 col10\" >-0.00</td>\n",
       "      <td id=\"T_feccb_row6_col11\" class=\"data row6 col11\" >0.02</td>\n",
       "      <td id=\"T_feccb_row6_col12\" class=\"data row6 col12\" >0.01</td>\n",
       "      <td id=\"T_feccb_row6_col13\" class=\"data row6 col13\" >0.00</td>\n",
       "      <td id=\"T_feccb_row6_col14\" class=\"data row6 col14\" >0.02</td>\n",
       "      <td id=\"T_feccb_row6_col15\" class=\"data row6 col15\" >0.05</td>\n",
       "      <td id=\"T_feccb_row6_col16\" class=\"data row6 col16\" >0.01</td>\n",
       "      <td id=\"T_feccb_row6_col17\" class=\"data row6 col17\" >-0.01</td>\n",
       "      <td id=\"T_feccb_row6_col18\" class=\"data row6 col18\" >0.01</td>\n",
       "      <td id=\"T_feccb_row6_col19\" class=\"data row6 col19\" >-0.00</td>\n",
       "      <td id=\"T_feccb_row6_col20\" class=\"data row6 col20\" >0.01</td>\n",
       "      <td id=\"T_feccb_row6_col21\" class=\"data row6 col21\" >-0.01</td>\n",
       "      <td id=\"T_feccb_row6_col22\" class=\"data row6 col22\" >-0.01</td>\n",
       "      <td id=\"T_feccb_row6_col23\" class=\"data row6 col23\" >0.05</td>\n",
       "      <td id=\"T_feccb_row6_col24\" class=\"data row6 col24\" >0.01</td>\n",
       "      <td id=\"T_feccb_row6_col25\" class=\"data row6 col25\" >-0.01</td>\n",
       "      <td id=\"T_feccb_row6_col26\" class=\"data row6 col26\" >0.01</td>\n",
       "      <td id=\"T_feccb_row6_col27\" class=\"data row6 col27\" >-0.03</td>\n",
       "      <td id=\"T_feccb_row6_col28\" class=\"data row6 col28\" >0.01</td>\n",
       "      <td id=\"T_feccb_row6_col29\" class=\"data row6 col29\" >0.01</td>\n",
       "    </tr>\n",
       "    <tr>\n",
       "      <th id=\"T_feccb_level0_row7\" class=\"row_heading level0 row7\" >vital_pulse</th>\n",
       "      <td id=\"T_feccb_row7_col0\" class=\"data row7 col0\" >0.03</td>\n",
       "      <td id=\"T_feccb_row7_col1\" class=\"data row7 col1\" >-0.17</td>\n",
       "      <td id=\"T_feccb_row7_col2\" class=\"data row7 col2\" >-0.04</td>\n",
       "      <td id=\"T_feccb_row7_col3\" class=\"data row7 col3\" >-0.01</td>\n",
       "      <td id=\"T_feccb_row7_col4\" class=\"data row7 col4\" >0.00</td>\n",
       "      <td id=\"T_feccb_row7_col5\" class=\"data row7 col5\" >0.04</td>\n",
       "      <td id=\"T_feccb_row7_col6\" class=\"data row7 col6\" >0.21</td>\n",
       "      <td id=\"T_feccb_row7_col7\" class=\"data row7 col7\" >1.00</td>\n",
       "      <td id=\"T_feccb_row7_col8\" class=\"data row7 col8\" >0.02</td>\n",
       "      <td id=\"T_feccb_row7_col9\" class=\"data row7 col9\" >0.04</td>\n",
       "      <td id=\"T_feccb_row7_col10\" class=\"data row7 col10\" >0.06</td>\n",
       "      <td id=\"T_feccb_row7_col11\" class=\"data row7 col11\" >0.19</td>\n",
       "      <td id=\"T_feccb_row7_col12\" class=\"data row7 col12\" >0.01</td>\n",
       "      <td id=\"T_feccb_row7_col13\" class=\"data row7 col13\" >-0.01</td>\n",
       "      <td id=\"T_feccb_row7_col14\" class=\"data row7 col14\" >-0.03</td>\n",
       "      <td id=\"T_feccb_row7_col15\" class=\"data row7 col15\" >0.08</td>\n",
       "      <td id=\"T_feccb_row7_col16\" class=\"data row7 col16\" >-0.01</td>\n",
       "      <td id=\"T_feccb_row7_col17\" class=\"data row7 col17\" >-0.04</td>\n",
       "      <td id=\"T_feccb_row7_col18\" class=\"data row7 col18\" >-0.01</td>\n",
       "      <td id=\"T_feccb_row7_col19\" class=\"data row7 col19\" >0.01</td>\n",
       "      <td id=\"T_feccb_row7_col20\" class=\"data row7 col20\" >-0.04</td>\n",
       "      <td id=\"T_feccb_row7_col21\" class=\"data row7 col21\" >-0.04</td>\n",
       "      <td id=\"T_feccb_row7_col22\" class=\"data row7 col22\" >0.04</td>\n",
       "      <td id=\"T_feccb_row7_col23\" class=\"data row7 col23\" >0.15</td>\n",
       "      <td id=\"T_feccb_row7_col24\" class=\"data row7 col24\" >0.06</td>\n",
       "      <td id=\"T_feccb_row7_col25\" class=\"data row7 col25\" >-0.05</td>\n",
       "      <td id=\"T_feccb_row7_col26\" class=\"data row7 col26\" >0.02</td>\n",
       "      <td id=\"T_feccb_row7_col27\" class=\"data row7 col27\" >-0.17</td>\n",
       "      <td id=\"T_feccb_row7_col28\" class=\"data row7 col28\" >0.01</td>\n",
       "      <td id=\"T_feccb_row7_col29\" class=\"data row7 col29\" >0.02</td>\n",
       "    </tr>\n",
       "    <tr>\n",
       "      <th id=\"T_feccb_level0_row8\" class=\"row_heading level0 row8\" >vital_temperature</th>\n",
       "      <td id=\"T_feccb_row8_col0\" class=\"data row8 col0\" >-0.16</td>\n",
       "      <td id=\"T_feccb_row8_col1\" class=\"data row8 col1\" >-0.02</td>\n",
       "      <td id=\"T_feccb_row8_col2\" class=\"data row8 col2\" >-0.00</td>\n",
       "      <td id=\"T_feccb_row8_col3\" class=\"data row8 col3\" >0.04</td>\n",
       "      <td id=\"T_feccb_row8_col4\" class=\"data row8 col4\" >0.05</td>\n",
       "      <td id=\"T_feccb_row8_col5\" class=\"data row8 col5\" >-0.04</td>\n",
       "      <td id=\"T_feccb_row8_col6\" class=\"data row8 col6\" >0.03</td>\n",
       "      <td id=\"T_feccb_row8_col7\" class=\"data row8 col7\" >0.02</td>\n",
       "      <td id=\"T_feccb_row8_col8\" class=\"data row8 col8\" >1.00</td>\n",
       "      <td id=\"T_feccb_row8_col9\" class=\"data row8 col9\" >0.11</td>\n",
       "      <td id=\"T_feccb_row8_col10\" class=\"data row8 col10\" >-0.13</td>\n",
       "      <td id=\"T_feccb_row8_col11\" class=\"data row8 col11\" >-0.11</td>\n",
       "      <td id=\"T_feccb_row8_col12\" class=\"data row8 col12\" >-0.00</td>\n",
       "      <td id=\"T_feccb_row8_col13\" class=\"data row8 col13\" >-0.03</td>\n",
       "      <td id=\"T_feccb_row8_col14\" class=\"data row8 col14\" >-0.05</td>\n",
       "      <td id=\"T_feccb_row8_col15\" class=\"data row8 col15\" >0.01</td>\n",
       "      <td id=\"T_feccb_row8_col16\" class=\"data row8 col16\" >-0.00</td>\n",
       "      <td id=\"T_feccb_row8_col17\" class=\"data row8 col17\" >-0.00</td>\n",
       "      <td id=\"T_feccb_row8_col18\" class=\"data row8 col18\" >-0.00</td>\n",
       "      <td id=\"T_feccb_row8_col19\" class=\"data row8 col19\" >-0.02</td>\n",
       "      <td id=\"T_feccb_row8_col20\" class=\"data row8 col20\" >-0.06</td>\n",
       "      <td id=\"T_feccb_row8_col21\" class=\"data row8 col21\" >0.03</td>\n",
       "      <td id=\"T_feccb_row8_col22\" class=\"data row8 col22\" >0.02</td>\n",
       "      <td id=\"T_feccb_row8_col23\" class=\"data row8 col23\" >0.02</td>\n",
       "      <td id=\"T_feccb_row8_col24\" class=\"data row8 col24\" >0.01</td>\n",
       "      <td id=\"T_feccb_row8_col25\" class=\"data row8 col25\" >0.02</td>\n",
       "      <td id=\"T_feccb_row8_col26\" class=\"data row8 col26\" >-0.03</td>\n",
       "      <td id=\"T_feccb_row8_col27\" class=\"data row8 col27\" >-0.02</td>\n",
       "      <td id=\"T_feccb_row8_col28\" class=\"data row8 col28\" >-0.04</td>\n",
       "      <td id=\"T_feccb_row8_col29\" class=\"data row8 col29\" >0.00</td>\n",
       "    </tr>\n",
       "    <tr>\n",
       "      <th id=\"T_feccb_level0_row9\" class=\"row_heading level0 row9\" >vital_rr</th>\n",
       "      <td id=\"T_feccb_row9_col0\" class=\"data row9 col0\" >0.05</td>\n",
       "      <td id=\"T_feccb_row9_col1\" class=\"data row9 col1\" >0.01</td>\n",
       "      <td id=\"T_feccb_row9_col2\" class=\"data row9 col2\" >-0.07</td>\n",
       "      <td id=\"T_feccb_row9_col3\" class=\"data row9 col3\" >-0.02</td>\n",
       "      <td id=\"T_feccb_row9_col4\" class=\"data row9 col4\" >0.02</td>\n",
       "      <td id=\"T_feccb_row9_col5\" class=\"data row9 col5\" >0.00</td>\n",
       "      <td id=\"T_feccb_row9_col6\" class=\"data row9 col6\" >0.01</td>\n",
       "      <td id=\"T_feccb_row9_col7\" class=\"data row9 col7\" >0.04</td>\n",
       "      <td id=\"T_feccb_row9_col8\" class=\"data row9 col8\" >0.11</td>\n",
       "      <td id=\"T_feccb_row9_col9\" class=\"data row9 col9\" >1.00</td>\n",
       "      <td id=\"T_feccb_row9_col10\" class=\"data row9 col10\" >-0.01</td>\n",
       "      <td id=\"T_feccb_row9_col11\" class=\"data row9 col11\" >-0.04</td>\n",
       "      <td id=\"T_feccb_row9_col12\" class=\"data row9 col12\" >0.07</td>\n",
       "      <td id=\"T_feccb_row9_col13\" class=\"data row9 col13\" >-0.00</td>\n",
       "      <td id=\"T_feccb_row9_col14\" class=\"data row9 col14\" >0.01</td>\n",
       "      <td id=\"T_feccb_row9_col15\" class=\"data row9 col15\" >0.06</td>\n",
       "      <td id=\"T_feccb_row9_col16\" class=\"data row9 col16\" >-0.01</td>\n",
       "      <td id=\"T_feccb_row9_col17\" class=\"data row9 col17\" >0.03</td>\n",
       "      <td id=\"T_feccb_row9_col18\" class=\"data row9 col18\" >0.01</td>\n",
       "      <td id=\"T_feccb_row9_col19\" class=\"data row9 col19\" >-0.02</td>\n",
       "      <td id=\"T_feccb_row9_col20\" class=\"data row9 col20\" >-0.28</td>\n",
       "      <td id=\"T_feccb_row9_col21\" class=\"data row9 col21\" >0.01</td>\n",
       "      <td id=\"T_feccb_row9_col22\" class=\"data row9 col22\" >0.07</td>\n",
       "      <td id=\"T_feccb_row9_col23\" class=\"data row9 col23\" >0.04</td>\n",
       "      <td id=\"T_feccb_row9_col24\" class=\"data row9 col24\" >0.02</td>\n",
       "      <td id=\"T_feccb_row9_col25\" class=\"data row9 col25\" >0.03</td>\n",
       "      <td id=\"T_feccb_row9_col26\" class=\"data row9 col26\" >-0.03</td>\n",
       "      <td id=\"T_feccb_row9_col27\" class=\"data row9 col27\" >0.01</td>\n",
       "      <td id=\"T_feccb_row9_col28\" class=\"data row9 col28\" >-0.01</td>\n",
       "      <td id=\"T_feccb_row9_col29\" class=\"data row9 col29\" >0.06</td>\n",
       "    </tr>\n",
       "    <tr>\n",
       "      <th id=\"T_feccb_level0_row10\" class=\"row_heading level0 row10\" >vital_bps</th>\n",
       "      <td id=\"T_feccb_row10_col0\" class=\"data row10 col0\" >0.06</td>\n",
       "      <td id=\"T_feccb_row10_col1\" class=\"data row10 col1\" >0.12</td>\n",
       "      <td id=\"T_feccb_row10_col2\" class=\"data row10 col2\" >-0.01</td>\n",
       "      <td id=\"T_feccb_row10_col3\" class=\"data row10 col3\" >-0.06</td>\n",
       "      <td id=\"T_feccb_row10_col4\" class=\"data row10 col4\" >-0.05</td>\n",
       "      <td id=\"T_feccb_row10_col5\" class=\"data row10 col5\" >0.13</td>\n",
       "      <td id=\"T_feccb_row10_col6\" class=\"data row10 col6\" >-0.00</td>\n",
       "      <td id=\"T_feccb_row10_col7\" class=\"data row10 col7\" >0.06</td>\n",
       "      <td id=\"T_feccb_row10_col8\" class=\"data row10 col8\" >-0.13</td>\n",
       "      <td id=\"T_feccb_row10_col9\" class=\"data row10 col9\" >-0.01</td>\n",
       "      <td id=\"T_feccb_row10_col10\" class=\"data row10 col10\" >1.00</td>\n",
       "      <td id=\"T_feccb_row10_col11\" class=\"data row10 col11\" >0.48</td>\n",
       "      <td id=\"T_feccb_row10_col12\" class=\"data row10 col12\" >0.07</td>\n",
       "      <td id=\"T_feccb_row10_col13\" class=\"data row10 col13\" >0.21</td>\n",
       "      <td id=\"T_feccb_row10_col14\" class=\"data row10 col14\" >0.03</td>\n",
       "      <td id=\"T_feccb_row10_col15\" class=\"data row10 col15\" >0.01</td>\n",
       "      <td id=\"T_feccb_row10_col16\" class=\"data row10 col16\" >-0.01</td>\n",
       "      <td id=\"T_feccb_row10_col17\" class=\"data row10 col17\" >0.02</td>\n",
       "      <td id=\"T_feccb_row10_col18\" class=\"data row10 col18\" >-0.02</td>\n",
       "      <td id=\"T_feccb_row10_col19\" class=\"data row10 col19\" >0.02</td>\n",
       "      <td id=\"T_feccb_row10_col20\" class=\"data row10 col20\" >0.04</td>\n",
       "      <td id=\"T_feccb_row10_col21\" class=\"data row10 col21\" >0.05</td>\n",
       "      <td id=\"T_feccb_row10_col22\" class=\"data row10 col22\" >0.06</td>\n",
       "      <td id=\"T_feccb_row10_col23\" class=\"data row10 col23\" >0.04</td>\n",
       "      <td id=\"T_feccb_row10_col24\" class=\"data row10 col24\" >0.07</td>\n",
       "      <td id=\"T_feccb_row10_col25\" class=\"data row10 col25\" >-0.00</td>\n",
       "      <td id=\"T_feccb_row10_col26\" class=\"data row10 col26\" >0.03</td>\n",
       "      <td id=\"T_feccb_row10_col27\" class=\"data row10 col27\" >0.12</td>\n",
       "      <td id=\"T_feccb_row10_col28\" class=\"data row10 col28\" >0.13</td>\n",
       "      <td id=\"T_feccb_row10_col29\" class=\"data row10 col29\" >0.06</td>\n",
       "    </tr>\n",
       "    <tr>\n",
       "      <th id=\"T_feccb_level0_row11\" class=\"row_heading level0 row11\" >vital_bpd</th>\n",
       "      <td id=\"T_feccb_row11_col0\" class=\"data row11 col0\" >0.10</td>\n",
       "      <td id=\"T_feccb_row11_col1\" class=\"data row11 col1\" >-0.30</td>\n",
       "      <td id=\"T_feccb_row11_col2\" class=\"data row11 col2\" >0.11</td>\n",
       "      <td id=\"T_feccb_row11_col3\" class=\"data row11 col3\" >0.02</td>\n",
       "      <td id=\"T_feccb_row11_col4\" class=\"data row11 col4\" >0.06</td>\n",
       "      <td id=\"T_feccb_row11_col5\" class=\"data row11 col5\" >0.17</td>\n",
       "      <td id=\"T_feccb_row11_col6\" class=\"data row11 col6\" >0.02</td>\n",
       "      <td id=\"T_feccb_row11_col7\" class=\"data row11 col7\" >0.19</td>\n",
       "      <td id=\"T_feccb_row11_col8\" class=\"data row11 col8\" >-0.11</td>\n",
       "      <td id=\"T_feccb_row11_col9\" class=\"data row11 col9\" >-0.04</td>\n",
       "      <td id=\"T_feccb_row11_col10\" class=\"data row11 col10\" >0.48</td>\n",
       "      <td id=\"T_feccb_row11_col11\" class=\"data row11 col11\" >1.00</td>\n",
       "      <td id=\"T_feccb_row11_col12\" class=\"data row11 col12\" >0.11</td>\n",
       "      <td id=\"T_feccb_row11_col13\" class=\"data row11 col13\" >0.03</td>\n",
       "      <td id=\"T_feccb_row11_col14\" class=\"data row11 col14\" >-0.02</td>\n",
       "      <td id=\"T_feccb_row11_col15\" class=\"data row11 col15\" >-0.11</td>\n",
       "      <td id=\"T_feccb_row11_col16\" class=\"data row11 col16\" >0.00</td>\n",
       "      <td id=\"T_feccb_row11_col17\" class=\"data row11 col17\" >-0.11</td>\n",
       "      <td id=\"T_feccb_row11_col18\" class=\"data row11 col18\" >-0.00</td>\n",
       "      <td id=\"T_feccb_row11_col19\" class=\"data row11 col19\" >0.01</td>\n",
       "      <td id=\"T_feccb_row11_col20\" class=\"data row11 col20\" >0.08</td>\n",
       "      <td id=\"T_feccb_row11_col21\" class=\"data row11 col21\" >-0.06</td>\n",
       "      <td id=\"T_feccb_row11_col22\" class=\"data row11 col22\" >0.10</td>\n",
       "      <td id=\"T_feccb_row11_col23\" class=\"data row11 col23\" >-0.02</td>\n",
       "      <td id=\"T_feccb_row11_col24\" class=\"data row11 col24\" >0.10</td>\n",
       "      <td id=\"T_feccb_row11_col25\" class=\"data row11 col25\" >-0.11</td>\n",
       "      <td id=\"T_feccb_row11_col26\" class=\"data row11 col26\" >0.30</td>\n",
       "      <td id=\"T_feccb_row11_col27\" class=\"data row11 col27\" >-0.30</td>\n",
       "      <td id=\"T_feccb_row11_col28\" class=\"data row11 col28\" >0.17</td>\n",
       "      <td id=\"T_feccb_row11_col29\" class=\"data row11 col29\" >0.10</td>\n",
       "    </tr>\n",
       "    <tr>\n",
       "      <th id=\"T_feccb_level0_row12\" class=\"row_heading level0 row12\" >LDL-Cholesterol</th>\n",
       "      <td id=\"T_feccb_row12_col0\" class=\"data row12 col0\" >0.05</td>\n",
       "      <td id=\"T_feccb_row12_col1\" class=\"data row12 col1\" >-0.11</td>\n",
       "      <td id=\"T_feccb_row12_col2\" class=\"data row12 col2\" >-0.09</td>\n",
       "      <td id=\"T_feccb_row12_col3\" class=\"data row12 col3\" >-0.03</td>\n",
       "      <td id=\"T_feccb_row12_col4\" class=\"data row12 col4\" >-0.02</td>\n",
       "      <td id=\"T_feccb_row12_col5\" class=\"data row12 col5\" >0.00</td>\n",
       "      <td id=\"T_feccb_row12_col6\" class=\"data row12 col6\" >0.01</td>\n",
       "      <td id=\"T_feccb_row12_col7\" class=\"data row12 col7\" >0.01</td>\n",
       "      <td id=\"T_feccb_row12_col8\" class=\"data row12 col8\" >-0.00</td>\n",
       "      <td id=\"T_feccb_row12_col9\" class=\"data row12 col9\" >0.07</td>\n",
       "      <td id=\"T_feccb_row12_col10\" class=\"data row12 col10\" >0.07</td>\n",
       "      <td id=\"T_feccb_row12_col11\" class=\"data row12 col11\" >0.11</td>\n",
       "      <td id=\"T_feccb_row12_col12\" class=\"data row12 col12\" >1.00</td>\n",
       "      <td id=\"T_feccb_row12_col13\" class=\"data row12 col13\" >-0.06</td>\n",
       "      <td id=\"T_feccb_row12_col14\" class=\"data row12 col14\" >-0.03</td>\n",
       "      <td id=\"T_feccb_row12_col15\" class=\"data row12 col15\" >-0.13</td>\n",
       "      <td id=\"T_feccb_row12_col16\" class=\"data row12 col16\" >-0.02</td>\n",
       "      <td id=\"T_feccb_row12_col17\" class=\"data row12 col17\" >-0.05</td>\n",
       "      <td id=\"T_feccb_row12_col18\" class=\"data row12 col18\" >-0.06</td>\n",
       "      <td id=\"T_feccb_row12_col19\" class=\"data row12 col19\" >-0.02</td>\n",
       "      <td id=\"T_feccb_row12_col20\" class=\"data row12 col20\" >-0.17</td>\n",
       "      <td id=\"T_feccb_row12_col21\" class=\"data row12 col21\" >-0.05</td>\n",
       "      <td id=\"T_feccb_row12_col22\" class=\"data row12 col22\" >0.88</td>\n",
       "      <td id=\"T_feccb_row12_col23\" class=\"data row12 col23\" >0.02</td>\n",
       "      <td id=\"T_feccb_row12_col24\" class=\"data row12 col24\" >0.06</td>\n",
       "      <td id=\"T_feccb_row12_col25\" class=\"data row12 col25\" >-0.01</td>\n",
       "      <td id=\"T_feccb_row12_col26\" class=\"data row12 col26\" >0.12</td>\n",
       "      <td id=\"T_feccb_row12_col27\" class=\"data row12 col27\" >-0.10</td>\n",
       "      <td id=\"T_feccb_row12_col28\" class=\"data row12 col28\" >0.00</td>\n",
       "      <td id=\"T_feccb_row12_col29\" class=\"data row12 col29\" >0.94</td>\n",
       "    </tr>\n",
       "    <tr>\n",
       "      <th id=\"T_feccb_level0_row13\" class=\"row_heading level0 row13\" >Hypertension</th>\n",
       "      <td id=\"T_feccb_row13_col0\" class=\"data row13 col0\" >-0.03</td>\n",
       "      <td id=\"T_feccb_row13_col1\" class=\"data row13 col1\" >0.21</td>\n",
       "      <td id=\"T_feccb_row13_col2\" class=\"data row13 col2\" >-0.04</td>\n",
       "      <td id=\"T_feccb_row13_col3\" class=\"data row13 col3\" >-0.05</td>\n",
       "      <td id=\"T_feccb_row13_col4\" class=\"data row13 col4\" >-0.03</td>\n",
       "      <td id=\"T_feccb_row13_col5\" class=\"data row13 col5\" >0.13</td>\n",
       "      <td id=\"T_feccb_row13_col6\" class=\"data row13 col6\" >0.00</td>\n",
       "      <td id=\"T_feccb_row13_col7\" class=\"data row13 col7\" >-0.01</td>\n",
       "      <td id=\"T_feccb_row13_col8\" class=\"data row13 col8\" >-0.03</td>\n",
       "      <td id=\"T_feccb_row13_col9\" class=\"data row13 col9\" >-0.00</td>\n",
       "      <td id=\"T_feccb_row13_col10\" class=\"data row13 col10\" >0.21</td>\n",
       "      <td id=\"T_feccb_row13_col11\" class=\"data row13 col11\" >0.03</td>\n",
       "      <td id=\"T_feccb_row13_col12\" class=\"data row13 col12\" >-0.06</td>\n",
       "      <td id=\"T_feccb_row13_col13\" class=\"data row13 col13\" >1.00</td>\n",
       "      <td id=\"T_feccb_row13_col14\" class=\"data row13 col14\" >0.21</td>\n",
       "      <td id=\"T_feccb_row13_col15\" class=\"data row13 col15\" >0.07</td>\n",
       "      <td id=\"T_feccb_row13_col16\" class=\"data row13 col16\" >0.00</td>\n",
       "      <td id=\"T_feccb_row13_col17\" class=\"data row13 col17\" >0.10</td>\n",
       "      <td id=\"T_feccb_row13_col18\" class=\"data row13 col18\" >-0.03</td>\n",
       "      <td id=\"T_feccb_row13_col19\" class=\"data row13 col19\" >0.01</td>\n",
       "      <td id=\"T_feccb_row13_col20\" class=\"data row13 col20\" >-0.04</td>\n",
       "      <td id=\"T_feccb_row13_col21\" class=\"data row13 col21\" >0.04</td>\n",
       "      <td id=\"T_feccb_row13_col22\" class=\"data row13 col22\" >-0.05</td>\n",
       "      <td id=\"T_feccb_row13_col23\" class=\"data row13 col23\" >-0.01</td>\n",
       "      <td id=\"T_feccb_row13_col24\" class=\"data row13 col24\" >0.01</td>\n",
       "      <td id=\"T_feccb_row13_col25\" class=\"data row13 col25\" >-0.02</td>\n",
       "      <td id=\"T_feccb_row13_col26\" class=\"data row13 col26\" >-0.03</td>\n",
       "      <td id=\"T_feccb_row13_col27\" class=\"data row13 col27\" >0.21</td>\n",
       "      <td id=\"T_feccb_row13_col28\" class=\"data row13 col28\" >0.14</td>\n",
       "      <td id=\"T_feccb_row13_col29\" class=\"data row13 col29\" >-0.07</td>\n",
       "    </tr>\n",
       "    <tr>\n",
       "      <th id=\"T_feccb_level0_row14\" class=\"row_heading level0 row14\" >Hyperlipidaemia</th>\n",
       "      <td id=\"T_feccb_row14_col0\" class=\"data row14 col0\" >-0.04</td>\n",
       "      <td id=\"T_feccb_row14_col1\" class=\"data row14 col1\" >0.10</td>\n",
       "      <td id=\"T_feccb_row14_col2\" class=\"data row14 col2\" >-0.06</td>\n",
       "      <td id=\"T_feccb_row14_col3\" class=\"data row14 col3\" >-0.07</td>\n",
       "      <td id=\"T_feccb_row14_col4\" class=\"data row14 col4\" >-0.09</td>\n",
       "      <td id=\"T_feccb_row14_col5\" class=\"data row14 col5\" >0.07</td>\n",
       "      <td id=\"T_feccb_row14_col6\" class=\"data row14 col6\" >0.02</td>\n",
       "      <td id=\"T_feccb_row14_col7\" class=\"data row14 col7\" >-0.03</td>\n",
       "      <td id=\"T_feccb_row14_col8\" class=\"data row14 col8\" >-0.05</td>\n",
       "      <td id=\"T_feccb_row14_col9\" class=\"data row14 col9\" >0.01</td>\n",
       "      <td id=\"T_feccb_row14_col10\" class=\"data row14 col10\" >0.03</td>\n",
       "      <td id=\"T_feccb_row14_col11\" class=\"data row14 col11\" >-0.02</td>\n",
       "      <td id=\"T_feccb_row14_col12\" class=\"data row14 col12\" >-0.03</td>\n",
       "      <td id=\"T_feccb_row14_col13\" class=\"data row14 col13\" >0.21</td>\n",
       "      <td id=\"T_feccb_row14_col14\" class=\"data row14 col14\" >1.00</td>\n",
       "      <td id=\"T_feccb_row14_col15\" class=\"data row14 col15\" >0.10</td>\n",
       "      <td id=\"T_feccb_row14_col16\" class=\"data row14 col16\" >0.00</td>\n",
       "      <td id=\"T_feccb_row14_col17\" class=\"data row14 col17\" >0.05</td>\n",
       "      <td id=\"T_feccb_row14_col18\" class=\"data row14 col18\" >-0.03</td>\n",
       "      <td id=\"T_feccb_row14_col19\" class=\"data row14 col19\" >-0.02</td>\n",
       "      <td id=\"T_feccb_row14_col20\" class=\"data row14 col20\" >0.05</td>\n",
       "      <td id=\"T_feccb_row14_col21\" class=\"data row14 col21\" >-0.07</td>\n",
       "      <td id=\"T_feccb_row14_col22\" class=\"data row14 col22\" >-0.04</td>\n",
       "      <td id=\"T_feccb_row14_col23\" class=\"data row14 col23\" >0.02</td>\n",
       "      <td id=\"T_feccb_row14_col24\" class=\"data row14 col24\" >-0.02</td>\n",
       "      <td id=\"T_feccb_row14_col25\" class=\"data row14 col25\" >0.03</td>\n",
       "      <td id=\"T_feccb_row14_col26\" class=\"data row14 col26\" >0.01</td>\n",
       "      <td id=\"T_feccb_row14_col27\" class=\"data row14 col27\" >0.11</td>\n",
       "      <td id=\"T_feccb_row14_col28\" class=\"data row14 col28\" >0.07</td>\n",
       "      <td id=\"T_feccb_row14_col29\" class=\"data row14 col29\" >-0.03</td>\n",
       "    </tr>\n",
       "    <tr>\n",
       "      <th id=\"T_feccb_level0_row15\" class=\"row_heading level0 row15\" >Diabetes_Mellitus</th>\n",
       "      <td id=\"T_feccb_row15_col0\" class=\"data row15 col0\" >-0.04</td>\n",
       "      <td id=\"T_feccb_row15_col1\" class=\"data row15 col1\" >0.03</td>\n",
       "      <td id=\"T_feccb_row15_col2\" class=\"data row15 col2\" >-0.06</td>\n",
       "      <td id=\"T_feccb_row15_col3\" class=\"data row15 col3\" >-0.03</td>\n",
       "      <td id=\"T_feccb_row15_col4\" class=\"data row15 col4\" >-0.03</td>\n",
       "      <td id=\"T_feccb_row15_col5\" class=\"data row15 col5\" >0.11</td>\n",
       "      <td id=\"T_feccb_row15_col6\" class=\"data row15 col6\" >0.05</td>\n",
       "      <td id=\"T_feccb_row15_col7\" class=\"data row15 col7\" >0.08</td>\n",
       "      <td id=\"T_feccb_row15_col8\" class=\"data row15 col8\" >0.01</td>\n",
       "      <td id=\"T_feccb_row15_col9\" class=\"data row15 col9\" >0.06</td>\n",
       "      <td id=\"T_feccb_row15_col10\" class=\"data row15 col10\" >0.01</td>\n",
       "      <td id=\"T_feccb_row15_col11\" class=\"data row15 col11\" >-0.11</td>\n",
       "      <td id=\"T_feccb_row15_col12\" class=\"data row15 col12\" >-0.13</td>\n",
       "      <td id=\"T_feccb_row15_col13\" class=\"data row15 col13\" >0.07</td>\n",
       "      <td id=\"T_feccb_row15_col14\" class=\"data row15 col14\" >0.10</td>\n",
       "      <td id=\"T_feccb_row15_col15\" class=\"data row15 col15\" >1.00</td>\n",
       "      <td id=\"T_feccb_row15_col16\" class=\"data row15 col16\" >-0.00</td>\n",
       "      <td id=\"T_feccb_row15_col17\" class=\"data row15 col17\" >0.20</td>\n",
       "      <td id=\"T_feccb_row15_col18\" class=\"data row15 col18\" >-0.02</td>\n",
       "      <td id=\"T_feccb_row15_col19\" class=\"data row15 col19\" >0.00</td>\n",
       "      <td id=\"T_feccb_row15_col20\" class=\"data row15 col20\" >-0.09</td>\n",
       "      <td id=\"T_feccb_row15_col21\" class=\"data row15 col21\" >0.04</td>\n",
       "      <td id=\"T_feccb_row15_col22\" class=\"data row15 col22\" >-0.12</td>\n",
       "      <td id=\"T_feccb_row15_col23\" class=\"data row15 col23\" >0.45</td>\n",
       "      <td id=\"T_feccb_row15_col24\" class=\"data row15 col24\" >0.09</td>\n",
       "      <td id=\"T_feccb_row15_col25\" class=\"data row15 col25\" >0.17</td>\n",
       "      <td id=\"T_feccb_row15_col26\" class=\"data row15 col26\" >-0.26</td>\n",
       "      <td id=\"T_feccb_row15_col27\" class=\"data row15 col27\" >0.03</td>\n",
       "      <td id=\"T_feccb_row15_col28\" class=\"data row15 col28\" >0.10</td>\n",
       "      <td id=\"T_feccb_row15_col29\" class=\"data row15 col29\" >-0.12</td>\n",
       "    </tr>\n",
       "    <tr>\n",
       "      <th id=\"T_feccb_level0_row16\" class=\"row_heading level0 row16\" >Hemiplegia</th>\n",
       "      <td id=\"T_feccb_row16_col0\" class=\"data row16 col0\" >-0.01</td>\n",
       "      <td id=\"T_feccb_row16_col1\" class=\"data row16 col1\" >0.00</td>\n",
       "      <td id=\"T_feccb_row16_col2\" class=\"data row16 col2\" >0.03</td>\n",
       "      <td id=\"T_feccb_row16_col3\" class=\"data row16 col3\" >0.00</td>\n",
       "      <td id=\"T_feccb_row16_col4\" class=\"data row16 col4\" >-0.00</td>\n",
       "      <td id=\"T_feccb_row16_col5\" class=\"data row16 col5\" >-0.01</td>\n",
       "      <td id=\"T_feccb_row16_col6\" class=\"data row16 col6\" >0.01</td>\n",
       "      <td id=\"T_feccb_row16_col7\" class=\"data row16 col7\" >-0.01</td>\n",
       "      <td id=\"T_feccb_row16_col8\" class=\"data row16 col8\" >-0.00</td>\n",
       "      <td id=\"T_feccb_row16_col9\" class=\"data row16 col9\" >-0.01</td>\n",
       "      <td id=\"T_feccb_row16_col10\" class=\"data row16 col10\" >-0.01</td>\n",
       "      <td id=\"T_feccb_row16_col11\" class=\"data row16 col11\" >0.00</td>\n",
       "      <td id=\"T_feccb_row16_col12\" class=\"data row16 col12\" >-0.02</td>\n",
       "      <td id=\"T_feccb_row16_col13\" class=\"data row16 col13\" >0.00</td>\n",
       "      <td id=\"T_feccb_row16_col14\" class=\"data row16 col14\" >0.00</td>\n",
       "      <td id=\"T_feccb_row16_col15\" class=\"data row16 col15\" >-0.00</td>\n",
       "      <td id=\"T_feccb_row16_col16\" class=\"data row16 col16\" >1.00</td>\n",
       "      <td id=\"T_feccb_row16_col17\" class=\"data row16 col17\" >0.00</td>\n",
       "      <td id=\"T_feccb_row16_col18\" class=\"data row16 col18\" >0.01</td>\n",
       "      <td id=\"T_feccb_row16_col19\" class=\"data row16 col19\" >0.07</td>\n",
       "      <td id=\"T_feccb_row16_col20\" class=\"data row16 col20\" >0.11</td>\n",
       "      <td id=\"T_feccb_row16_col21\" class=\"data row16 col21\" >0.00</td>\n",
       "      <td id=\"T_feccb_row16_col22\" class=\"data row16 col22\" >-0.03</td>\n",
       "      <td id=\"T_feccb_row16_col23\" class=\"data row16 col23\" >-0.01</td>\n",
       "      <td id=\"T_feccb_row16_col24\" class=\"data row16 col24\" >-0.01</td>\n",
       "      <td id=\"T_feccb_row16_col25\" class=\"data row16 col25\" >-0.01</td>\n",
       "      <td id=\"T_feccb_row16_col26\" class=\"data row16 col26\" >0.01</td>\n",
       "      <td id=\"T_feccb_row16_col27\" class=\"data row16 col27\" >0.00</td>\n",
       "      <td id=\"T_feccb_row16_col28\" class=\"data row16 col28\" >-0.01</td>\n",
       "      <td id=\"T_feccb_row16_col29\" class=\"data row16 col29\" >-0.02</td>\n",
       "    </tr>\n",
       "    <tr>\n",
       "      <th id=\"T_feccb_level0_row17\" class=\"row_heading level0 row17\" >Chronic_kidney</th>\n",
       "      <td id=\"T_feccb_row17_col0\" class=\"data row17 col0\" >-0.03</td>\n",
       "      <td id=\"T_feccb_row17_col1\" class=\"data row17 col1\" >0.20</td>\n",
       "      <td id=\"T_feccb_row17_col2\" class=\"data row17 col2\" >0.04</td>\n",
       "      <td id=\"T_feccb_row17_col3\" class=\"data row17 col3\" >0.01</td>\n",
       "      <td id=\"T_feccb_row17_col4\" class=\"data row17 col4\" >0.01</td>\n",
       "      <td id=\"T_feccb_row17_col5\" class=\"data row17 col5\" >0.01</td>\n",
       "      <td id=\"T_feccb_row17_col6\" class=\"data row17 col6\" >-0.01</td>\n",
       "      <td id=\"T_feccb_row17_col7\" class=\"data row17 col7\" >-0.04</td>\n",
       "      <td id=\"T_feccb_row17_col8\" class=\"data row17 col8\" >-0.00</td>\n",
       "      <td id=\"T_feccb_row17_col9\" class=\"data row17 col9\" >0.03</td>\n",
       "      <td id=\"T_feccb_row17_col10\" class=\"data row17 col10\" >0.02</td>\n",
       "      <td id=\"T_feccb_row17_col11\" class=\"data row17 col11\" >-0.11</td>\n",
       "      <td id=\"T_feccb_row17_col12\" class=\"data row17 col12\" >-0.05</td>\n",
       "      <td id=\"T_feccb_row17_col13\" class=\"data row17 col13\" >0.10</td>\n",
       "      <td id=\"T_feccb_row17_col14\" class=\"data row17 col14\" >0.05</td>\n",
       "      <td id=\"T_feccb_row17_col15\" class=\"data row17 col15\" >0.20</td>\n",
       "      <td id=\"T_feccb_row17_col16\" class=\"data row17 col16\" >0.00</td>\n",
       "      <td id=\"T_feccb_row17_col17\" class=\"data row17 col17\" >1.00</td>\n",
       "      <td id=\"T_feccb_row17_col18\" class=\"data row17 col18\" >0.00</td>\n",
       "      <td id=\"T_feccb_row17_col19\" class=\"data row17 col19\" >-0.02</td>\n",
       "      <td id=\"T_feccb_row17_col20\" class=\"data row17 col20\" >-0.07</td>\n",
       "      <td id=\"T_feccb_row17_col21\" class=\"data row17 col21\" >0.07</td>\n",
       "      <td id=\"T_feccb_row17_col22\" class=\"data row17 col22\" >-0.04</td>\n",
       "      <td id=\"T_feccb_row17_col23\" class=\"data row17 col23\" >0.08</td>\n",
       "      <td id=\"T_feccb_row17_col24\" class=\"data row17 col24\" >0.02</td>\n",
       "      <td id=\"T_feccb_row17_col25\" class=\"data row17 col25\" >0.13</td>\n",
       "      <td id=\"T_feccb_row17_col26\" class=\"data row17 col26\" >-0.11</td>\n",
       "      <td id=\"T_feccb_row17_col27\" class=\"data row17 col27\" >0.20</td>\n",
       "      <td id=\"T_feccb_row17_col28\" class=\"data row17 col28\" >0.01</td>\n",
       "      <td id=\"T_feccb_row17_col29\" class=\"data row17 col29\" >-0.05</td>\n",
       "    </tr>\n",
       "    <tr>\n",
       "      <th id=\"T_feccb_level0_row18\" class=\"row_heading level0 row18\" >Atrial_fibrillation</th>\n",
       "      <td id=\"T_feccb_row18_col0\" class=\"data row18 col0\" >-0.00</td>\n",
       "      <td id=\"T_feccb_row18_col1\" class=\"data row18 col1\" >0.08</td>\n",
       "      <td id=\"T_feccb_row18_col2\" class=\"data row18 col2\" >0.02</td>\n",
       "      <td id=\"T_feccb_row18_col3\" class=\"data row18 col3\" >-0.01</td>\n",
       "      <td id=\"T_feccb_row18_col4\" class=\"data row18 col4\" >-0.01</td>\n",
       "      <td id=\"T_feccb_row18_col5\" class=\"data row18 col5\" >-0.02</td>\n",
       "      <td id=\"T_feccb_row18_col6\" class=\"data row18 col6\" >0.01</td>\n",
       "      <td id=\"T_feccb_row18_col7\" class=\"data row18 col7\" >-0.01</td>\n",
       "      <td id=\"T_feccb_row18_col8\" class=\"data row18 col8\" >-0.00</td>\n",
       "      <td id=\"T_feccb_row18_col9\" class=\"data row18 col9\" >0.01</td>\n",
       "      <td id=\"T_feccb_row18_col10\" class=\"data row18 col10\" >-0.02</td>\n",
       "      <td id=\"T_feccb_row18_col11\" class=\"data row18 col11\" >-0.00</td>\n",
       "      <td id=\"T_feccb_row18_col12\" class=\"data row18 col12\" >-0.06</td>\n",
       "      <td id=\"T_feccb_row18_col13\" class=\"data row18 col13\" >-0.03</td>\n",
       "      <td id=\"T_feccb_row18_col14\" class=\"data row18 col14\" >-0.03</td>\n",
       "      <td id=\"T_feccb_row18_col15\" class=\"data row18 col15\" >-0.02</td>\n",
       "      <td id=\"T_feccb_row18_col16\" class=\"data row18 col16\" >0.01</td>\n",
       "      <td id=\"T_feccb_row18_col17\" class=\"data row18 col17\" >0.00</td>\n",
       "      <td id=\"T_feccb_row18_col18\" class=\"data row18 col18\" >1.00</td>\n",
       "      <td id=\"T_feccb_row18_col19\" class=\"data row18 col19\" >0.02</td>\n",
       "      <td id=\"T_feccb_row18_col20\" class=\"data row18 col20\" >0.07</td>\n",
       "      <td id=\"T_feccb_row18_col21\" class=\"data row18 col21\" >0.01</td>\n",
       "      <td id=\"T_feccb_row18_col22\" class=\"data row18 col22\" >-0.06</td>\n",
       "      <td id=\"T_feccb_row18_col23\" class=\"data row18 col23\" >-0.02</td>\n",
       "      <td id=\"T_feccb_row18_col24\" class=\"data row18 col24\" >-0.04</td>\n",
       "      <td id=\"T_feccb_row18_col25\" class=\"data row18 col25\" >0.01</td>\n",
       "      <td id=\"T_feccb_row18_col26\" class=\"data row18 col26\" >0.01</td>\n",
       "      <td id=\"T_feccb_row18_col27\" class=\"data row18 col27\" >0.08</td>\n",
       "      <td id=\"T_feccb_row18_col28\" class=\"data row18 col28\" >-0.02</td>\n",
       "      <td id=\"T_feccb_row18_col29\" class=\"data row18 col29\" >-0.06</td>\n",
       "    </tr>\n",
       "    <tr>\n",
       "      <th id=\"T_feccb_level0_row19\" class=\"row_heading level0 row19\" >Hypokalemia</th>\n",
       "      <td id=\"T_feccb_row19_col0\" class=\"data row19 col0\" >-0.01</td>\n",
       "      <td id=\"T_feccb_row19_col1\" class=\"data row19 col1\" >-0.00</td>\n",
       "      <td id=\"T_feccb_row19_col2\" class=\"data row19 col2\" >0.01</td>\n",
       "      <td id=\"T_feccb_row19_col3\" class=\"data row19 col3\" >-0.01</td>\n",
       "      <td id=\"T_feccb_row19_col4\" class=\"data row19 col4\" >-0.01</td>\n",
       "      <td id=\"T_feccb_row19_col5\" class=\"data row19 col5\" >-0.01</td>\n",
       "      <td id=\"T_feccb_row19_col6\" class=\"data row19 col6\" >-0.00</td>\n",
       "      <td id=\"T_feccb_row19_col7\" class=\"data row19 col7\" >0.01</td>\n",
       "      <td id=\"T_feccb_row19_col8\" class=\"data row19 col8\" >-0.02</td>\n",
       "      <td id=\"T_feccb_row19_col9\" class=\"data row19 col9\" >-0.02</td>\n",
       "      <td id=\"T_feccb_row19_col10\" class=\"data row19 col10\" >0.02</td>\n",
       "      <td id=\"T_feccb_row19_col11\" class=\"data row19 col11\" >0.01</td>\n",
       "      <td id=\"T_feccb_row19_col12\" class=\"data row19 col12\" >-0.02</td>\n",
       "      <td id=\"T_feccb_row19_col13\" class=\"data row19 col13\" >0.01</td>\n",
       "      <td id=\"T_feccb_row19_col14\" class=\"data row19 col14\" >-0.02</td>\n",
       "      <td id=\"T_feccb_row19_col15\" class=\"data row19 col15\" >0.00</td>\n",
       "      <td id=\"T_feccb_row19_col16\" class=\"data row19 col16\" >0.07</td>\n",
       "      <td id=\"T_feccb_row19_col17\" class=\"data row19 col17\" >-0.02</td>\n",
       "      <td id=\"T_feccb_row19_col18\" class=\"data row19 col18\" >0.02</td>\n",
       "      <td id=\"T_feccb_row19_col19\" class=\"data row19 col19\" >1.00</td>\n",
       "      <td id=\"T_feccb_row19_col20\" class=\"data row19 col20\" >0.06</td>\n",
       "      <td id=\"T_feccb_row19_col21\" class=\"data row19 col21\" >0.02</td>\n",
       "      <td id=\"T_feccb_row19_col22\" class=\"data row19 col22\" >-0.03</td>\n",
       "      <td id=\"T_feccb_row19_col23\" class=\"data row19 col23\" >-0.00</td>\n",
       "      <td id=\"T_feccb_row19_col24\" class=\"data row19 col24\" >-0.00</td>\n",
       "      <td id=\"T_feccb_row19_col25\" class=\"data row19 col25\" >-0.10</td>\n",
       "      <td id=\"T_feccb_row19_col26\" class=\"data row19 col26\" >-0.02</td>\n",
       "      <td id=\"T_feccb_row19_col27\" class=\"data row19 col27\" >-0.01</td>\n",
       "      <td id=\"T_feccb_row19_col28\" class=\"data row19 col28\" >-0.01</td>\n",
       "      <td id=\"T_feccb_row19_col29\" class=\"data row19 col29\" >-0.02</td>\n",
       "    </tr>\n",
       "    <tr>\n",
       "      <th id=\"T_feccb_level0_row20\" class=\"row_heading level0 row20\" >stroke</th>\n",
       "      <td id=\"T_feccb_row20_col0\" class=\"data row20 col0\" >-0.03</td>\n",
       "      <td id=\"T_feccb_row20_col1\" class=\"data row20 col1\" >-0.02</td>\n",
       "      <td id=\"T_feccb_row20_col2\" class=\"data row20 col2\" >0.19</td>\n",
       "      <td id=\"T_feccb_row20_col3\" class=\"data row20 col3\" >0.01</td>\n",
       "      <td id=\"T_feccb_row20_col4\" class=\"data row20 col4\" >-0.06</td>\n",
       "      <td id=\"T_feccb_row20_col5\" class=\"data row20 col5\" >-0.01</td>\n",
       "      <td id=\"T_feccb_row20_col6\" class=\"data row20 col6\" >0.01</td>\n",
       "      <td id=\"T_feccb_row20_col7\" class=\"data row20 col7\" >-0.04</td>\n",
       "      <td id=\"T_feccb_row20_col8\" class=\"data row20 col8\" >-0.06</td>\n",
       "      <td id=\"T_feccb_row20_col9\" class=\"data row20 col9\" >-0.28</td>\n",
       "      <td id=\"T_feccb_row20_col10\" class=\"data row20 col10\" >0.04</td>\n",
       "      <td id=\"T_feccb_row20_col11\" class=\"data row20 col11\" >0.08</td>\n",
       "      <td id=\"T_feccb_row20_col12\" class=\"data row20 col12\" >-0.17</td>\n",
       "      <td id=\"T_feccb_row20_col13\" class=\"data row20 col13\" >-0.04</td>\n",
       "      <td id=\"T_feccb_row20_col14\" class=\"data row20 col14\" >0.05</td>\n",
       "      <td id=\"T_feccb_row20_col15\" class=\"data row20 col15\" >-0.09</td>\n",
       "      <td id=\"T_feccb_row20_col16\" class=\"data row20 col16\" >0.11</td>\n",
       "      <td id=\"T_feccb_row20_col17\" class=\"data row20 col17\" >-0.07</td>\n",
       "      <td id=\"T_feccb_row20_col18\" class=\"data row20 col18\" >0.07</td>\n",
       "      <td id=\"T_feccb_row20_col19\" class=\"data row20 col19\" >0.06</td>\n",
       "      <td id=\"T_feccb_row20_col20\" class=\"data row20 col20\" >1.00</td>\n",
       "      <td id=\"T_feccb_row20_col21\" class=\"data row20 col21\" >-0.01</td>\n",
       "      <td id=\"T_feccb_row20_col22\" class=\"data row20 col22\" >-0.21</td>\n",
       "      <td id=\"T_feccb_row20_col23\" class=\"data row20 col23\" >-0.05</td>\n",
       "      <td id=\"T_feccb_row20_col24\" class=\"data row20 col24\" >-0.04</td>\n",
       "      <td id=\"T_feccb_row20_col25\" class=\"data row20 col25\" >-0.07</td>\n",
       "      <td id=\"T_feccb_row20_col26\" class=\"data row20 col26\" >0.12</td>\n",
       "      <td id=\"T_feccb_row20_col27\" class=\"data row20 col27\" >-0.01</td>\n",
       "      <td id=\"T_feccb_row20_col28\" class=\"data row20 col28\" >-0.00</td>\n",
       "      <td id=\"T_feccb_row20_col29\" class=\"data row20 col29\" >-0.15</td>\n",
       "    </tr>\n",
       "    <tr>\n",
       "      <th id=\"T_feccb_level0_row21\" class=\"row_heading level0 row21\" >Creatinine</th>\n",
       "      <td id=\"T_feccb_row21_col0\" class=\"data row21 col0\" >0.00</td>\n",
       "      <td id=\"T_feccb_row21_col1\" class=\"data row21 col1\" >0.05</td>\n",
       "      <td id=\"T_feccb_row21_col2\" class=\"data row21 col2\" >0.17</td>\n",
       "      <td id=\"T_feccb_row21_col3\" class=\"data row21 col3\" >0.05</td>\n",
       "      <td id=\"T_feccb_row21_col4\" class=\"data row21 col4\" >0.03</td>\n",
       "      <td id=\"T_feccb_row21_col5\" class=\"data row21 col5\" >-0.03</td>\n",
       "      <td id=\"T_feccb_row21_col6\" class=\"data row21 col6\" >-0.01</td>\n",
       "      <td id=\"T_feccb_row21_col7\" class=\"data row21 col7\" >-0.04</td>\n",
       "      <td id=\"T_feccb_row21_col8\" class=\"data row21 col8\" >0.03</td>\n",
       "      <td id=\"T_feccb_row21_col9\" class=\"data row21 col9\" >0.01</td>\n",
       "      <td id=\"T_feccb_row21_col10\" class=\"data row21 col10\" >0.05</td>\n",
       "      <td id=\"T_feccb_row21_col11\" class=\"data row21 col11\" >-0.06</td>\n",
       "      <td id=\"T_feccb_row21_col12\" class=\"data row21 col12\" >-0.05</td>\n",
       "      <td id=\"T_feccb_row21_col13\" class=\"data row21 col13\" >0.04</td>\n",
       "      <td id=\"T_feccb_row21_col14\" class=\"data row21 col14\" >-0.07</td>\n",
       "      <td id=\"T_feccb_row21_col15\" class=\"data row21 col15\" >0.04</td>\n",
       "      <td id=\"T_feccb_row21_col16\" class=\"data row21 col16\" >0.00</td>\n",
       "      <td id=\"T_feccb_row21_col17\" class=\"data row21 col17\" >0.07</td>\n",
       "      <td id=\"T_feccb_row21_col18\" class=\"data row21 col18\" >0.01</td>\n",
       "      <td id=\"T_feccb_row21_col19\" class=\"data row21 col19\" >0.02</td>\n",
       "      <td id=\"T_feccb_row21_col20\" class=\"data row21 col20\" >-0.01</td>\n",
       "      <td id=\"T_feccb_row21_col21\" class=\"data row21 col21\" >1.00</td>\n",
       "      <td id=\"T_feccb_row21_col22\" class=\"data row21 col22\" >-0.06</td>\n",
       "      <td id=\"T_feccb_row21_col23\" class=\"data row21 col23\" >0.01</td>\n",
       "      <td id=\"T_feccb_row21_col24\" class=\"data row21 col24\" >0.04</td>\n",
       "      <td id=\"T_feccb_row21_col25\" class=\"data row21 col25\" >0.17</td>\n",
       "      <td id=\"T_feccb_row21_col26\" class=\"data row21 col26\" >-0.19</td>\n",
       "      <td id=\"T_feccb_row21_col27\" class=\"data row21 col27\" >0.04</td>\n",
       "      <td id=\"T_feccb_row21_col28\" class=\"data row21 col28\" >-0.03</td>\n",
       "      <td id=\"T_feccb_row21_col29\" class=\"data row21 col29\" >-0.05</td>\n",
       "    </tr>\n",
       "    <tr>\n",
       "      <th id=\"T_feccb_level0_row22\" class=\"row_heading level0 row22\" >Cholesterol</th>\n",
       "      <td id=\"T_feccb_row22_col0\" class=\"data row22 col0\" >0.05</td>\n",
       "      <td id=\"T_feccb_row22_col1\" class=\"data row22 col1\" >-0.11</td>\n",
       "      <td id=\"T_feccb_row22_col2\" class=\"data row22 col2\" >-0.15</td>\n",
       "      <td id=\"T_feccb_row22_col3\" class=\"data row22 col3\" >-0.03</td>\n",
       "      <td id=\"T_feccb_row22_col4\" class=\"data row22 col4\" >-0.00</td>\n",
       "      <td id=\"T_feccb_row22_col5\" class=\"data row22 col5\" >-0.01</td>\n",
       "      <td id=\"T_feccb_row22_col6\" class=\"data row22 col6\" >-0.01</td>\n",
       "      <td id=\"T_feccb_row22_col7\" class=\"data row22 col7\" >0.04</td>\n",
       "      <td id=\"T_feccb_row22_col8\" class=\"data row22 col8\" >0.02</td>\n",
       "      <td id=\"T_feccb_row22_col9\" class=\"data row22 col9\" >0.07</td>\n",
       "      <td id=\"T_feccb_row22_col10\" class=\"data row22 col10\" >0.06</td>\n",
       "      <td id=\"T_feccb_row22_col11\" class=\"data row22 col11\" >0.10</td>\n",
       "      <td id=\"T_feccb_row22_col12\" class=\"data row22 col12\" >0.88</td>\n",
       "      <td id=\"T_feccb_row22_col13\" class=\"data row22 col13\" >-0.05</td>\n",
       "      <td id=\"T_feccb_row22_col14\" class=\"data row22 col14\" >-0.04</td>\n",
       "      <td id=\"T_feccb_row22_col15\" class=\"data row22 col15\" >-0.12</td>\n",
       "      <td id=\"T_feccb_row22_col16\" class=\"data row22 col16\" >-0.03</td>\n",
       "      <td id=\"T_feccb_row22_col17\" class=\"data row22 col17\" >-0.04</td>\n",
       "      <td id=\"T_feccb_row22_col18\" class=\"data row22 col18\" >-0.06</td>\n",
       "      <td id=\"T_feccb_row22_col19\" class=\"data row22 col19\" >-0.03</td>\n",
       "      <td id=\"T_feccb_row22_col20\" class=\"data row22 col20\" >-0.21</td>\n",
       "      <td id=\"T_feccb_row22_col21\" class=\"data row22 col21\" >-0.06</td>\n",
       "      <td id=\"T_feccb_row22_col22\" class=\"data row22 col22\" >1.00</td>\n",
       "      <td id=\"T_feccb_row22_col23\" class=\"data row22 col23\" >0.05</td>\n",
       "      <td id=\"T_feccb_row22_col24\" class=\"data row22 col24\" >0.28</td>\n",
       "      <td id=\"T_feccb_row22_col25\" class=\"data row22 col25\" >-0.01</td>\n",
       "      <td id=\"T_feccb_row22_col26\" class=\"data row22 col26\" >0.11</td>\n",
       "      <td id=\"T_feccb_row22_col27\" class=\"data row22 col27\" >-0.11</td>\n",
       "      <td id=\"T_feccb_row22_col28\" class=\"data row22 col28\" >-0.00</td>\n",
       "      <td id=\"T_feccb_row22_col29\" class=\"data row22 col29\" >0.84</td>\n",
       "    </tr>\n",
       "    <tr>\n",
       "      <th id=\"T_feccb_level0_row23\" class=\"row_heading level0 row23\" >FBS</th>\n",
       "      <td id=\"T_feccb_row23_col0\" class=\"data row23 col0\" >-0.01</td>\n",
       "      <td id=\"T_feccb_row23_col1\" class=\"data row23 col1\" >-0.05</td>\n",
       "      <td id=\"T_feccb_row23_col2\" class=\"data row23 col2\" >-0.02</td>\n",
       "      <td id=\"T_feccb_row23_col3\" class=\"data row23 col3\" >-0.01</td>\n",
       "      <td id=\"T_feccb_row23_col4\" class=\"data row23 col4\" >-0.01</td>\n",
       "      <td id=\"T_feccb_row23_col5\" class=\"data row23 col5\" >0.10</td>\n",
       "      <td id=\"T_feccb_row23_col6\" class=\"data row23 col6\" >0.05</td>\n",
       "      <td id=\"T_feccb_row23_col7\" class=\"data row23 col7\" >0.15</td>\n",
       "      <td id=\"T_feccb_row23_col8\" class=\"data row23 col8\" >0.02</td>\n",
       "      <td id=\"T_feccb_row23_col9\" class=\"data row23 col9\" >0.04</td>\n",
       "      <td id=\"T_feccb_row23_col10\" class=\"data row23 col10\" >0.04</td>\n",
       "      <td id=\"T_feccb_row23_col11\" class=\"data row23 col11\" >-0.02</td>\n",
       "      <td id=\"T_feccb_row23_col12\" class=\"data row23 col12\" >0.02</td>\n",
       "      <td id=\"T_feccb_row23_col13\" class=\"data row23 col13\" >-0.01</td>\n",
       "      <td id=\"T_feccb_row23_col14\" class=\"data row23 col14\" >0.02</td>\n",
       "      <td id=\"T_feccb_row23_col15\" class=\"data row23 col15\" >0.45</td>\n",
       "      <td id=\"T_feccb_row23_col16\" class=\"data row23 col16\" >-0.01</td>\n",
       "      <td id=\"T_feccb_row23_col17\" class=\"data row23 col17\" >0.08</td>\n",
       "      <td id=\"T_feccb_row23_col18\" class=\"data row23 col18\" >-0.02</td>\n",
       "      <td id=\"T_feccb_row23_col19\" class=\"data row23 col19\" >-0.00</td>\n",
       "      <td id=\"T_feccb_row23_col20\" class=\"data row23 col20\" >-0.05</td>\n",
       "      <td id=\"T_feccb_row23_col21\" class=\"data row23 col21\" >0.01</td>\n",
       "      <td id=\"T_feccb_row23_col22\" class=\"data row23 col22\" >0.05</td>\n",
       "      <td id=\"T_feccb_row23_col23\" class=\"data row23 col23\" >1.00</td>\n",
       "      <td id=\"T_feccb_row23_col24\" class=\"data row23 col24\" >0.21</td>\n",
       "      <td id=\"T_feccb_row23_col25\" class=\"data row23 col25\" >0.13</td>\n",
       "      <td id=\"T_feccb_row23_col26\" class=\"data row23 col26\" >-0.07</td>\n",
       "      <td id=\"T_feccb_row23_col27\" class=\"data row23 col27\" >-0.05</td>\n",
       "      <td id=\"T_feccb_row23_col28\" class=\"data row23 col28\" >0.09</td>\n",
       "      <td id=\"T_feccb_row23_col29\" class=\"data row23 col29\" >0.02</td>\n",
       "    </tr>\n",
       "    <tr>\n",
       "      <th id=\"T_feccb_level0_row24\" class=\"row_heading level0 row24\" >Triglyceride</th>\n",
       "      <td id=\"T_feccb_row24_col0\" class=\"data row24 col0\" >0.00</td>\n",
       "      <td id=\"T_feccb_row24_col1\" class=\"data row24 col1\" >-0.10</td>\n",
       "      <td id=\"T_feccb_row24_col2\" class=\"data row24 col2\" >0.00</td>\n",
       "      <td id=\"T_feccb_row24_col3\" class=\"data row24 col3\" >0.03</td>\n",
       "      <td id=\"T_feccb_row24_col4\" class=\"data row24 col4\" >0.02</td>\n",
       "      <td id=\"T_feccb_row24_col5\" class=\"data row24 col5\" >0.15</td>\n",
       "      <td id=\"T_feccb_row24_col6\" class=\"data row24 col6\" >0.01</td>\n",
       "      <td id=\"T_feccb_row24_col7\" class=\"data row24 col7\" >0.06</td>\n",
       "      <td id=\"T_feccb_row24_col8\" class=\"data row24 col8\" >0.01</td>\n",
       "      <td id=\"T_feccb_row24_col9\" class=\"data row24 col9\" >0.02</td>\n",
       "      <td id=\"T_feccb_row24_col10\" class=\"data row24 col10\" >0.07</td>\n",
       "      <td id=\"T_feccb_row24_col11\" class=\"data row24 col11\" >0.10</td>\n",
       "      <td id=\"T_feccb_row24_col12\" class=\"data row24 col12\" >0.06</td>\n",
       "      <td id=\"T_feccb_row24_col13\" class=\"data row24 col13\" >0.01</td>\n",
       "      <td id=\"T_feccb_row24_col14\" class=\"data row24 col14\" >-0.02</td>\n",
       "      <td id=\"T_feccb_row24_col15\" class=\"data row24 col15\" >0.09</td>\n",
       "      <td id=\"T_feccb_row24_col16\" class=\"data row24 col16\" >-0.01</td>\n",
       "      <td id=\"T_feccb_row24_col17\" class=\"data row24 col17\" >0.02</td>\n",
       "      <td id=\"T_feccb_row24_col18\" class=\"data row24 col18\" >-0.04</td>\n",
       "      <td id=\"T_feccb_row24_col19\" class=\"data row24 col19\" >-0.00</td>\n",
       "      <td id=\"T_feccb_row24_col20\" class=\"data row24 col20\" >-0.04</td>\n",
       "      <td id=\"T_feccb_row24_col21\" class=\"data row24 col21\" >0.04</td>\n",
       "      <td id=\"T_feccb_row24_col22\" class=\"data row24 col22\" >0.28</td>\n",
       "      <td id=\"T_feccb_row24_col23\" class=\"data row24 col23\" >0.21</td>\n",
       "      <td id=\"T_feccb_row24_col24\" class=\"data row24 col24\" >1.00</td>\n",
       "      <td id=\"T_feccb_row24_col25\" class=\"data row24 col25\" >0.03</td>\n",
       "      <td id=\"T_feccb_row24_col26\" class=\"data row24 col26\" >0.07</td>\n",
       "      <td id=\"T_feccb_row24_col27\" class=\"data row24 col27\" >-0.10</td>\n",
       "      <td id=\"T_feccb_row24_col28\" class=\"data row24 col28\" >0.16</td>\n",
       "      <td id=\"T_feccb_row24_col29\" class=\"data row24 col29\" >0.06</td>\n",
       "    </tr>\n",
       "    <tr>\n",
       "      <th id=\"T_feccb_level0_row25\" class=\"row_heading level0 row25\" >Potassium</th>\n",
       "      <td id=\"T_feccb_row25_col0\" class=\"data row25 col0\" >-0.08</td>\n",
       "      <td id=\"T_feccb_row25_col1\" class=\"data row25 col1\" >0.10</td>\n",
       "      <td id=\"T_feccb_row25_col2\" class=\"data row25 col2\" >-0.02</td>\n",
       "      <td id=\"T_feccb_row25_col3\" class=\"data row25 col3\" >0.01</td>\n",
       "      <td id=\"T_feccb_row25_col4\" class=\"data row25 col4\" >-0.01</td>\n",
       "      <td id=\"T_feccb_row25_col5\" class=\"data row25 col5\" >0.01</td>\n",
       "      <td id=\"T_feccb_row25_col6\" class=\"data row25 col6\" >-0.01</td>\n",
       "      <td id=\"T_feccb_row25_col7\" class=\"data row25 col7\" >-0.05</td>\n",
       "      <td id=\"T_feccb_row25_col8\" class=\"data row25 col8\" >0.02</td>\n",
       "      <td id=\"T_feccb_row25_col9\" class=\"data row25 col9\" >0.03</td>\n",
       "      <td id=\"T_feccb_row25_col10\" class=\"data row25 col10\" >-0.00</td>\n",
       "      <td id=\"T_feccb_row25_col11\" class=\"data row25 col11\" >-0.11</td>\n",
       "      <td id=\"T_feccb_row25_col12\" class=\"data row25 col12\" >-0.01</td>\n",
       "      <td id=\"T_feccb_row25_col13\" class=\"data row25 col13\" >-0.02</td>\n",
       "      <td id=\"T_feccb_row25_col14\" class=\"data row25 col14\" >0.03</td>\n",
       "      <td id=\"T_feccb_row25_col15\" class=\"data row25 col15\" >0.17</td>\n",
       "      <td id=\"T_feccb_row25_col16\" class=\"data row25 col16\" >-0.01</td>\n",
       "      <td id=\"T_feccb_row25_col17\" class=\"data row25 col17\" >0.13</td>\n",
       "      <td id=\"T_feccb_row25_col18\" class=\"data row25 col18\" >0.01</td>\n",
       "      <td id=\"T_feccb_row25_col19\" class=\"data row25 col19\" >-0.10</td>\n",
       "      <td id=\"T_feccb_row25_col20\" class=\"data row25 col20\" >-0.07</td>\n",
       "      <td id=\"T_feccb_row25_col21\" class=\"data row25 col21\" >0.17</td>\n",
       "      <td id=\"T_feccb_row25_col22\" class=\"data row25 col22\" >-0.01</td>\n",
       "      <td id=\"T_feccb_row25_col23\" class=\"data row25 col23\" >0.13</td>\n",
       "      <td id=\"T_feccb_row25_col24\" class=\"data row25 col24\" >0.03</td>\n",
       "      <td id=\"T_feccb_row25_col25\" class=\"data row25 col25\" >1.00</td>\n",
       "      <td id=\"T_feccb_row25_col26\" class=\"data row25 col26\" >-0.13</td>\n",
       "      <td id=\"T_feccb_row25_col27\" class=\"data row25 col27\" >0.10</td>\n",
       "      <td id=\"T_feccb_row25_col28\" class=\"data row25 col28\" >0.00</td>\n",
       "      <td id=\"T_feccb_row25_col29\" class=\"data row25 col29\" >-0.02</td>\n",
       "    </tr>\n",
       "    <tr>\n",
       "      <th id=\"T_feccb_level0_row26\" class=\"row_heading level0 row26\" >HCT</th>\n",
       "      <td id=\"T_feccb_row26_col0\" class=\"data row26 col0\" >0.04</td>\n",
       "      <td id=\"T_feccb_row26_col1\" class=\"data row26 col1\" >-0.20</td>\n",
       "      <td id=\"T_feccb_row26_col2\" class=\"data row26 col2\" >0.34</td>\n",
       "      <td id=\"T_feccb_row26_col3\" class=\"data row26 col3\" >0.14</td>\n",
       "      <td id=\"T_feccb_row26_col4\" class=\"data row26 col4\" >0.15</td>\n",
       "      <td id=\"T_feccb_row26_col5\" class=\"data row26 col5\" >0.11</td>\n",
       "      <td id=\"T_feccb_row26_col6\" class=\"data row26 col6\" >0.01</td>\n",
       "      <td id=\"T_feccb_row26_col7\" class=\"data row26 col7\" >0.02</td>\n",
       "      <td id=\"T_feccb_row26_col8\" class=\"data row26 col8\" >-0.03</td>\n",
       "      <td id=\"T_feccb_row26_col9\" class=\"data row26 col9\" >-0.03</td>\n",
       "      <td id=\"T_feccb_row26_col10\" class=\"data row26 col10\" >0.03</td>\n",
       "      <td id=\"T_feccb_row26_col11\" class=\"data row26 col11\" >0.30</td>\n",
       "      <td id=\"T_feccb_row26_col12\" class=\"data row26 col12\" >0.12</td>\n",
       "      <td id=\"T_feccb_row26_col13\" class=\"data row26 col13\" >-0.03</td>\n",
       "      <td id=\"T_feccb_row26_col14\" class=\"data row26 col14\" >0.01</td>\n",
       "      <td id=\"T_feccb_row26_col15\" class=\"data row26 col15\" >-0.26</td>\n",
       "      <td id=\"T_feccb_row26_col16\" class=\"data row26 col16\" >0.01</td>\n",
       "      <td id=\"T_feccb_row26_col17\" class=\"data row26 col17\" >-0.11</td>\n",
       "      <td id=\"T_feccb_row26_col18\" class=\"data row26 col18\" >0.01</td>\n",
       "      <td id=\"T_feccb_row26_col19\" class=\"data row26 col19\" >-0.02</td>\n",
       "      <td id=\"T_feccb_row26_col20\" class=\"data row26 col20\" >0.12</td>\n",
       "      <td id=\"T_feccb_row26_col21\" class=\"data row26 col21\" >-0.19</td>\n",
       "      <td id=\"T_feccb_row26_col22\" class=\"data row26 col22\" >0.11</td>\n",
       "      <td id=\"T_feccb_row26_col23\" class=\"data row26 col23\" >-0.07</td>\n",
       "      <td id=\"T_feccb_row26_col24\" class=\"data row26 col24\" >0.07</td>\n",
       "      <td id=\"T_feccb_row26_col25\" class=\"data row26 col25\" >-0.13</td>\n",
       "      <td id=\"T_feccb_row26_col26\" class=\"data row26 col26\" >1.00</td>\n",
       "      <td id=\"T_feccb_row26_col27\" class=\"data row26 col27\" >-0.19</td>\n",
       "      <td id=\"T_feccb_row26_col28\" class=\"data row26 col28\" >0.12</td>\n",
       "      <td id=\"T_feccb_row26_col29\" class=\"data row26 col29\" >0.11</td>\n",
       "    </tr>\n",
       "    <tr>\n",
       "      <th id=\"T_feccb_level0_row27\" class=\"row_heading level0 row27\" >Age_R_e</th>\n",
       "      <td id=\"T_feccb_row27_col0\" class=\"data row27 col0\" >-0.02</td>\n",
       "      <td id=\"T_feccb_row27_col1\" class=\"data row27 col1\" >0.98</td>\n",
       "      <td id=\"T_feccb_row27_col2\" class=\"data row27 col2\" >-0.06</td>\n",
       "      <td id=\"T_feccb_row27_col3\" class=\"data row27 col3\" >-0.06</td>\n",
       "      <td id=\"T_feccb_row27_col4\" class=\"data row27 col4\" >-0.10</td>\n",
       "      <td id=\"T_feccb_row27_col5\" class=\"data row27 col5\" >-0.20</td>\n",
       "      <td id=\"T_feccb_row27_col6\" class=\"data row27 col6\" >-0.03</td>\n",
       "      <td id=\"T_feccb_row27_col7\" class=\"data row27 col7\" >-0.17</td>\n",
       "      <td id=\"T_feccb_row27_col8\" class=\"data row27 col8\" >-0.02</td>\n",
       "      <td id=\"T_feccb_row27_col9\" class=\"data row27 col9\" >0.01</td>\n",
       "      <td id=\"T_feccb_row27_col10\" class=\"data row27 col10\" >0.12</td>\n",
       "      <td id=\"T_feccb_row27_col11\" class=\"data row27 col11\" >-0.30</td>\n",
       "      <td id=\"T_feccb_row27_col12\" class=\"data row27 col12\" >-0.10</td>\n",
       "      <td id=\"T_feccb_row27_col13\" class=\"data row27 col13\" >0.21</td>\n",
       "      <td id=\"T_feccb_row27_col14\" class=\"data row27 col14\" >0.11</td>\n",
       "      <td id=\"T_feccb_row27_col15\" class=\"data row27 col15\" >0.03</td>\n",
       "      <td id=\"T_feccb_row27_col16\" class=\"data row27 col16\" >0.00</td>\n",
       "      <td id=\"T_feccb_row27_col17\" class=\"data row27 col17\" >0.20</td>\n",
       "      <td id=\"T_feccb_row27_col18\" class=\"data row27 col18\" >0.08</td>\n",
       "      <td id=\"T_feccb_row27_col19\" class=\"data row27 col19\" >-0.01</td>\n",
       "      <td id=\"T_feccb_row27_col20\" class=\"data row27 col20\" >-0.01</td>\n",
       "      <td id=\"T_feccb_row27_col21\" class=\"data row27 col21\" >0.04</td>\n",
       "      <td id=\"T_feccb_row27_col22\" class=\"data row27 col22\" >-0.11</td>\n",
       "      <td id=\"T_feccb_row27_col23\" class=\"data row27 col23\" >-0.05</td>\n",
       "      <td id=\"T_feccb_row27_col24\" class=\"data row27 col24\" >-0.10</td>\n",
       "      <td id=\"T_feccb_row27_col25\" class=\"data row27 col25\" >0.10</td>\n",
       "      <td id=\"T_feccb_row27_col26\" class=\"data row27 col26\" >-0.19</td>\n",
       "      <td id=\"T_feccb_row27_col27\" class=\"data row27 col27\" >1.00</td>\n",
       "      <td id=\"T_feccb_row27_col28\" class=\"data row27 col28\" >-0.17</td>\n",
       "      <td id=\"T_feccb_row27_col29\" class=\"data row27 col29\" >-0.10</td>\n",
       "    </tr>\n",
       "    <tr>\n",
       "      <th id=\"T_feccb_level0_row28\" class=\"row_heading level0 row28\" >health_level_e</th>\n",
       "      <td id=\"T_feccb_row28_col0\" class=\"data row28 col0\" >0.02</td>\n",
       "      <td id=\"T_feccb_row28_col1\" class=\"data row28 col1\" >-0.18</td>\n",
       "      <td id=\"T_feccb_row28_col2\" class=\"data row28 col2\" >-0.06</td>\n",
       "      <td id=\"T_feccb_row28_col3\" class=\"data row28 col3\" >-0.06</td>\n",
       "      <td id=\"T_feccb_row28_col4\" class=\"data row28 col4\" >-0.03</td>\n",
       "      <td id=\"T_feccb_row28_col5\" class=\"data row28 col5\" >0.89</td>\n",
       "      <td id=\"T_feccb_row28_col6\" class=\"data row28 col6\" >0.01</td>\n",
       "      <td id=\"T_feccb_row28_col7\" class=\"data row28 col7\" >0.01</td>\n",
       "      <td id=\"T_feccb_row28_col8\" class=\"data row28 col8\" >-0.04</td>\n",
       "      <td id=\"T_feccb_row28_col9\" class=\"data row28 col9\" >-0.01</td>\n",
       "      <td id=\"T_feccb_row28_col10\" class=\"data row28 col10\" >0.13</td>\n",
       "      <td id=\"T_feccb_row28_col11\" class=\"data row28 col11\" >0.17</td>\n",
       "      <td id=\"T_feccb_row28_col12\" class=\"data row28 col12\" >0.00</td>\n",
       "      <td id=\"T_feccb_row28_col13\" class=\"data row28 col13\" >0.14</td>\n",
       "      <td id=\"T_feccb_row28_col14\" class=\"data row28 col14\" >0.07</td>\n",
       "      <td id=\"T_feccb_row28_col15\" class=\"data row28 col15\" >0.10</td>\n",
       "      <td id=\"T_feccb_row28_col16\" class=\"data row28 col16\" >-0.01</td>\n",
       "      <td id=\"T_feccb_row28_col17\" class=\"data row28 col17\" >0.01</td>\n",
       "      <td id=\"T_feccb_row28_col18\" class=\"data row28 col18\" >-0.02</td>\n",
       "      <td id=\"T_feccb_row28_col19\" class=\"data row28 col19\" >-0.01</td>\n",
       "      <td id=\"T_feccb_row28_col20\" class=\"data row28 col20\" >-0.00</td>\n",
       "      <td id=\"T_feccb_row28_col21\" class=\"data row28 col21\" >-0.03</td>\n",
       "      <td id=\"T_feccb_row28_col22\" class=\"data row28 col22\" >-0.00</td>\n",
       "      <td id=\"T_feccb_row28_col23\" class=\"data row28 col23\" >0.09</td>\n",
       "      <td id=\"T_feccb_row28_col24\" class=\"data row28 col24\" >0.16</td>\n",
       "      <td id=\"T_feccb_row28_col25\" class=\"data row28 col25\" >0.00</td>\n",
       "      <td id=\"T_feccb_row28_col26\" class=\"data row28 col26\" >0.12</td>\n",
       "      <td id=\"T_feccb_row28_col27\" class=\"data row28 col27\" >-0.17</td>\n",
       "      <td id=\"T_feccb_row28_col28\" class=\"data row28 col28\" >1.00</td>\n",
       "      <td id=\"T_feccb_row28_col29\" class=\"data row28 col29\" >-0.00</td>\n",
       "    </tr>\n",
       "    <tr>\n",
       "      <th id=\"T_feccb_level0_row29\" class=\"row_heading level0 row29\" >LDL_level_e</th>\n",
       "      <td id=\"T_feccb_row29_col0\" class=\"data row29 col0\" >0.04</td>\n",
       "      <td id=\"T_feccb_row29_col1\" class=\"data row29 col1\" >-0.10</td>\n",
       "      <td id=\"T_feccb_row29_col2\" class=\"data row29 col2\" >-0.08</td>\n",
       "      <td id=\"T_feccb_row29_col3\" class=\"data row29 col3\" >-0.03</td>\n",
       "      <td id=\"T_feccb_row29_col4\" class=\"data row29 col4\" >-0.02</td>\n",
       "      <td id=\"T_feccb_row29_col5\" class=\"data row29 col5\" >-0.00</td>\n",
       "      <td id=\"T_feccb_row29_col6\" class=\"data row29 col6\" >0.01</td>\n",
       "      <td id=\"T_feccb_row29_col7\" class=\"data row29 col7\" >0.02</td>\n",
       "      <td id=\"T_feccb_row29_col8\" class=\"data row29 col8\" >0.00</td>\n",
       "      <td id=\"T_feccb_row29_col9\" class=\"data row29 col9\" >0.06</td>\n",
       "      <td id=\"T_feccb_row29_col10\" class=\"data row29 col10\" >0.06</td>\n",
       "      <td id=\"T_feccb_row29_col11\" class=\"data row29 col11\" >0.10</td>\n",
       "      <td id=\"T_feccb_row29_col12\" class=\"data row29 col12\" >0.94</td>\n",
       "      <td id=\"T_feccb_row29_col13\" class=\"data row29 col13\" >-0.07</td>\n",
       "      <td id=\"T_feccb_row29_col14\" class=\"data row29 col14\" >-0.03</td>\n",
       "      <td id=\"T_feccb_row29_col15\" class=\"data row29 col15\" >-0.12</td>\n",
       "      <td id=\"T_feccb_row29_col16\" class=\"data row29 col16\" >-0.02</td>\n",
       "      <td id=\"T_feccb_row29_col17\" class=\"data row29 col17\" >-0.05</td>\n",
       "      <td id=\"T_feccb_row29_col18\" class=\"data row29 col18\" >-0.06</td>\n",
       "      <td id=\"T_feccb_row29_col19\" class=\"data row29 col19\" >-0.02</td>\n",
       "      <td id=\"T_feccb_row29_col20\" class=\"data row29 col20\" >-0.15</td>\n",
       "      <td id=\"T_feccb_row29_col21\" class=\"data row29 col21\" >-0.05</td>\n",
       "      <td id=\"T_feccb_row29_col22\" class=\"data row29 col22\" >0.84</td>\n",
       "      <td id=\"T_feccb_row29_col23\" class=\"data row29 col23\" >0.02</td>\n",
       "      <td id=\"T_feccb_row29_col24\" class=\"data row29 col24\" >0.06</td>\n",
       "      <td id=\"T_feccb_row29_col25\" class=\"data row29 col25\" >-0.02</td>\n",
       "      <td id=\"T_feccb_row29_col26\" class=\"data row29 col26\" >0.11</td>\n",
       "      <td id=\"T_feccb_row29_col27\" class=\"data row29 col27\" >-0.10</td>\n",
       "      <td id=\"T_feccb_row29_col28\" class=\"data row29 col28\" >-0.00</td>\n",
       "      <td id=\"T_feccb_row29_col29\" class=\"data row29 col29\" >1.00</td>\n",
       "    </tr>\n",
       "  </tbody>\n",
       "</table>\n"
      ],
      "text/plain": [
       "<pandas.io.formats.style.Styler at 0x1e65d11a6d0>"
      ]
     },
     "execution_count": 4,
     "metadata": {},
     "output_type": "execute_result"
    }
   ],
   "source": [
    "df_cor = df.corr()\n",
    "df_cor.style.background_gradient(cmap='Blues').format('{:.2f}')"
   ]
  },
  {
   "cell_type": "code",
   "execution_count": 5,
   "id": "b8367c15",
   "metadata": {},
   "outputs": [
    {
     "data": {
      "text/plain": [
       "rowID                  0\n",
       "patientAge             0\n",
       "patientSexName         0\n",
       "smoking                0\n",
       "alcohol                0\n",
       "vital_bmi              0\n",
       "vital_hr               0\n",
       "vital_pulse            0\n",
       "vital_temperature      0\n",
       "vital_rr               0\n",
       "vital_bps              0\n",
       "vital_bpd              0\n",
       "LDL-Cholesterol        0\n",
       "Hypertension           0\n",
       "Hyperlipidaemia        0\n",
       "Diabetes_Mellitus      0\n",
       "Hemiplegia             0\n",
       "Chronic_kidney         0\n",
       "Atrial_fibrillation    0\n",
       "Hypokalemia            0\n",
       "stroke                 0\n",
       "Age_R                  0\n",
       "health_level           0\n",
       "LDL_level              0\n",
       "Creatinine             0\n",
       "Cholesterol            0\n",
       "FBS                    0\n",
       "Triglyceride           0\n",
       "Potassium              0\n",
       "HCT                    0\n",
       "Age_R_e                0\n",
       "health_level_e         0\n",
       "LDL_level_e            0\n",
       "dtype: int64"
      ]
     },
     "execution_count": 5,
     "metadata": {},
     "output_type": "execute_result"
    }
   ],
   "source": [
    "df.isnull().sum()"
   ]
  },
  {
   "cell_type": "code",
   "execution_count": 6,
   "id": "3349fe02",
   "metadata": {},
   "outputs": [],
   "source": [
    "# sns.scatterplot(x='patientAge', y='LDL-Cholesterol', hue='stroke', data=df);"
   ]
  },
  {
   "cell_type": "code",
   "execution_count": 7,
   "id": "2a5e25d7",
   "metadata": {},
   "outputs": [
    {
     "data": {
      "image/png": "[encoded data removed]",
      "text/plain": [
       "<Figure size 400x400 with 1 Axes>"
      ]
     },
     "metadata": {
      "image/png": {
       "height": 371,
       "width": 403
      }
     },
     "output_type": "display_data"
    }
   ],
   "source": [
    "# plt.style.use('seaborn-whitegrid')\n",
    "plt.figure(figsize=(4,4))\n",
    "ax = sns.countplot(x='stroke', hue='stroke', data=(df))\n",
    "for container in ax.containers:\n",
    "    ax.bar_label(container)"
   ]
  },
  {
   "cell_type": "code",
   "execution_count": 8,
   "id": "dd42fe93",
   "metadata": {},
   "outputs": [
    {
     "data": {
      "text/plain": [
       "Index(['rowID', 'patientAge', 'patientSexName', 'smoking', 'alcohol',\n",
       "       'vital_bmi', 'vital_hr', 'vital_pulse', 'vital_temperature', 'vital_rr',\n",
       "       'vital_bps', 'vital_bpd', 'LDL-Cholesterol', 'Hypertension',\n",
       "       'Hyperlipidaemia', 'Diabetes_Mellitus', 'Hemiplegia', 'Chronic_kidney',\n",
       "       'Atrial_fibrillation', 'Hypokalemia', 'stroke', 'Age_R', 'health_level',\n",
       "       'LDL_level', 'Creatinine', 'Cholesterol', 'FBS', 'Triglyceride',\n",
       "       'Potassium', 'HCT', 'Age_R_e', 'health_level_e', 'LDL_level_e'],\n",
       "      dtype='object')"
      ]
     },
     "execution_count": 8,
     "metadata": {},
     "output_type": "execute_result"
    }
   ],
   "source": [
    "df.columns"
   ]
  },
  {
   "cell_type": "code",
   "execution_count": 9,
   "id": "e0068387",
   "metadata": {},
   "outputs": [],
   "source": [
    "X = df.drop(['rowID', 'stroke','Age_R','health_level','LDL_level','Age_R_e','health_level_e','LDL_level_e'], axis=1)\n",
    "y = df['stroke']"
   ]
  },
  {
   "cell_type": "code",
   "execution_count": 10,
   "id": "409a178e",
   "metadata": {},
   "outputs": [
    {
     "data": {
      "text/html": [
       "<div>\n",
       "<style scoped>\n",
       "    .dataframe tbody tr th:only-of-type {\n",
       "        vertical-align: middle;\n",
       "    }\n",
       "\n",
       "    .dataframe tbody tr th {\n",
       "        vertical-align: top;\n",
       "    }\n",
       "\n",
       "    .dataframe thead th {\n",
       "        text-align: right;\n",
       "    }\n",
       "</style>\n",
       "<table border=\"1\" class=\"dataframe\">\n",
       "  <thead>\n",
       "    <tr style=\"text-align: right;\">\n",
       "      <th></th>\n",
       "      <th>patientAge</th>\n",
       "      <th>patientSexName</th>\n",
       "      <th>smoking</th>\n",
       "      <th>alcohol</th>\n",
       "      <th>vital_bmi</th>\n",
       "      <th>vital_hr</th>\n",
       "      <th>vital_pulse</th>\n",
       "      <th>vital_temperature</th>\n",
       "      <th>vital_rr</th>\n",
       "      <th>vital_bps</th>\n",
       "      <th>vital_bpd</th>\n",
       "      <th>LDL-Cholesterol</th>\n",
       "      <th>Hypertension</th>\n",
       "      <th>Hyperlipidaemia</th>\n",
       "      <th>Diabetes_Mellitus</th>\n",
       "      <th>Hemiplegia</th>\n",
       "      <th>Chronic_kidney</th>\n",
       "      <th>Atrial_fibrillation</th>\n",
       "      <th>Hypokalemia</th>\n",
       "      <th>Creatinine</th>\n",
       "      <th>Cholesterol</th>\n",
       "      <th>FBS</th>\n",
       "      <th>Triglyceride</th>\n",
       "      <th>Potassium</th>\n",
       "      <th>HCT</th>\n",
       "    </tr>\n",
       "  </thead>\n",
       "  <tbody>\n",
       "    <tr>\n",
       "      <th>0</th>\n",
       "      <td>69</td>\n",
       "      <td>0.00</td>\n",
       "      <td>0.00</td>\n",
       "      <td>0.00</td>\n",
       "      <td>25.30</td>\n",
       "      <td>80.00</td>\n",
       "      <td>73.00</td>\n",
       "      <td>36.00</td>\n",
       "      <td>16.00</td>\n",
       "      <td>150.00</td>\n",
       "      <td>90.00</td>\n",
       "      <td>124.00</td>\n",
       "      <td>1</td>\n",
       "      <td>0</td>\n",
       "      <td>0</td>\n",
       "      <td>0</td>\n",
       "      <td>0</td>\n",
       "      <td>0</td>\n",
       "      <td>0</td>\n",
       "      <td>0.70</td>\n",
       "      <td>142.60</td>\n",
       "      <td>97.20</td>\n",
       "      <td>347.00</td>\n",
       "      <td>3.92</td>\n",
       "      <td>39.54</td>\n",
       "    </tr>\n",
       "    <tr>\n",
       "      <th>1</th>\n",
       "      <td>75</td>\n",
       "      <td>1.00</td>\n",
       "      <td>1.00</td>\n",
       "      <td>0.00</td>\n",
       "      <td>26.78</td>\n",
       "      <td>80.00</td>\n",
       "      <td>80.00</td>\n",
       "      <td>36.60</td>\n",
       "      <td>20.00</td>\n",
       "      <td>150.00</td>\n",
       "      <td>84.00</td>\n",
       "      <td>86.00</td>\n",
       "      <td>1</td>\n",
       "      <td>1</td>\n",
       "      <td>1</td>\n",
       "      <td>0</td>\n",
       "      <td>0</td>\n",
       "      <td>0</td>\n",
       "      <td>0</td>\n",
       "      <td>1.11</td>\n",
       "      <td>158.60</td>\n",
       "      <td>128.00</td>\n",
       "      <td>92.80</td>\n",
       "      <td>4.95</td>\n",
       "      <td>38.34</td>\n",
       "    </tr>\n",
       "    <tr>\n",
       "      <th>2</th>\n",
       "      <td>80</td>\n",
       "      <td>1.00</td>\n",
       "      <td>1.00</td>\n",
       "      <td>1.00</td>\n",
       "      <td>25.13</td>\n",
       "      <td>80.00</td>\n",
       "      <td>69.00</td>\n",
       "      <td>36.50</td>\n",
       "      <td>20.00</td>\n",
       "      <td>144.00</td>\n",
       "      <td>66.00</td>\n",
       "      <td>141.00</td>\n",
       "      <td>1</td>\n",
       "      <td>0</td>\n",
       "      <td>0</td>\n",
       "      <td>0</td>\n",
       "      <td>1</td>\n",
       "      <td>0</td>\n",
       "      <td>0</td>\n",
       "      <td>1.40</td>\n",
       "      <td>218.00</td>\n",
       "      <td>93.00</td>\n",
       "      <td>218.00</td>\n",
       "      <td>4.50</td>\n",
       "      <td>38.00</td>\n",
       "    </tr>\n",
       "    <tr>\n",
       "      <th>3</th>\n",
       "      <td>51</td>\n",
       "      <td>1.00</td>\n",
       "      <td>1.00</td>\n",
       "      <td>0.00</td>\n",
       "      <td>31.49</td>\n",
       "      <td>80.00</td>\n",
       "      <td>78.00</td>\n",
       "      <td>36.50</td>\n",
       "      <td>20.00</td>\n",
       "      <td>130.00</td>\n",
       "      <td>70.00</td>\n",
       "      <td>95.00</td>\n",
       "      <td>1</td>\n",
       "      <td>1</td>\n",
       "      <td>0</td>\n",
       "      <td>0</td>\n",
       "      <td>0</td>\n",
       "      <td>0</td>\n",
       "      <td>0</td>\n",
       "      <td>1.30</td>\n",
       "      <td>159.00</td>\n",
       "      <td>98.00</td>\n",
       "      <td>120.00</td>\n",
       "      <td>4.00</td>\n",
       "      <td>49.00</td>\n",
       "    </tr>\n",
       "    <tr>\n",
       "      <th>4</th>\n",
       "      <td>57</td>\n",
       "      <td>0.00</td>\n",
       "      <td>1.00</td>\n",
       "      <td>0.00</td>\n",
       "      <td>29.30</td>\n",
       "      <td>80.00</td>\n",
       "      <td>94.00</td>\n",
       "      <td>36.00</td>\n",
       "      <td>16.00</td>\n",
       "      <td>120.00</td>\n",
       "      <td>89.00</td>\n",
       "      <td>101.00</td>\n",
       "      <td>1</td>\n",
       "      <td>0</td>\n",
       "      <td>0</td>\n",
       "      <td>0</td>\n",
       "      <td>0</td>\n",
       "      <td>0</td>\n",
       "      <td>0</td>\n",
       "      <td>0.86</td>\n",
       "      <td>193.00</td>\n",
       "      <td>124.00</td>\n",
       "      <td>178.00</td>\n",
       "      <td>3.99</td>\n",
       "      <td>40.38</td>\n",
       "    </tr>\n",
       "    <tr>\n",
       "      <th>...</th>\n",
       "      <td>...</td>\n",
       "      <td>...</td>\n",
       "      <td>...</td>\n",
       "      <td>...</td>\n",
       "      <td>...</td>\n",
       "      <td>...</td>\n",
       "      <td>...</td>\n",
       "      <td>...</td>\n",
       "      <td>...</td>\n",
       "      <td>...</td>\n",
       "      <td>...</td>\n",
       "      <td>...</td>\n",
       "      <td>...</td>\n",
       "      <td>...</td>\n",
       "      <td>...</td>\n",
       "      <td>...</td>\n",
       "      <td>...</td>\n",
       "      <td>...</td>\n",
       "      <td>...</td>\n",
       "      <td>...</td>\n",
       "      <td>...</td>\n",
       "      <td>...</td>\n",
       "      <td>...</td>\n",
       "      <td>...</td>\n",
       "      <td>...</td>\n",
       "    </tr>\n",
       "    <tr>\n",
       "      <th>26024</th>\n",
       "      <td>68</td>\n",
       "      <td>0.00</td>\n",
       "      <td>0.00</td>\n",
       "      <td>0.00</td>\n",
       "      <td>27.56</td>\n",
       "      <td>80.00</td>\n",
       "      <td>72.00</td>\n",
       "      <td>37.00</td>\n",
       "      <td>20.00</td>\n",
       "      <td>144.00</td>\n",
       "      <td>67.00</td>\n",
       "      <td>170.00</td>\n",
       "      <td>1</td>\n",
       "      <td>1</td>\n",
       "      <td>0</td>\n",
       "      <td>0</td>\n",
       "      <td>0</td>\n",
       "      <td>0</td>\n",
       "      <td>0</td>\n",
       "      <td>0.67</td>\n",
       "      <td>261.00</td>\n",
       "      <td>99.00</td>\n",
       "      <td>128.00</td>\n",
       "      <td>4.00</td>\n",
       "      <td>41.00</td>\n",
       "    </tr>\n",
       "    <tr>\n",
       "      <th>26025</th>\n",
       "      <td>62</td>\n",
       "      <td>0.00</td>\n",
       "      <td>0.00</td>\n",
       "      <td>0.00</td>\n",
       "      <td>26.90</td>\n",
       "      <td>80.00</td>\n",
       "      <td>92.00</td>\n",
       "      <td>36.50</td>\n",
       "      <td>20.00</td>\n",
       "      <td>154.00</td>\n",
       "      <td>90.00</td>\n",
       "      <td>108.00</td>\n",
       "      <td>0</td>\n",
       "      <td>0</td>\n",
       "      <td>0</td>\n",
       "      <td>0</td>\n",
       "      <td>0</td>\n",
       "      <td>0</td>\n",
       "      <td>0</td>\n",
       "      <td>0.82</td>\n",
       "      <td>188.00</td>\n",
       "      <td>120.00</td>\n",
       "      <td>138.00</td>\n",
       "      <td>4.60</td>\n",
       "      <td>43.00</td>\n",
       "    </tr>\n",
       "    <tr>\n",
       "      <th>26026</th>\n",
       "      <td>64</td>\n",
       "      <td>0.00</td>\n",
       "      <td>0.00</td>\n",
       "      <td>0.00</td>\n",
       "      <td>31.33</td>\n",
       "      <td>80.00</td>\n",
       "      <td>66.00</td>\n",
       "      <td>35.20</td>\n",
       "      <td>20.00</td>\n",
       "      <td>187.00</td>\n",
       "      <td>69.00</td>\n",
       "      <td>101.00</td>\n",
       "      <td>1</td>\n",
       "      <td>1</td>\n",
       "      <td>0</td>\n",
       "      <td>0</td>\n",
       "      <td>1</td>\n",
       "      <td>0</td>\n",
       "      <td>0</td>\n",
       "      <td>2.11</td>\n",
       "      <td>171.00</td>\n",
       "      <td>214.00</td>\n",
       "      <td>126.00</td>\n",
       "      <td>5.05</td>\n",
       "      <td>32.80</td>\n",
       "    </tr>\n",
       "    <tr>\n",
       "      <th>26027</th>\n",
       "      <td>63</td>\n",
       "      <td>1.00</td>\n",
       "      <td>0.00</td>\n",
       "      <td>0.00</td>\n",
       "      <td>24.39</td>\n",
       "      <td>80.00</td>\n",
       "      <td>69.00</td>\n",
       "      <td>36.60</td>\n",
       "      <td>20.00</td>\n",
       "      <td>130.00</td>\n",
       "      <td>75.00</td>\n",
       "      <td>112.00</td>\n",
       "      <td>0</td>\n",
       "      <td>0</td>\n",
       "      <td>0</td>\n",
       "      <td>0</td>\n",
       "      <td>0</td>\n",
       "      <td>0</td>\n",
       "      <td>0</td>\n",
       "      <td>0.90</td>\n",
       "      <td>199.00</td>\n",
       "      <td>114.00</td>\n",
       "      <td>59.00</td>\n",
       "      <td>4.40</td>\n",
       "      <td>45.20</td>\n",
       "    </tr>\n",
       "    <tr>\n",
       "      <th>26028</th>\n",
       "      <td>58</td>\n",
       "      <td>0.00</td>\n",
       "      <td>0.00</td>\n",
       "      <td>0.00</td>\n",
       "      <td>21.91</td>\n",
       "      <td>80.00</td>\n",
       "      <td>93.00</td>\n",
       "      <td>36.50</td>\n",
       "      <td>20.00</td>\n",
       "      <td>135.00</td>\n",
       "      <td>83.00</td>\n",
       "      <td>125.00</td>\n",
       "      <td>1</td>\n",
       "      <td>1</td>\n",
       "      <td>0</td>\n",
       "      <td>0</td>\n",
       "      <td>0</td>\n",
       "      <td>0</td>\n",
       "      <td>0</td>\n",
       "      <td>0.49</td>\n",
       "      <td>226.00</td>\n",
       "      <td>373.00</td>\n",
       "      <td>70.00</td>\n",
       "      <td>4.20</td>\n",
       "      <td>40.00</td>\n",
       "    </tr>\n",
       "  </tbody>\n",
       "</table>\n",
       "<p>26029 rows × 25 columns</p>\n",
       "</div>"
      ],
      "text/plain": [
       "       patientAge  patientSexName  smoking  alcohol  vital_bmi  vital_hr  \\\n",
       "0              69            0.00     0.00     0.00      25.30     80.00   \n",
       "1              75            1.00     1.00     0.00      26.78     80.00   \n",
       "2              80            1.00     1.00     1.00      25.13     80.00   \n",
       "3              51            1.00     1.00     0.00      31.49     80.00   \n",
       "4              57            0.00     1.00     0.00      29.30     80.00   \n",
       "...           ...             ...      ...      ...        ...       ...   \n",
       "26024          68            0.00     0.00     0.00      27.56     80.00   \n",
       "26025          62            0.00     0.00     0.00      26.90     80.00   \n",
       "26026          64            0.00     0.00     0.00      31.33     80.00   \n",
       "26027          63            1.00     0.00     0.00      24.39     80.00   \n",
       "26028          58            0.00     0.00     0.00      21.91     80.00   \n",
       "\n",
       "       vital_pulse  vital_temperature  vital_rr  vital_bps  vital_bpd  \\\n",
       "0            73.00              36.00     16.00     150.00      90.00   \n",
       "1            80.00              36.60     20.00     150.00      84.00   \n",
       "2            69.00              36.50     20.00     144.00      66.00   \n",
       "3            78.00              36.50     20.00     130.00      70.00   \n",
       "4            94.00              36.00     16.00     120.00      89.00   \n",
       "...            ...                ...       ...        ...        ...   \n",
       "26024        72.00              37.00     20.00     144.00      67.00   \n",
       "26025        92.00              36.50     20.00     154.00      90.00   \n",
       "26026        66.00              35.20     20.00     187.00      69.00   \n",
       "26027        69.00              36.60     20.00     130.00      75.00   \n",
       "26028        93.00              36.50     20.00     135.00      83.00   \n",
       "\n",
       "       LDL-Cholesterol  Hypertension  Hyperlipidaemia  Diabetes_Mellitus  \\\n",
       "0               124.00             1                0                  0   \n",
       "1                86.00             1                1                  1   \n",
       "2               141.00             1                0                  0   \n",
       "3                95.00             1                1                  0   \n",
       "4               101.00             1                0                  0   \n",
       "...                ...           ...              ...                ...   \n",
       "26024           170.00             1                1                  0   \n",
       "26025           108.00             0                0                  0   \n",
       "26026           101.00             1                1                  0   \n",
       "26027           112.00             0                0                  0   \n",
       "26028           125.00             1                1                  0   \n",
       "\n",
       "       Hemiplegia  Chronic_kidney  Atrial_fibrillation  Hypokalemia  \\\n",
       "0               0               0                    0            0   \n",
       "1               0               0                    0            0   \n",
       "2               0               1                    0            0   \n",
       "3               0               0                    0            0   \n",
       "4               0               0                    0            0   \n",
       "...           ...             ...                  ...          ...   \n",
       "26024           0               0                    0            0   \n",
       "26025           0               0                    0            0   \n",
       "26026           0               1                    0            0   \n",
       "26027           0               0                    0            0   \n",
       "26028           0               0                    0            0   \n",
       "\n",
       "       Creatinine  Cholesterol    FBS  Triglyceride  Potassium   HCT  \n",
       "0            0.70       142.60  97.20        347.00       3.92 39.54  \n",
       "1            1.11       158.60 128.00         92.80       4.95 38.34  \n",
       "2            1.40       218.00  93.00        218.00       4.50 38.00  \n",
       "3            1.30       159.00  98.00        120.00       4.00 49.00  \n",
       "4            0.86       193.00 124.00        178.00       3.99 40.38  \n",
       "...           ...          ...    ...           ...        ...   ...  \n",
       "26024        0.67       261.00  99.00        128.00       4.00 41.00  \n",
       "26025        0.82       188.00 120.00        138.00       4.60 43.00  \n",
       "26026        2.11       171.00 214.00        126.00       5.05 32.80  \n",
       "26027        0.90       199.00 114.00         59.00       4.40 45.20  \n",
       "26028        0.49       226.00 373.00         70.00       4.20 40.00  \n",
       "\n",
       "[26029 rows x 25 columns]"
      ]
     },
     "execution_count": 10,
     "metadata": {},
     "output_type": "execute_result"
    }
   ],
   "source": [
    "X"
   ]
  },
  {
   "cell_type": "code",
   "execution_count": 11,
   "id": "e0c5e106",
   "metadata": {},
   "outputs": [
    {
     "data": {
      "text/plain": [
       "0        1\n",
       "1        1\n",
       "2        1\n",
       "3        1\n",
       "4        1\n",
       "        ..\n",
       "26024    0\n",
       "26025    0\n",
       "26026    0\n",
       "26027    0\n",
       "26028    0\n",
       "Name: stroke, Length: 26029, dtype: int64"
      ]
     },
     "execution_count": 11,
     "metadata": {},
     "output_type": "execute_result"
    }
   ],
   "source": [
    "y"
   ]
  },
  {
   "cell_type": "code",
   "execution_count": 12,
   "id": "52131469",
   "metadata": {},
   "outputs": [
    {
     "data": {
      "text/plain": [
       "Counter({1: 4378, 0: 21651})"
      ]
     },
     "execution_count": 12,
     "metadata": {},
     "output_type": "execute_result"
    }
   ],
   "source": [
    "Counter(y)"
   ]
  },
  {
   "cell_type": "code",
   "execution_count": 13,
   "id": "2462488d",
   "metadata": {},
   "outputs": [
    {
     "data": {
      "text/plain": [
       "0    21651\n",
       "1     4378\n",
       "Name: stroke, dtype: int64"
      ]
     },
     "execution_count": 13,
     "metadata": {},
     "output_type": "execute_result"
    }
   ],
   "source": [
    "y.value_counts()"
   ]
  },
  {
   "cell_type": "code",
   "execution_count": 14,
   "id": "6c96d9bb",
   "metadata": {},
   "outputs": [],
   "source": [
    "# train 80 & test 20 \n",
    "X_train, X_test, y_train, y_test = train_test_split(X, y, test_size=0.1, random_state=7)"
   ]
  },
  {
   "cell_type": "code",
   "execution_count": 15,
   "id": "899761bf",
   "metadata": {},
   "outputs": [
    {
     "name": "stdout",
     "output_type": "stream",
     "text": [
      "2603\n",
      "23426\n"
     ]
    }
   ],
   "source": [
    "print(len(X_test))\n",
    "print(len(X_train))"
   ]
  },
  {
   "cell_type": "markdown",
   "id": "4a3a936b",
   "metadata": {},
   "source": [
    "## Decision Tree เฉย ๆ"
   ]
  },
  {
   "cell_type": "code",
   "execution_count": 16,
   "id": "de604d89",
   "metadata": {},
   "outputs": [],
   "source": [
    "from sklearn import tree"
   ]
  },
  {
   "cell_type": "code",
   "execution_count": 17,
   "id": "06cb9cf4",
   "metadata": {},
   "outputs": [],
   "source": [
    "dt = tree.DecisionTreeClassifier()"
   ]
  },
  {
   "cell_type": "code",
   "execution_count": 18,
   "id": "9cde6b8b",
   "metadata": {},
   "outputs": [
    {
     "data": {
      "text/plain": [
       "DecisionTreeClassifier()"
      ]
     },
     "execution_count": 18,
     "metadata": {},
     "output_type": "execute_result"
    }
   ],
   "source": [
    "dt.fit(X_train,y_train)"
   ]
  },
  {
   "cell_type": "code",
   "execution_count": 19,
   "id": "9bc2f527",
   "metadata": {},
   "outputs": [
    {
     "data": {
      "text/plain": [
       "1.0"
      ]
     },
     "execution_count": 19,
     "metadata": {},
     "output_type": "execute_result"
    }
   ],
   "source": [
    "dt.score(X_train,y_train)"
   ]
  },
  {
   "cell_type": "code",
   "execution_count": 20,
   "id": "8656391f",
   "metadata": {},
   "outputs": [
    {
     "data": {
      "text/plain": [
       "0.825585862466385"
      ]
     },
     "execution_count": 20,
     "metadata": {},
     "output_type": "execute_result"
    }
   ],
   "source": [
    "dt.score(X_test,y_test) #score = accuracy"
   ]
  },
  {
   "cell_type": "code",
   "execution_count": 21,
   "id": "277cf977",
   "metadata": {},
   "outputs": [],
   "source": [
    "# new = [2, 155, 50, 30, 200, 25, 0.24, 34]\n",
    "# new_pred = dt.predict([new])\n",
    "# new_pred"
   ]
  },
  {
   "cell_type": "code",
   "execution_count": 22,
   "id": "f5017bf3",
   "metadata": {},
   "outputs": [
    {
     "data": {
      "text/plain": [
       "array([0, 1, 1, ..., 0, 0, 1], dtype=int64)"
      ]
     },
     "execution_count": 22,
     "metadata": {},
     "output_type": "execute_result"
    }
   ],
   "source": [
    "y_pred = dt.predict(X_test)\n",
    "y_pred"
   ]
  },
  {
   "cell_type": "code",
   "execution_count": 23,
   "id": "e5543a3f",
   "metadata": {},
   "outputs": [
    {
     "data": {
      "text/plain": [
       "array([[1951,  238],\n",
       "       [ 216,  198]], dtype=int64)"
      ]
     },
     "execution_count": 23,
     "metadata": {},
     "output_type": "execute_result"
    }
   ],
   "source": [
    "confusion_matrix(y_test, y_pred)"
   ]
  },
  {
   "cell_type": "raw",
   "id": "de7b91c4",
   "metadata": {},
   "source": [
    "tn, fp\n",
    "fn, tp"
   ]
  },
  {
   "cell_type": "code",
   "execution_count": 24,
   "id": "d7d5b3c0",
   "metadata": {},
   "outputs": [],
   "source": [
    "# plot_confusion_matrix(dt, X_test, y_test);"
   ]
  },
  {
   "cell_type": "code",
   "execution_count": 25,
   "id": "cad70058",
   "metadata": {},
   "outputs": [],
   "source": [
    "# metrics.precision_score(y_test, y_pred)"
   ]
  },
  {
   "cell_type": "code",
   "execution_count": 26,
   "id": "82d16b31",
   "metadata": {},
   "outputs": [],
   "source": [
    "# metrics.recall_score(y_test, y_pred)"
   ]
  },
  {
   "cell_type": "code",
   "execution_count": 27,
   "id": "74cd2b98",
   "metadata": {},
   "outputs": [],
   "source": [
    "tn,fp,fn,tp = metrics.confusion_matrix(y_test, y_pred).ravel()"
   ]
  },
  {
   "cell_type": "code",
   "execution_count": 28,
   "id": "24c94d6f",
   "metadata": {},
   "outputs": [
    {
     "data": {
      "text/plain": [
       "0.4782608695652174"
      ]
     },
     "execution_count": 28,
     "metadata": {},
     "output_type": "execute_result"
    }
   ],
   "source": [
    "recall = tp/(tp+fn)\n",
    "recall"
   ]
  },
  {
   "cell_type": "code",
   "execution_count": 29,
   "id": "5961dcdb",
   "metadata": {},
   "outputs": [
    {
     "data": {
      "text/plain": [
       "0.4541284403669725"
      ]
     },
     "execution_count": 29,
     "metadata": {},
     "output_type": "execute_result"
    }
   ],
   "source": [
    "precision = tp/(tp+fp)\n",
    "precision"
   ]
  },
  {
   "cell_type": "code",
   "execution_count": 30,
   "id": "38509e05",
   "metadata": {},
   "outputs": [
    {
     "name": "stdout",
     "output_type": "stream",
     "text": [
      "              precision    recall  f1-score   support\n",
      "\n",
      "           0       0.90      0.89      0.90      2189\n",
      "           1       0.45      0.48      0.47       414\n",
      "\n",
      "    accuracy                           0.83      2603\n",
      "   macro avg       0.68      0.68      0.68      2603\n",
      "weighted avg       0.83      0.83      0.83      2603\n",
      "\n"
     ]
    }
   ],
   "source": [
    "print(classification_report(y_test, y_pred))"
   ]
  },
  {
   "cell_type": "markdown",
   "id": "845b8972",
   "metadata": {},
   "source": [
    "## Random Forest เฉย ๆ"
   ]
  },
  {
   "cell_type": "code",
   "execution_count": 31,
   "id": "7445d992",
   "metadata": {},
   "outputs": [],
   "source": [
    "rf = RandomForestClassifier()"
   ]
  },
  {
   "cell_type": "code",
   "execution_count": 32,
   "id": "d775c6ef",
   "metadata": {},
   "outputs": [],
   "source": [
    "rf = rf.fit(X_train, y_train)"
   ]
  },
  {
   "cell_type": "code",
   "execution_count": 33,
   "id": "8146e0af",
   "metadata": {},
   "outputs": [],
   "source": [
    "y_pred = rf.predict(X_test)"
   ]
  },
  {
   "cell_type": "code",
   "execution_count": 34,
   "id": "384f2d52",
   "metadata": {},
   "outputs": [
    {
     "data": {
      "text/plain": [
       "1.0"
      ]
     },
     "execution_count": 34,
     "metadata": {},
     "output_type": "execute_result"
    }
   ],
   "source": [
    "rf.score(X_train, y_train)"
   ]
  },
  {
   "cell_type": "code",
   "execution_count": 35,
   "id": "20cd72b1",
   "metadata": {},
   "outputs": [
    {
     "data": {
      "text/plain": [
       "0.8955051863234729"
      ]
     },
     "execution_count": 35,
     "metadata": {},
     "output_type": "execute_result"
    }
   ],
   "source": [
    "rf.score(X_test, y_test)"
   ]
  },
  {
   "cell_type": "code",
   "execution_count": 36,
   "id": "ff9e66dd",
   "metadata": {},
   "outputs": [
    {
     "name": "stdout",
     "output_type": "stream",
     "text": [
      "              precision    recall  f1-score   support\n",
      "\n",
      "           0       0.90      0.99      0.94      2189\n",
      "           1       0.88      0.40      0.55       414\n",
      "\n",
      "    accuracy                           0.90      2603\n",
      "   macro avg       0.89      0.69      0.74      2603\n",
      "weighted avg       0.89      0.90      0.88      2603\n",
      "\n"
     ]
    }
   ],
   "source": [
    "print(classification_report(y_test, y_pred))"
   ]
  },
  {
   "cell_type": "code",
   "execution_count": 37,
   "id": "9761a95d",
   "metadata": {},
   "outputs": [],
   "source": [
    "# plot_confusion_matrix(rf, X_test, y_test);"
   ]
  },
  {
   "cell_type": "markdown",
   "id": "7f4ae556",
   "metadata": {},
   "source": [
    "## Feature Impotances "
   ]
  },
  {
   "cell_type": "code",
   "execution_count": 38,
   "id": "5099bd5c",
   "metadata": {},
   "outputs": [
    {
     "data": {
      "image/png": "[encoded data removed]",
      "text/plain": [
       "<Figure size 640x480 with 1 Axes>"
      ]
     },
     "metadata": {
      "image/png": {
       "height": 454,
       "width": 669
      }
     },
     "output_type": "display_data"
    }
   ],
   "source": [
    "features = pd.Series(rf.feature_importances_, index=X.columns).sort_values(ascending=False)\n",
    "\n",
    "sns.barplot(x=features, y=features.index)\n",
    "plt.xlabel('Score')\n",
    "plt.ylabel('Parameter')\n",
    "plt.title('Feature Importance')\n",
    "plt.show()"
   ]
  },
  {
   "cell_type": "code",
   "execution_count": 39,
   "id": "adb16faf",
   "metadata": {},
   "outputs": [
    {
     "data": {
      "text/plain": [
       "Cholesterol           0.10\n",
       "vital_rr              0.09\n",
       "LDL-Cholesterol       0.09\n",
       "HCT                   0.09\n",
       "Potassium             0.07\n",
       "vital_bmi             0.07\n",
       "Creatinine            0.06\n",
       "Triglyceride          0.06\n",
       "vital_bps             0.05\n",
       "FBS                   0.05\n",
       "vital_bpd             0.05\n",
       "patientAge            0.05\n",
       "vital_pulse           0.05\n",
       "vital_temperature     0.04\n",
       "patientSexName        0.02\n",
       "alcohol               0.02\n",
       "Diabetes_Mellitus     0.01\n",
       "Hyperlipidaemia       0.01\n",
       "Hypertension          0.01\n",
       "vital_hr              0.01\n",
       "smoking               0.01\n",
       "Chronic_kidney        0.01\n",
       "Hemiplegia            0.01\n",
       "Atrial_fibrillation   0.00\n",
       "Hypokalemia           0.00\n",
       "dtype: float64"
      ]
     },
     "execution_count": 39,
     "metadata": {},
     "output_type": "execute_result"
    }
   ],
   "source": [
    "fs = pd.Series(rf.feature_importances_, index=X.columns).sort_values(ascending=False)\n",
    "fs"
   ]
  },
  {
   "cell_type": "code",
   "execution_count": 40,
   "id": "9b62c217",
   "metadata": {},
   "outputs": [],
   "source": [
    "# fs.sort_values(ascending=True).plot(kind='barh' , color='orange')"
   ]
  },
  {
   "cell_type": "code",
   "execution_count": 41,
   "id": "da2d7051",
   "metadata": {},
   "outputs": [
    {
     "data": {
      "text/plain": [
       "Cholesterol       0.10\n",
       "vital_rr          0.09\n",
       "LDL-Cholesterol   0.09\n",
       "HCT               0.09\n",
       "Potassium         0.07\n",
       "vital_bmi         0.07\n",
       "Creatinine        0.06\n",
       "Triglyceride      0.06\n",
       "dtype: float64"
      ]
     },
     "execution_count": 41,
     "metadata": {},
     "output_type": "execute_result"
    }
   ],
   "source": [
    "fs[fs > 0.05]"
   ]
  },
  {
   "cell_type": "code",
   "execution_count": 42,
   "id": "5b70286a",
   "metadata": {},
   "outputs": [],
   "source": [
    "X = df[['vital_bmi','Cholesterol','Triglyceride','LDL-Cholesterol','vital_pulse','FBS',\n",
    "       'Creatinine','patientAge','vital_bps','vital_bpd']]\n",
    "y = df['stroke']"
   ]
  },
  {
   "cell_type": "code",
   "execution_count": 43,
   "id": "253cf0e2",
   "metadata": {},
   "outputs": [],
   "source": [
    "# fs > 0.05"
   ]
  },
  {
   "cell_type": "code",
   "execution_count": 44,
   "id": "6de86e33",
   "metadata": {},
   "outputs": [],
   "source": [
    "# forest = RandomForestClassifier()\n",
    "# forest.fit(X, y)"
   ]
  },
  {
   "cell_type": "code",
   "execution_count": 45,
   "id": "f08886de",
   "metadata": {},
   "outputs": [],
   "source": [
    "# df_scores = pd.DataFrame({'feature':X.columns,'importanceScore': forest.feature_importances_})\n",
    "# df_scores.plot.barh(x='feature', y='importanceScore');"
   ]
  },
  {
   "cell_type": "code",
   "execution_count": 46,
   "id": "89474996",
   "metadata": {},
   "outputs": [],
   "source": [
    "# features = df_scores[df_scores['importanceScore'] > 0.05]\n",
    "# features"
   ]
  },
  {
   "cell_type": "code",
   "execution_count": 47,
   "id": "2bbcb966",
   "metadata": {},
   "outputs": [],
   "source": [
    "# cols = features.index\n",
    "# cols"
   ]
  },
  {
   "cell_type": "code",
   "execution_count": 48,
   "id": "451cc6c0",
   "metadata": {},
   "outputs": [],
   "source": [
    "# df.columns"
   ]
  },
  {
   "cell_type": "code",
   "execution_count": 49,
   "id": "170b78c4",
   "metadata": {},
   "outputs": [],
   "source": [
    "# X = df.drop(['rowID', 'stroke','Age_R','health_level','LDL_level','Chronic_kidney','Hypokalemia',\n",
    "#            'vital_rr','Atrial_fibrillation','vital_hr','vital_temperature','Hemiplegia','Hypertension',\n",
    "#             'Diabetes_Mellitus','Hyperlipidaemia','exercise','smoking','patientSexName','alcohol'], axis=1)\n",
    "# y = df['stroke']"
   ]
  },
  {
   "cell_type": "code",
   "execution_count": 50,
   "id": "c152f179",
   "metadata": {},
   "outputs": [
    {
     "data": {
      "text/html": [
       "<div>\n",
       "<style scoped>\n",
       "    .dataframe tbody tr th:only-of-type {\n",
       "        vertical-align: middle;\n",
       "    }\n",
       "\n",
       "    .dataframe tbody tr th {\n",
       "        vertical-align: top;\n",
       "    }\n",
       "\n",
       "    .dataframe thead th {\n",
       "        text-align: right;\n",
       "    }\n",
       "</style>\n",
       "<table border=\"1\" class=\"dataframe\">\n",
       "  <thead>\n",
       "    <tr style=\"text-align: right;\">\n",
       "      <th></th>\n",
       "      <th>vital_bmi</th>\n",
       "      <th>Cholesterol</th>\n",
       "      <th>Triglyceride</th>\n",
       "      <th>LDL-Cholesterol</th>\n",
       "      <th>vital_pulse</th>\n",
       "      <th>FBS</th>\n",
       "      <th>Creatinine</th>\n",
       "      <th>patientAge</th>\n",
       "      <th>vital_bps</th>\n",
       "      <th>vital_bpd</th>\n",
       "    </tr>\n",
       "  </thead>\n",
       "  <tbody>\n",
       "    <tr>\n",
       "      <th>0</th>\n",
       "      <td>25.30</td>\n",
       "      <td>142.60</td>\n",
       "      <td>347.00</td>\n",
       "      <td>124.00</td>\n",
       "      <td>73.00</td>\n",
       "      <td>97.20</td>\n",
       "      <td>0.70</td>\n",
       "      <td>69</td>\n",
       "      <td>150.00</td>\n",
       "      <td>90.00</td>\n",
       "    </tr>\n",
       "    <tr>\n",
       "      <th>1</th>\n",
       "      <td>26.78</td>\n",
       "      <td>158.60</td>\n",
       "      <td>92.80</td>\n",
       "      <td>86.00</td>\n",
       "      <td>80.00</td>\n",
       "      <td>128.00</td>\n",
       "      <td>1.11</td>\n",
       "      <td>75</td>\n",
       "      <td>150.00</td>\n",
       "      <td>84.00</td>\n",
       "    </tr>\n",
       "    <tr>\n",
       "      <th>2</th>\n",
       "      <td>25.13</td>\n",
       "      <td>218.00</td>\n",
       "      <td>218.00</td>\n",
       "      <td>141.00</td>\n",
       "      <td>69.00</td>\n",
       "      <td>93.00</td>\n",
       "      <td>1.40</td>\n",
       "      <td>80</td>\n",
       "      <td>144.00</td>\n",
       "      <td>66.00</td>\n",
       "    </tr>\n",
       "    <tr>\n",
       "      <th>3</th>\n",
       "      <td>31.49</td>\n",
       "      <td>159.00</td>\n",
       "      <td>120.00</td>\n",
       "      <td>95.00</td>\n",
       "      <td>78.00</td>\n",
       "      <td>98.00</td>\n",
       "      <td>1.30</td>\n",
       "      <td>51</td>\n",
       "      <td>130.00</td>\n",
       "      <td>70.00</td>\n",
       "    </tr>\n",
       "    <tr>\n",
       "      <th>4</th>\n",
       "      <td>29.30</td>\n",
       "      <td>193.00</td>\n",
       "      <td>178.00</td>\n",
       "      <td>101.00</td>\n",
       "      <td>94.00</td>\n",
       "      <td>124.00</td>\n",
       "      <td>0.86</td>\n",
       "      <td>57</td>\n",
       "      <td>120.00</td>\n",
       "      <td>89.00</td>\n",
       "    </tr>\n",
       "    <tr>\n",
       "      <th>...</th>\n",
       "      <td>...</td>\n",
       "      <td>...</td>\n",
       "      <td>...</td>\n",
       "      <td>...</td>\n",
       "      <td>...</td>\n",
       "      <td>...</td>\n",
       "      <td>...</td>\n",
       "      <td>...</td>\n",
       "      <td>...</td>\n",
       "      <td>...</td>\n",
       "    </tr>\n",
       "    <tr>\n",
       "      <th>26024</th>\n",
       "      <td>27.56</td>\n",
       "      <td>261.00</td>\n",
       "      <td>128.00</td>\n",
       "      <td>170.00</td>\n",
       "      <td>72.00</td>\n",
       "      <td>99.00</td>\n",
       "      <td>0.67</td>\n",
       "      <td>68</td>\n",
       "      <td>144.00</td>\n",
       "      <td>67.00</td>\n",
       "    </tr>\n",
       "    <tr>\n",
       "      <th>26025</th>\n",
       "      <td>26.90</td>\n",
       "      <td>188.00</td>\n",
       "      <td>138.00</td>\n",
       "      <td>108.00</td>\n",
       "      <td>92.00</td>\n",
       "      <td>120.00</td>\n",
       "      <td>0.82</td>\n",
       "      <td>62</td>\n",
       "      <td>154.00</td>\n",
       "      <td>90.00</td>\n",
       "    </tr>\n",
       "    <tr>\n",
       "      <th>26026</th>\n",
       "      <td>31.33</td>\n",
       "      <td>171.00</td>\n",
       "      <td>126.00</td>\n",
       "      <td>101.00</td>\n",
       "      <td>66.00</td>\n",
       "      <td>214.00</td>\n",
       "      <td>2.11</td>\n",
       "      <td>64</td>\n",
       "      <td>187.00</td>\n",
       "      <td>69.00</td>\n",
       "    </tr>\n",
       "    <tr>\n",
       "      <th>26027</th>\n",
       "      <td>24.39</td>\n",
       "      <td>199.00</td>\n",
       "      <td>59.00</td>\n",
       "      <td>112.00</td>\n",
       "      <td>69.00</td>\n",
       "      <td>114.00</td>\n",
       "      <td>0.90</td>\n",
       "      <td>63</td>\n",
       "      <td>130.00</td>\n",
       "      <td>75.00</td>\n",
       "    </tr>\n",
       "    <tr>\n",
       "      <th>26028</th>\n",
       "      <td>21.91</td>\n",
       "      <td>226.00</td>\n",
       "      <td>70.00</td>\n",
       "      <td>125.00</td>\n",
       "      <td>93.00</td>\n",
       "      <td>373.00</td>\n",
       "      <td>0.49</td>\n",
       "      <td>58</td>\n",
       "      <td>135.00</td>\n",
       "      <td>83.00</td>\n",
       "    </tr>\n",
       "  </tbody>\n",
       "</table>\n",
       "<p>26029 rows × 10 columns</p>\n",
       "</div>"
      ],
      "text/plain": [
       "       vital_bmi  Cholesterol  Triglyceride  LDL-Cholesterol  vital_pulse  \\\n",
       "0          25.30       142.60        347.00           124.00        73.00   \n",
       "1          26.78       158.60         92.80            86.00        80.00   \n",
       "2          25.13       218.00        218.00           141.00        69.00   \n",
       "3          31.49       159.00        120.00            95.00        78.00   \n",
       "4          29.30       193.00        178.00           101.00        94.00   \n",
       "...          ...          ...           ...              ...          ...   \n",
       "26024      27.56       261.00        128.00           170.00        72.00   \n",
       "26025      26.90       188.00        138.00           108.00        92.00   \n",
       "26026      31.33       171.00        126.00           101.00        66.00   \n",
       "26027      24.39       199.00         59.00           112.00        69.00   \n",
       "26028      21.91       226.00         70.00           125.00        93.00   \n",
       "\n",
       "         FBS  Creatinine  patientAge  vital_bps  vital_bpd  \n",
       "0      97.20        0.70          69     150.00      90.00  \n",
       "1     128.00        1.11          75     150.00      84.00  \n",
       "2      93.00        1.40          80     144.00      66.00  \n",
       "3      98.00        1.30          51     130.00      70.00  \n",
       "4     124.00        0.86          57     120.00      89.00  \n",
       "...      ...         ...         ...        ...        ...  \n",
       "26024  99.00        0.67          68     144.00      67.00  \n",
       "26025 120.00        0.82          62     154.00      90.00  \n",
       "26026 214.00        2.11          64     187.00      69.00  \n",
       "26027 114.00        0.90          63     130.00      75.00  \n",
       "26028 373.00        0.49          58     135.00      83.00  \n",
       "\n",
       "[26029 rows x 10 columns]"
      ]
     },
     "execution_count": 50,
     "metadata": {},
     "output_type": "execute_result"
    }
   ],
   "source": [
    "X"
   ]
  },
  {
   "cell_type": "code",
   "execution_count": 51,
   "id": "b8a86286",
   "metadata": {},
   "outputs": [
    {
     "data": {
      "text/plain": [
       "0        1\n",
       "1        1\n",
       "2        1\n",
       "3        1\n",
       "4        1\n",
       "        ..\n",
       "26024    0\n",
       "26025    0\n",
       "26026    0\n",
       "26027    0\n",
       "26028    0\n",
       "Name: stroke, Length: 26029, dtype: int64"
      ]
     },
     "execution_count": 51,
     "metadata": {},
     "output_type": "execute_result"
    }
   ],
   "source": [
    "y"
   ]
  },
  {
   "cell_type": "code",
   "execution_count": 52,
   "id": "c27b68fa",
   "metadata": {},
   "outputs": [],
   "source": [
    "# train 80 & test 20 \n",
    "X_train, X_test, y_train, y_test = train_test_split(X, y, test_size=0.2, random_state=7)"
   ]
  },
  {
   "cell_type": "markdown",
   "id": "94a50741",
   "metadata": {},
   "source": [
    "## Random Forest use feature importance"
   ]
  },
  {
   "cell_type": "code",
   "execution_count": 53,
   "id": "fddb1376",
   "metadata": {},
   "outputs": [],
   "source": [
    "rf = RandomForestClassifier()"
   ]
  },
  {
   "cell_type": "code",
   "execution_count": 54,
   "id": "04cd7fe5",
   "metadata": {},
   "outputs": [],
   "source": [
    "rf = rf.fit(X_train, y_train)"
   ]
  },
  {
   "cell_type": "code",
   "execution_count": 55,
   "id": "ff597122",
   "metadata": {},
   "outputs": [],
   "source": [
    "y_pred = rf.predict(X_test)"
   ]
  },
  {
   "cell_type": "code",
   "execution_count": 56,
   "id": "716ded78",
   "metadata": {},
   "outputs": [
    {
     "data": {
      "text/plain": [
       "0.9999519761801854"
      ]
     },
     "execution_count": 56,
     "metadata": {},
     "output_type": "execute_result"
    }
   ],
   "source": [
    "rf.score(X_train, y_train)"
   ]
  },
  {
   "cell_type": "code",
   "execution_count": 57,
   "id": "8174f231",
   "metadata": {},
   "outputs": [
    {
     "data": {
      "text/plain": [
       "0.8632347291586631"
      ]
     },
     "execution_count": 57,
     "metadata": {},
     "output_type": "execute_result"
    }
   ],
   "source": [
    "rf.score(X_test, y_test)"
   ]
  },
  {
   "cell_type": "code",
   "execution_count": 58,
   "id": "4aaaf661",
   "metadata": {},
   "outputs": [
    {
     "data": {
      "text/plain": [
       "array([[4329,   49],\n",
       "       [ 663,  165]], dtype=int64)"
      ]
     },
     "execution_count": 58,
     "metadata": {},
     "output_type": "execute_result"
    }
   ],
   "source": [
    "confusion_matrix(y_test, y_pred)"
   ]
  },
  {
   "cell_type": "code",
   "execution_count": 59,
   "id": "4e51c329",
   "metadata": {},
   "outputs": [
    {
     "name": "stdout",
     "output_type": "stream",
     "text": [
      "              precision    recall  f1-score   support\n",
      "\n",
      "           0       0.87      0.99      0.92      4378\n",
      "           1       0.77      0.20      0.32       828\n",
      "\n",
      "    accuracy                           0.86      5206\n",
      "   macro avg       0.82      0.59      0.62      5206\n",
      "weighted avg       0.85      0.86      0.83      5206\n",
      "\n"
     ]
    }
   ],
   "source": [
    "print(classification_report(y_test, y_pred))"
   ]
  },
  {
   "cell_type": "code",
   "execution_count": 60,
   "id": "ae8a3aa2",
   "metadata": {},
   "outputs": [],
   "source": [
    "# plot_confusion_matrix(rf, X_test, y_test);"
   ]
  },
  {
   "cell_type": "markdown",
   "id": "09594740",
   "metadata": {},
   "source": [
    "# ##########################################"
   ]
  },
  {
   "cell_type": "markdown",
   "id": "ed7ae6df",
   "metadata": {},
   "source": [
    "## Decision Tree UnderSample"
   ]
  },
  {
   "cell_type": "code",
   "execution_count": 61,
   "id": "06faaa13",
   "metadata": {},
   "outputs": [
    {
     "data": {
      "text/html": [
       "<div>\n",
       "<style scoped>\n",
       "    .dataframe tbody tr th:only-of-type {\n",
       "        vertical-align: middle;\n",
       "    }\n",
       "\n",
       "    .dataframe tbody tr th {\n",
       "        vertical-align: top;\n",
       "    }\n",
       "\n",
       "    .dataframe thead th {\n",
       "        text-align: right;\n",
       "    }\n",
       "</style>\n",
       "<table border=\"1\" class=\"dataframe\">\n",
       "  <thead>\n",
       "    <tr style=\"text-align: right;\">\n",
       "      <th></th>\n",
       "      <th>rowID</th>\n",
       "      <th>patientAge</th>\n",
       "      <th>patientSexName</th>\n",
       "      <th>smoking</th>\n",
       "      <th>alcohol</th>\n",
       "      <th>vital_bmi</th>\n",
       "      <th>vital_hr</th>\n",
       "      <th>vital_pulse</th>\n",
       "      <th>vital_temperature</th>\n",
       "      <th>vital_rr</th>\n",
       "      <th>vital_bps</th>\n",
       "      <th>vital_bpd</th>\n",
       "      <th>LDL-Cholesterol</th>\n",
       "      <th>Hypertension</th>\n",
       "      <th>Hyperlipidaemia</th>\n",
       "      <th>Diabetes_Mellitus</th>\n",
       "      <th>Hemiplegia</th>\n",
       "      <th>Chronic_kidney</th>\n",
       "      <th>Atrial_fibrillation</th>\n",
       "      <th>Hypokalemia</th>\n",
       "      <th>stroke</th>\n",
       "      <th>Age_R</th>\n",
       "      <th>health_level</th>\n",
       "      <th>LDL_level</th>\n",
       "      <th>Creatinine</th>\n",
       "      <th>Cholesterol</th>\n",
       "      <th>FBS</th>\n",
       "      <th>Triglyceride</th>\n",
       "      <th>Potassium</th>\n",
       "      <th>HCT</th>\n",
       "      <th>Age_R_e</th>\n",
       "      <th>health_level_e</th>\n",
       "      <th>LDL_level_e</th>\n",
       "    </tr>\n",
       "  </thead>\n",
       "  <tbody>\n",
       "    <tr>\n",
       "      <th>0</th>\n",
       "      <td>3719915</td>\n",
       "      <td>69</td>\n",
       "      <td>0.00</td>\n",
       "      <td>0.00</td>\n",
       "      <td>0.00</td>\n",
       "      <td>25.30</td>\n",
       "      <td>80.00</td>\n",
       "      <td>73.00</td>\n",
       "      <td>36.00</td>\n",
       "      <td>16.00</td>\n",
       "      <td>150.00</td>\n",
       "      <td>90.00</td>\n",
       "      <td>124.00</td>\n",
       "      <td>1</td>\n",
       "      <td>0</td>\n",
       "      <td>0</td>\n",
       "      <td>0</td>\n",
       "      <td>0</td>\n",
       "      <td>0</td>\n",
       "      <td>0</td>\n",
       "      <td>1</td>\n",
       "      <td>65-69</td>\n",
       "      <td>obese 1</td>\n",
       "      <td>close to normal</td>\n",
       "      <td>0.70</td>\n",
       "      <td>142.60</td>\n",
       "      <td>97.20</td>\n",
       "      <td>347.00</td>\n",
       "      <td>3.92</td>\n",
       "      <td>39.54</td>\n",
       "      <td>10</td>\n",
       "      <td>4</td>\n",
       "      <td>2</td>\n",
       "    </tr>\n",
       "    <tr>\n",
       "      <th>1</th>\n",
       "      <td>215399</td>\n",
       "      <td>75</td>\n",
       "      <td>1.00</td>\n",
       "      <td>1.00</td>\n",
       "      <td>0.00</td>\n",
       "      <td>26.78</td>\n",
       "      <td>80.00</td>\n",
       "      <td>80.00</td>\n",
       "      <td>36.60</td>\n",
       "      <td>20.00</td>\n",
       "      <td>150.00</td>\n",
       "      <td>84.00</td>\n",
       "      <td>86.00</td>\n",
       "      <td>1</td>\n",
       "      <td>1</td>\n",
       "      <td>1</td>\n",
       "      <td>0</td>\n",
       "      <td>0</td>\n",
       "      <td>0</td>\n",
       "      <td>0</td>\n",
       "      <td>1</td>\n",
       "      <td>75+</td>\n",
       "      <td>obese 1</td>\n",
       "      <td>normal</td>\n",
       "      <td>1.11</td>\n",
       "      <td>158.60</td>\n",
       "      <td>128.00</td>\n",
       "      <td>92.80</td>\n",
       "      <td>4.95</td>\n",
       "      <td>38.34</td>\n",
       "      <td>12</td>\n",
       "      <td>4</td>\n",
       "      <td>1</td>\n",
       "    </tr>\n",
       "    <tr>\n",
       "      <th>2</th>\n",
       "      <td>1556914</td>\n",
       "      <td>80</td>\n",
       "      <td>1.00</td>\n",
       "      <td>1.00</td>\n",
       "      <td>1.00</td>\n",
       "      <td>25.13</td>\n",
       "      <td>80.00</td>\n",
       "      <td>69.00</td>\n",
       "      <td>36.50</td>\n",
       "      <td>20.00</td>\n",
       "      <td>144.00</td>\n",
       "      <td>66.00</td>\n",
       "      <td>141.00</td>\n",
       "      <td>1</td>\n",
       "      <td>0</td>\n",
       "      <td>0</td>\n",
       "      <td>0</td>\n",
       "      <td>1</td>\n",
       "      <td>0</td>\n",
       "      <td>0</td>\n",
       "      <td>1</td>\n",
       "      <td>75+</td>\n",
       "      <td>obese 1</td>\n",
       "      <td>quite high</td>\n",
       "      <td>1.40</td>\n",
       "      <td>218.00</td>\n",
       "      <td>93.00</td>\n",
       "      <td>218.00</td>\n",
       "      <td>4.50</td>\n",
       "      <td>38.00</td>\n",
       "      <td>12</td>\n",
       "      <td>4</td>\n",
       "      <td>3</td>\n",
       "    </tr>\n",
       "    <tr>\n",
       "      <th>3</th>\n",
       "      <td>3970389</td>\n",
       "      <td>51</td>\n",
       "      <td>1.00</td>\n",
       "      <td>1.00</td>\n",
       "      <td>0.00</td>\n",
       "      <td>31.49</td>\n",
       "      <td>80.00</td>\n",
       "      <td>78.00</td>\n",
       "      <td>36.50</td>\n",
       "      <td>20.00</td>\n",
       "      <td>130.00</td>\n",
       "      <td>70.00</td>\n",
       "      <td>95.00</td>\n",
       "      <td>1</td>\n",
       "      <td>1</td>\n",
       "      <td>0</td>\n",
       "      <td>0</td>\n",
       "      <td>0</td>\n",
       "      <td>0</td>\n",
       "      <td>0</td>\n",
       "      <td>1</td>\n",
       "      <td>50-54</td>\n",
       "      <td>obese 2</td>\n",
       "      <td>normal</td>\n",
       "      <td>1.30</td>\n",
       "      <td>159.00</td>\n",
       "      <td>98.00</td>\n",
       "      <td>120.00</td>\n",
       "      <td>4.00</td>\n",
       "      <td>49.00</td>\n",
       "      <td>7</td>\n",
       "      <td>5</td>\n",
       "      <td>1</td>\n",
       "    </tr>\n",
       "    <tr>\n",
       "      <th>4</th>\n",
       "      <td>100835</td>\n",
       "      <td>57</td>\n",
       "      <td>0.00</td>\n",
       "      <td>1.00</td>\n",
       "      <td>0.00</td>\n",
       "      <td>29.30</td>\n",
       "      <td>80.00</td>\n",
       "      <td>94.00</td>\n",
       "      <td>36.00</td>\n",
       "      <td>16.00</td>\n",
       "      <td>120.00</td>\n",
       "      <td>89.00</td>\n",
       "      <td>101.00</td>\n",
       "      <td>1</td>\n",
       "      <td>0</td>\n",
       "      <td>0</td>\n",
       "      <td>0</td>\n",
       "      <td>0</td>\n",
       "      <td>0</td>\n",
       "      <td>0</td>\n",
       "      <td>1</td>\n",
       "      <td>55-59</td>\n",
       "      <td>obese 1</td>\n",
       "      <td>close to normal</td>\n",
       "      <td>0.86</td>\n",
       "      <td>193.00</td>\n",
       "      <td>124.00</td>\n",
       "      <td>178.00</td>\n",
       "      <td>3.99</td>\n",
       "      <td>40.38</td>\n",
       "      <td>8</td>\n",
       "      <td>4</td>\n",
       "      <td>2</td>\n",
       "    </tr>\n",
       "  </tbody>\n",
       "</table>\n",
       "</div>"
      ],
      "text/plain": [
       "     rowID  patientAge  patientSexName  smoking  alcohol  vital_bmi  vital_hr  \\\n",
       "0  3719915          69            0.00     0.00     0.00      25.30     80.00   \n",
       "1   215399          75            1.00     1.00     0.00      26.78     80.00   \n",
       "2  1556914          80            1.00     1.00     1.00      25.13     80.00   \n",
       "3  3970389          51            1.00     1.00     0.00      31.49     80.00   \n",
       "4   100835          57            0.00     1.00     0.00      29.30     80.00   \n",
       "\n",
       "   vital_pulse  vital_temperature  vital_rr  vital_bps  vital_bpd  \\\n",
       "0        73.00              36.00     16.00     150.00      90.00   \n",
       "1        80.00              36.60     20.00     150.00      84.00   \n",
       "2        69.00              36.50     20.00     144.00      66.00   \n",
       "3        78.00              36.50     20.00     130.00      70.00   \n",
       "4        94.00              36.00     16.00     120.00      89.00   \n",
       "\n",
       "   LDL-Cholesterol  Hypertension  Hyperlipidaemia  Diabetes_Mellitus  \\\n",
       "0           124.00             1                0                  0   \n",
       "1            86.00             1                1                  1   \n",
       "2           141.00             1                0                  0   \n",
       "3            95.00             1                1                  0   \n",
       "4           101.00             1                0                  0   \n",
       "\n",
       "   Hemiplegia  Chronic_kidney  Atrial_fibrillation  Hypokalemia  stroke  \\\n",
       "0           0               0                    0            0       1   \n",
       "1           0               0                    0            0       1   \n",
       "2           0               1                    0            0       1   \n",
       "3           0               0                    0            0       1   \n",
       "4           0               0                    0            0       1   \n",
       "\n",
       "   Age_R health_level        LDL_level  Creatinine  Cholesterol    FBS  \\\n",
       "0  65-69      obese 1  close to normal        0.70       142.60  97.20   \n",
       "1    75+      obese 1           normal        1.11       158.60 128.00   \n",
       "2    75+      obese 1       quite high        1.40       218.00  93.00   \n",
       "3  50-54      obese 2           normal        1.30       159.00  98.00   \n",
       "4  55-59      obese 1  close to normal        0.86       193.00 124.00   \n",
       "\n",
       "   Triglyceride  Potassium   HCT  Age_R_e  health_level_e  LDL_level_e  \n",
       "0        347.00       3.92 39.54       10               4            2  \n",
       "1         92.80       4.95 38.34       12               4            1  \n",
       "2        218.00       4.50 38.00       12               4            3  \n",
       "3        120.00       4.00 49.00        7               5            1  \n",
       "4        178.00       3.99 40.38        8               4            2  "
      ]
     },
     "execution_count": 61,
     "metadata": {},
     "output_type": "execute_result"
    }
   ],
   "source": [
    "df.head()"
   ]
  },
  {
   "cell_type": "code",
   "execution_count": 62,
   "id": "107689a7",
   "metadata": {},
   "outputs": [],
   "source": [
    "X = df.drop(['rowID', 'stroke','Age_R','health_level','LDL_level','Age_R_e','health_level_e','LDL_level_e'], axis=1)\n",
    "y = df['stroke']"
   ]
  },
  {
   "cell_type": "code",
   "execution_count": 63,
   "id": "3a61a917",
   "metadata": {},
   "outputs": [],
   "source": [
    "# X = df.drop(['rowID', 'stroke','Age_R','health_level','LDL_level'], axis=1)\n",
    "# y = df['stroke']"
   ]
  },
  {
   "cell_type": "code",
   "execution_count": 64,
   "id": "f7d83187",
   "metadata": {},
   "outputs": [],
   "source": [
    "# X"
   ]
  },
  {
   "cell_type": "code",
   "execution_count": 65,
   "id": "8b391fa0",
   "metadata": {},
   "outputs": [],
   "source": [
    "rus = RandomUnderSampler(sampling_strategy=1) \n",
    "X_rus, y_rus = rus.fit_resample(X, y)"
   ]
  },
  {
   "cell_type": "code",
   "execution_count": 66,
   "id": "9a4508cb",
   "metadata": {},
   "outputs": [
    {
     "data": {
      "text/plain": [
       "Counter({0: 4378, 1: 4378})"
      ]
     },
     "execution_count": 66,
     "metadata": {},
     "output_type": "execute_result"
    }
   ],
   "source": [
    "Counter(y_rus)"
   ]
  },
  {
   "cell_type": "code",
   "execution_count": 67,
   "id": "d4e403d4",
   "metadata": {},
   "outputs": [],
   "source": [
    "# train 90 & test 10 \n",
    "X_train, X_test, y_train, y_test = train_test_split(X_rus, y_rus, test_size=0.15, random_state=131)"
   ]
  },
  {
   "cell_type": "code",
   "execution_count": 68,
   "id": "8128c34c",
   "metadata": {},
   "outputs": [],
   "source": [
    "from sklearn import tree\n",
    "dt = tree.DecisionTreeClassifier()"
   ]
  },
  {
   "cell_type": "code",
   "execution_count": 69,
   "id": "d78ba75f",
   "metadata": {},
   "outputs": [
    {
     "data": {
      "text/plain": [
       "DecisionTreeClassifier()"
      ]
     },
     "execution_count": 69,
     "metadata": {},
     "output_type": "execute_result"
    }
   ],
   "source": [
    "dt.fit(X_train,y_train)"
   ]
  },
  {
   "cell_type": "code",
   "execution_count": 70,
   "id": "731e57bf",
   "metadata": {},
   "outputs": [
    {
     "data": {
      "text/plain": [
       "1.0"
      ]
     },
     "execution_count": 70,
     "metadata": {},
     "output_type": "execute_result"
    }
   ],
   "source": [
    "dt.score(X_train,y_train)"
   ]
  },
  {
   "cell_type": "code",
   "execution_count": 71,
   "id": "9f2b17a8",
   "metadata": {},
   "outputs": [
    {
     "data": {
      "text/plain": [
       "0.7031963470319634"
      ]
     },
     "execution_count": 71,
     "metadata": {},
     "output_type": "execute_result"
    }
   ],
   "source": [
    "dt.score(X_test,y_test)"
   ]
  },
  {
   "cell_type": "code",
   "execution_count": 72,
   "id": "01230f7a",
   "metadata": {},
   "outputs": [],
   "source": [
    "y_pred = dt.predict(X_test)"
   ]
  },
  {
   "cell_type": "code",
   "execution_count": 73,
   "id": "48fe8a49",
   "metadata": {},
   "outputs": [
    {
     "data": {
      "text/plain": [
       "array([[483, 216],\n",
       "       [174, 441]], dtype=int64)"
      ]
     },
     "execution_count": 73,
     "metadata": {},
     "output_type": "execute_result"
    }
   ],
   "source": [
    "confusion_matrix(y_test, y_pred)"
   ]
  },
  {
   "cell_type": "code",
   "execution_count": 74,
   "id": "10a35721",
   "metadata": {},
   "outputs": [
    {
     "name": "stdout",
     "output_type": "stream",
     "text": [
      "              precision    recall  f1-score   support\n",
      "\n",
      "           0       0.74      0.69      0.71       699\n",
      "           1       0.67      0.72      0.69       615\n",
      "\n",
      "    accuracy                           0.70      1314\n",
      "   macro avg       0.70      0.70      0.70      1314\n",
      "weighted avg       0.71      0.70      0.70      1314\n",
      "\n"
     ]
    }
   ],
   "source": [
    "print(classification_report(y_test, y_pred))"
   ]
  },
  {
   "cell_type": "code",
   "execution_count": 75,
   "id": "417effc4",
   "metadata": {},
   "outputs": [],
   "source": [
    "# plot_confusion_matrix(dt, X_test, y_test);"
   ]
  },
  {
   "cell_type": "markdown",
   "id": "fc2e6361",
   "metadata": {},
   "source": [
    "## Random Forest UnderSample"
   ]
  },
  {
   "cell_type": "code",
   "execution_count": 76,
   "id": "e7d671bc",
   "metadata": {},
   "outputs": [],
   "source": [
    "rf = RandomForestClassifier()\n",
    "rf = rf.fit(X_train, y_train)\n",
    "y_pred = rf.predict(X_test)"
   ]
  },
  {
   "cell_type": "code",
   "execution_count": 77,
   "id": "fdd46636",
   "metadata": {},
   "outputs": [],
   "source": [
    "y_pred_train = rf.predict(X_train)"
   ]
  },
  {
   "cell_type": "code",
   "execution_count": 78,
   "id": "ed575db6",
   "metadata": {},
   "outputs": [
    {
     "data": {
      "text/plain": [
       "1.0"
      ]
     },
     "execution_count": 78,
     "metadata": {},
     "output_type": "execute_result"
    }
   ],
   "source": [
    "rf.score(X_train, y_train)"
   ]
  },
  {
   "cell_type": "code",
   "execution_count": 79,
   "id": "c94a2523",
   "metadata": {},
   "outputs": [
    {
     "name": "stdout",
     "output_type": "stream",
     "text": [
      "              precision    recall  f1-score   support\n",
      "\n",
      "           0       1.00      1.00      1.00      3679\n",
      "           1       1.00      1.00      1.00      3763\n",
      "\n",
      "    accuracy                           1.00      7442\n",
      "   macro avg       1.00      1.00      1.00      7442\n",
      "weighted avg       1.00      1.00      1.00      7442\n",
      "\n"
     ]
    }
   ],
   "source": [
    "print(classification_report(y_train, y_pred_train))"
   ]
  },
  {
   "cell_type": "code",
   "execution_count": 80,
   "id": "6a443cf6",
   "metadata": {},
   "outputs": [
    {
     "data": {
      "text/plain": [
       "0.8112633181126332"
      ]
     },
     "execution_count": 80,
     "metadata": {},
     "output_type": "execute_result"
    }
   ],
   "source": [
    "rf.score(X_test, y_test)"
   ]
  },
  {
   "cell_type": "code",
   "execution_count": 81,
   "id": "37bc0bef",
   "metadata": {},
   "outputs": [
    {
     "name": "stdout",
     "output_type": "stream",
     "text": [
      "              precision    recall  f1-score   support\n",
      "\n",
      "           0       0.83      0.81      0.82       699\n",
      "           1       0.79      0.81      0.80       615\n",
      "\n",
      "    accuracy                           0.81      1314\n",
      "   macro avg       0.81      0.81      0.81      1314\n",
      "weighted avg       0.81      0.81      0.81      1314\n",
      "\n"
     ]
    }
   ],
   "source": [
    "print(classification_report(y_test, y_pred))"
   ]
  },
  {
   "cell_type": "code",
   "execution_count": 82,
   "id": "4e9046a2",
   "metadata": {},
   "outputs": [],
   "source": [
    "# plot_confusion_matrix(rf, X_test, y_test);"
   ]
  },
  {
   "cell_type": "markdown",
   "id": "3964da00",
   "metadata": {},
   "source": [
    "## XGBoost UnderSample"
   ]
  },
  {
   "cell_type": "code",
   "execution_count": 83,
   "id": "d09334f3",
   "metadata": {},
   "outputs": [],
   "source": [
    "import xgboost as xgb\n",
    "xg = xgb.XGBClassifier()\n",
    "xg.fit(X_train, y_train)\n",
    "y_pred = xg.predict(X_test)"
   ]
  },
  {
   "cell_type": "code",
   "execution_count": 84,
   "id": "e024f10d",
   "metadata": {},
   "outputs": [
    {
     "data": {
      "text/plain": [
       "0.9764848159097017"
      ]
     },
     "execution_count": 84,
     "metadata": {},
     "output_type": "execute_result"
    }
   ],
   "source": [
    "xg.score(X_train,y_train)"
   ]
  },
  {
   "cell_type": "code",
   "execution_count": 85,
   "id": "11c5b4c0",
   "metadata": {},
   "outputs": [
    {
     "data": {
      "text/plain": [
       "0.8439878234398782"
      ]
     },
     "execution_count": 85,
     "metadata": {},
     "output_type": "execute_result"
    }
   ],
   "source": [
    "xg.score(X_test,y_test)"
   ]
  },
  {
   "cell_type": "code",
   "execution_count": 86,
   "id": "53f7fcda",
   "metadata": {},
   "outputs": [
    {
     "name": "stdout",
     "output_type": "stream",
     "text": [
      "              precision    recall  f1-score   support\n",
      "\n",
      "           0       0.86      0.85      0.85       699\n",
      "           1       0.83      0.84      0.83       615\n",
      "\n",
      "    accuracy                           0.84      1314\n",
      "   macro avg       0.84      0.84      0.84      1314\n",
      "weighted avg       0.84      0.84      0.84      1314\n",
      "\n"
     ]
    }
   ],
   "source": [
    "print(classification_report(y_test, y_pred))"
   ]
  },
  {
   "cell_type": "markdown",
   "id": "37a7f9c3",
   "metadata": {},
   "source": [
    "##  GradientBoostingClassifier UnderSample"
   ]
  },
  {
   "cell_type": "code",
   "execution_count": 87,
   "id": "701c4274",
   "metadata": {},
   "outputs": [],
   "source": [
    "GBC = GradientBoostingClassifier()\n",
    "GBC.fit(X_train, y_train)\n",
    "y_pred = GBC.predict(X_test)"
   ]
  },
  {
   "cell_type": "code",
   "execution_count": 88,
   "id": "50fbad00",
   "metadata": {},
   "outputs": [
    {
     "data": {
      "text/plain": [
       "0.8282719699005644"
      ]
     },
     "execution_count": 88,
     "metadata": {},
     "output_type": "execute_result"
    }
   ],
   "source": [
    "GBC.score(X_train,y_train)"
   ]
  },
  {
   "cell_type": "code",
   "execution_count": 89,
   "id": "fa1c40c9",
   "metadata": {},
   "outputs": [
    {
     "data": {
      "text/plain": [
       "0.8135464231354642"
      ]
     },
     "execution_count": 89,
     "metadata": {},
     "output_type": "execute_result"
    }
   ],
   "source": [
    "GBC.score(X_test,y_test)"
   ]
  },
  {
   "cell_type": "code",
   "execution_count": 90,
   "id": "042070e3",
   "metadata": {},
   "outputs": [
    {
     "name": "stdout",
     "output_type": "stream",
     "text": [
      "              precision    recall  f1-score   support\n",
      "\n",
      "           0       0.85      0.79      0.82       699\n",
      "           1       0.78      0.84      0.81       615\n",
      "\n",
      "    accuracy                           0.81      1314\n",
      "   macro avg       0.81      0.81      0.81      1314\n",
      "weighted avg       0.82      0.81      0.81      1314\n",
      "\n"
     ]
    }
   ],
   "source": [
    "print(classification_report(y_test, y_pred))"
   ]
  },
  {
   "cell_type": "markdown",
   "id": "7d2ddbd8",
   "metadata": {},
   "source": [
    "## Naive Bayes UnderSample"
   ]
  },
  {
   "cell_type": "code",
   "execution_count": 91,
   "id": "d99e5ba2",
   "metadata": {},
   "outputs": [],
   "source": [
    "from sklearn.naive_bayes import MultinomialNB # MultinomialNB or BernoulliNB\n",
    "nb = MultinomialNB()\n",
    "nb.fit(X_train, y_train)\n",
    "y_pred = nb.predict(X_test)"
   ]
  },
  {
   "cell_type": "code",
   "execution_count": 92,
   "id": "3f1fcda2",
   "metadata": {},
   "outputs": [
    {
     "data": {
      "text/plain": [
       "0.6451222789572696"
      ]
     },
     "execution_count": 92,
     "metadata": {},
     "output_type": "execute_result"
    }
   ],
   "source": [
    "nb.score(X_train,y_train)"
   ]
  },
  {
   "cell_type": "code",
   "execution_count": 93,
   "id": "6eb81007",
   "metadata": {},
   "outputs": [
    {
     "data": {
      "text/plain": [
       "0.6354642313546424"
      ]
     },
     "execution_count": 93,
     "metadata": {},
     "output_type": "execute_result"
    }
   ],
   "source": [
    "nb.score(X_test,y_test)"
   ]
  },
  {
   "cell_type": "code",
   "execution_count": 94,
   "id": "1f4d6531",
   "metadata": {},
   "outputs": [
    {
     "name": "stdout",
     "output_type": "stream",
     "text": [
      "              precision    recall  f1-score   support\n",
      "\n",
      "           0       0.69      0.58      0.63       699\n",
      "           1       0.59      0.70      0.64       615\n",
      "\n",
      "    accuracy                           0.64      1314\n",
      "   macro avg       0.64      0.64      0.64      1314\n",
      "weighted avg       0.64      0.64      0.63      1314\n",
      "\n"
     ]
    }
   ],
   "source": [
    "print(classification_report(y_test, y_pred))"
   ]
  },
  {
   "cell_type": "markdown",
   "id": "ec418692",
   "metadata": {},
   "source": [
    "## Logistic R UnderSample "
   ]
  },
  {
   "cell_type": "code",
   "execution_count": 95,
   "id": "ff02bb63",
   "metadata": {},
   "outputs": [],
   "source": [
    "from sklearn.linear_model import LogisticRegression\n",
    "lr = LogisticRegression()\n",
    "lr.fit(X_train,y_train)\n",
    "y_pred = lr.predict(X_test)"
   ]
  },
  {
   "cell_type": "code",
   "execution_count": 96,
   "id": "c2a2e128",
   "metadata": {},
   "outputs": [
    {
     "name": "stdout",
     "output_type": "stream",
     "text": [
      "[0 1 1 ... 0 1 1]\n"
     ]
    }
   ],
   "source": [
    "print(y_pred)"
   ]
  },
  {
   "cell_type": "code",
   "execution_count": 97,
   "id": "22bc230d",
   "metadata": {},
   "outputs": [
    {
     "data": {
      "text/plain": [
       "0.6984681537221177"
      ]
     },
     "execution_count": 97,
     "metadata": {},
     "output_type": "execute_result"
    }
   ],
   "source": [
    "lr.score(X_train, y_train)"
   ]
  },
  {
   "cell_type": "code",
   "execution_count": 98,
   "id": "2d63a4bf",
   "metadata": {},
   "outputs": [
    {
     "data": {
      "text/plain": [
       "0.7115677321156774"
      ]
     },
     "execution_count": 98,
     "metadata": {},
     "output_type": "execute_result"
    }
   ],
   "source": [
    "lr.score(X_test, y_test)"
   ]
  },
  {
   "cell_type": "code",
   "execution_count": 99,
   "id": "3043267f",
   "metadata": {},
   "outputs": [
    {
     "name": "stdout",
     "output_type": "stream",
     "text": [
      "              precision    recall  f1-score   support\n",
      "\n",
      "           0       0.74      0.70      0.72       699\n",
      "           1       0.68      0.72      0.70       615\n",
      "\n",
      "    accuracy                           0.71      1314\n",
      "   macro avg       0.71      0.71      0.71      1314\n",
      "weighted avg       0.71      0.71      0.71      1314\n",
      "\n"
     ]
    }
   ],
   "source": [
    "print(classification_report(y_test, y_pred))"
   ]
  },
  {
   "cell_type": "markdown",
   "id": "556db704",
   "metadata": {},
   "source": [
    "## SVM UnderSample "
   ]
  },
  {
   "cell_type": "code",
   "execution_count": 100,
   "id": "a5a8d901",
   "metadata": {},
   "outputs": [],
   "source": [
    "from sklearn import svm \n",
    "svm = svm.SVC()\n",
    "svm.fit(X_train,y_train)\n",
    "y_pred = svm.predict(X_test)"
   ]
  },
  {
   "cell_type": "code",
   "execution_count": 101,
   "id": "fbea3f43",
   "metadata": {},
   "outputs": [
    {
     "data": {
      "text/plain": [
       "0.6898683149690943"
      ]
     },
     "execution_count": 101,
     "metadata": {},
     "output_type": "execute_result"
    }
   ],
   "source": [
    "svm.score(X_train, y_train)"
   ]
  },
  {
   "cell_type": "code",
   "execution_count": 102,
   "id": "baa72593",
   "metadata": {},
   "outputs": [
    {
     "data": {
      "text/plain": [
       "0.6917808219178082"
      ]
     },
     "execution_count": 102,
     "metadata": {},
     "output_type": "execute_result"
    }
   ],
   "source": [
    "svm.score(X_test, y_test)"
   ]
  },
  {
   "cell_type": "code",
   "execution_count": 103,
   "id": "31ea4c68",
   "metadata": {},
   "outputs": [
    {
     "name": "stdout",
     "output_type": "stream",
     "text": [
      "              precision    recall  f1-score   support\n",
      "\n",
      "           0       0.75      0.63      0.69       699\n",
      "           1       0.64      0.76      0.70       615\n",
      "\n",
      "    accuracy                           0.69      1314\n",
      "   macro avg       0.70      0.70      0.69      1314\n",
      "weighted avg       0.70      0.69      0.69      1314\n",
      "\n"
     ]
    }
   ],
   "source": [
    "print(classification_report(y_test, y_pred))"
   ]
  },
  {
   "cell_type": "markdown",
   "id": "045a539d",
   "metadata": {},
   "source": [
    "## KNN"
   ]
  },
  {
   "cell_type": "code",
   "execution_count": 104,
   "id": "b2a35fae",
   "metadata": {},
   "outputs": [],
   "source": [
    "from sklearn.neighbors import KNeighborsClassifier\n",
    "KNN_model = KNeighborsClassifier()\n",
    "KNN_model.fit(X_train,y_train)\n",
    "y_pred = KNN_model.predict(X_test)"
   ]
  },
  {
   "cell_type": "code",
   "execution_count": 105,
   "id": "df48cc5f",
   "metadata": {},
   "outputs": [
    {
     "data": {
      "text/plain": [
       "0.7708949207202365"
      ]
     },
     "execution_count": 105,
     "metadata": {},
     "output_type": "execute_result"
    }
   ],
   "source": [
    "KNN_model.score(X_train, y_train)"
   ]
  },
  {
   "cell_type": "code",
   "execution_count": 106,
   "id": "9bf9f0a1",
   "metadata": {},
   "outputs": [
    {
     "data": {
      "text/plain": [
       "0.6735159817351598"
      ]
     },
     "execution_count": 106,
     "metadata": {},
     "output_type": "execute_result"
    }
   ],
   "source": [
    "KNN_model.score(X_test, y_test)"
   ]
  },
  {
   "cell_type": "code",
   "execution_count": 107,
   "id": "2ef46e03",
   "metadata": {},
   "outputs": [
    {
     "name": "stdout",
     "output_type": "stream",
     "text": [
      "              precision    recall  f1-score   support\n",
      "\n",
      "           0       0.70      0.67      0.68       699\n",
      "           1       0.64      0.68      0.66       615\n",
      "\n",
      "    accuracy                           0.67      1314\n",
      "   macro avg       0.67      0.67      0.67      1314\n",
      "weighted avg       0.68      0.67      0.67      1314\n",
      "\n"
     ]
    }
   ],
   "source": [
    "print(classification_report(y_test, y_pred))"
   ]
  },
  {
   "cell_type": "markdown",
   "id": "1a44aca8",
   "metadata": {},
   "source": [
    "## lgbm"
   ]
  },
  {
   "cell_type": "code",
   "execution_count": 108,
   "id": "a36fa61c",
   "metadata": {},
   "outputs": [],
   "source": [
    "# conda install lightgbm"
   ]
  },
  {
   "cell_type": "code",
   "execution_count": 109,
   "id": "8ca841df",
   "metadata": {},
   "outputs": [],
   "source": [
    "# conda install lightgbm\n",
    "import lightgbm as lgb\n",
    "lgb = lgb.LGBMClassifier()\n",
    "lgb.fit(X_train,y_train)\n",
    "y_pred = lgb.predict(X_test)"
   ]
  },
  {
   "cell_type": "code",
   "execution_count": 110,
   "id": "a7e48341",
   "metadata": {},
   "outputs": [
    {
     "data": {
      "text/plain": [
       "0.930798172534265"
      ]
     },
     "execution_count": 110,
     "metadata": {},
     "output_type": "execute_result"
    }
   ],
   "source": [
    "lgb.score(X_train, y_train)"
   ]
  },
  {
   "cell_type": "code",
   "execution_count": 111,
   "id": "9c7b0d2b",
   "metadata": {},
   "outputs": [
    {
     "data": {
      "text/plain": [
       "0.8432267884322678"
      ]
     },
     "execution_count": 111,
     "metadata": {},
     "output_type": "execute_result"
    }
   ],
   "source": [
    "lgb.score(X_test, y_test)"
   ]
  },
  {
   "cell_type": "code",
   "execution_count": 112,
   "id": "847230a4",
   "metadata": {},
   "outputs": [
    {
     "name": "stdout",
     "output_type": "stream",
     "text": [
      "              precision    recall  f1-score   support\n",
      "\n",
      "           0       0.86      0.84      0.85       699\n",
      "           1       0.82      0.85      0.83       615\n",
      "\n",
      "    accuracy                           0.84      1314\n",
      "   macro avg       0.84      0.84      0.84      1314\n",
      "weighted avg       0.84      0.84      0.84      1314\n",
      "\n"
     ]
    }
   ],
   "source": [
    "print(classification_report(y_test, y_pred))"
   ]
  },
  {
   "cell_type": "code",
   "execution_count": 113,
   "id": "9229f2c7",
   "metadata": {},
   "outputs": [],
   "source": [
    "# lgb.get_params()"
   ]
  },
  {
   "cell_type": "code",
   "execution_count": 114,
   "id": "bc375c3c",
   "metadata": {},
   "outputs": [],
   "source": [
    "# model =  ['knn','svm','dt']\n",
    "# model_series = pd.Series(model)\n",
    "# score_series = pd.Series([0.81,0.71,0.91])\n",
    "# frame = {'model':model_series,'score':score_series}\n",
    "# table = pd.DataFrame(frame)\n",
    "# print(table)"
   ]
  },
  {
   "cell_type": "code",
   "execution_count": 115,
   "id": "2edd1f05",
   "metadata": {},
   "outputs": [],
   "source": [
    "# models= {'model': ['svm', 'rf'],\n",
    "#         'score': [0.72, 0.5]}\n",
    "# df_model_scores = pd.DataFrame(models)\n",
    "# print(df_model_scores)"
   ]
  },
  {
   "cell_type": "code",
   "execution_count": 116,
   "id": "3578d299",
   "metadata": {},
   "outputs": [],
   "source": [
    "# models= {'model': ['KNN', 'LR', 'DT', 'RF', 'GB', 'XGB', 'LGBM', 'NB', 'SVM'],\n",
    "#         'Recall': [0.64, 0.68, 0.68, 0.77, 0.77, 0.79, 0.80, 0.71, 0.73],\n",
    "#         'Precision':[0.65,0.70,0.70,0.81,0.79,0.83,0.84,0.62,0.66],\n",
    "#         'F1-Score': [0.64,0.69,0.69,0.79,0.78,0.81,0.82,0.66,0.69],\n",
    "#         'Test_Accuracy': [0.65,0.69,0.69,0.79,0.78,0.81,0.82,0.64,0.68,],\n",
    "#         'Train_Accuracy': [0.78,0.70,1.00,1.00,0.82,0.97,0.91,0.64,0.69]}\n",
    "# df_model_scores = pd.DataFrame(models)\n",
    "# df_model_scores"
   ]
  },
  {
   "cell_type": "code",
   "execution_count": 117,
   "id": "2952a490",
   "metadata": {},
   "outputs": [
    {
     "data": {
      "text/html": [
       "<div>\n",
       "<style scoped>\n",
       "    .dataframe tbody tr th:only-of-type {\n",
       "        vertical-align: middle;\n",
       "    }\n",
       "\n",
       "    .dataframe tbody tr th {\n",
       "        vertical-align: top;\n",
       "    }\n",
       "\n",
       "    .dataframe thead th {\n",
       "        text-align: right;\n",
       "    }\n",
       "</style>\n",
       "<table border=\"1\" class=\"dataframe\">\n",
       "  <thead>\n",
       "    <tr style=\"text-align: right;\">\n",
       "      <th></th>\n",
       "      <th>model</th>\n",
       "      <th>Recall</th>\n",
       "      <th>Precision</th>\n",
       "      <th>F1-Score</th>\n",
       "      <th>Test_Accuracy</th>\n",
       "      <th>Train_Accuracy</th>\n",
       "    </tr>\n",
       "  </thead>\n",
       "  <tbody>\n",
       "    <tr>\n",
       "      <th>0</th>\n",
       "      <td>KNN</td>\n",
       "      <td>0.66</td>\n",
       "      <td>0.66</td>\n",
       "      <td>0.66</td>\n",
       "      <td>0.67</td>\n",
       "      <td>0.77</td>\n",
       "    </tr>\n",
       "    <tr>\n",
       "      <th>1</th>\n",
       "      <td>LR</td>\n",
       "      <td>0.71</td>\n",
       "      <td>0.68</td>\n",
       "      <td>0.70</td>\n",
       "      <td>0.70</td>\n",
       "      <td>0.70</td>\n",
       "    </tr>\n",
       "    <tr>\n",
       "      <th>2</th>\n",
       "      <td>DT</td>\n",
       "      <td>0.71</td>\n",
       "      <td>0.66</td>\n",
       "      <td>0.69</td>\n",
       "      <td>0.69</td>\n",
       "      <td>1.00</td>\n",
       "    </tr>\n",
       "    <tr>\n",
       "      <th>3</th>\n",
       "      <td>RF</td>\n",
       "      <td>0.80</td>\n",
       "      <td>0.79</td>\n",
       "      <td>0.80</td>\n",
       "      <td>0.80</td>\n",
       "      <td>1.00</td>\n",
       "    </tr>\n",
       "    <tr>\n",
       "      <th>4</th>\n",
       "      <td>GB</td>\n",
       "      <td>0.83</td>\n",
       "      <td>0.78</td>\n",
       "      <td>0.80</td>\n",
       "      <td>0.81</td>\n",
       "      <td>0.82</td>\n",
       "    </tr>\n",
       "    <tr>\n",
       "      <th>5</th>\n",
       "      <td>XGB</td>\n",
       "      <td>0.85</td>\n",
       "      <td>0.82</td>\n",
       "      <td>0.83</td>\n",
       "      <td>0.84</td>\n",
       "      <td>0.98</td>\n",
       "    </tr>\n",
       "    <tr>\n",
       "      <th>6</th>\n",
       "      <td>LGBM</td>\n",
       "      <td>0.85</td>\n",
       "      <td>0.83</td>\n",
       "      <td>0.84</td>\n",
       "      <td>0.85</td>\n",
       "      <td>0.93</td>\n",
       "    </tr>\n",
       "    <tr>\n",
       "      <th>7</th>\n",
       "      <td>NB</td>\n",
       "      <td>0.69</td>\n",
       "      <td>0.59</td>\n",
       "      <td>0.64</td>\n",
       "      <td>0.63</td>\n",
       "      <td>0.64</td>\n",
       "    </tr>\n",
       "    <tr>\n",
       "      <th>8</th>\n",
       "      <td>SVM</td>\n",
       "      <td>0.77</td>\n",
       "      <td>0.65</td>\n",
       "      <td>0.70</td>\n",
       "      <td>0.70</td>\n",
       "      <td>0.69</td>\n",
       "    </tr>\n",
       "  </tbody>\n",
       "</table>\n",
       "</div>"
      ],
      "text/plain": [
       "  model  Recall  Precision  F1-Score  Test_Accuracy  Train_Accuracy\n",
       "0   KNN    0.66       0.66      0.66           0.67            0.77\n",
       "1    LR    0.71       0.68      0.70           0.70            0.70\n",
       "2    DT    0.71       0.66      0.69           0.69            1.00\n",
       "3    RF    0.80       0.79      0.80           0.80            1.00\n",
       "4    GB    0.83       0.78      0.80           0.81            0.82\n",
       "5   XGB    0.85       0.82      0.83           0.84            0.98\n",
       "6  LGBM    0.85       0.83      0.84           0.85            0.93\n",
       "7    NB    0.69       0.59      0.64           0.63            0.64\n",
       "8   SVM    0.77       0.65      0.70           0.70            0.69"
      ]
     },
     "execution_count": 117,
     "metadata": {},
     "output_type": "execute_result"
    }
   ],
   "source": [
    "models= {'model': ['KNN', 'LR', 'DT', 'RF', 'GB', 'XGB', 'LGBM', 'NB', 'SVM'],\n",
    "        'Recall': [0.66, 0.71, 0.71, 0.80, 0.83, 0.85, 0.85, 0.69, 0.77],\n",
    "        'Precision':[0.66,0.68,0.66,0.79,0.78,0.82,0.83,0.59,0.65],\n",
    "        'F1-Score': [0.66,0.70,0.69,0.80,0.80,0.83,0.84,0.64,0.70],\n",
    "        'Test_Accuracy': [0.67,0.70,0.69,0.80,0.81,0.84,0.85,0.63,0.70,],\n",
    "        'Train_Accuracy': [0.77,0.70,1.00,1.00,0.82,0.98,0.93,0.64,0.69]}\n",
    "df_model_scores = pd.DataFrame(models)\n",
    "df_model_scores"
   ]
  },
  {
   "cell_type": "code",
   "execution_count": null,
   "id": "ad8ed2af",
   "metadata": {},
   "outputs": [],
   "source": [
    "# g = sns.catplot(x='model',y='Recall',kind='bar',data=df_model_scores.sort_values('Recall'))\n",
    "# g.ax.set_ylim(0,1)\n",
    "# for p in g.ax.patches:\n",
    "#     txt = str(p.get_height().round(2)) + '%'\n",
    "#     txt_x = p.get_x()\n",
    "#     txt_y = p.get_height()\n",
    "#     g.ax.text(txt_x,txt_y,txt)"
   ]
  },
  {
   "cell_type": "code",
   "execution_count": null,
   "id": "9841afee",
   "metadata": {},
   "outputs": [],
   "source": [
    "# from plotly.subplots import make_subplots\n",
    "# import plotly.graph_objects as go\n",
    "\n",
    "# fig = make_subplots(rows=1, cols=2, shared_yaxes=True)\n",
    "\n",
    "# fig.add_trace(go.Bar(x=[1, 2, 3], y=[4, 5, 6],\n",
    "#                     marker=dict(color=[4, 5, 6], coloraxis=\"coloraxis\")),\n",
    "#               1, 1)\n",
    "\n",
    "# fig.add_trace(go.Bar(x=[1, 2, 3], y=[2, 3, 5],\n",
    "#                     marker=dict(color=[2, 3, 5], coloraxis=\"coloraxis\")),\n",
    "#               1, 2)\n",
    "\n",
    "# fig.update_layout(coloraxis=dict(colorscale='Bluered_r'), showlegend=False)\n",
    "# fig.show()"
   ]
  },
  {
   "cell_type": "code",
   "execution_count": 119,
   "id": "5b6bbb4a",
   "metadata": {},
   "outputs": [
    {
     "data": {
      "image/png": "[encoded data removed]",
      "text/plain": [
       "<Figure size 500x500 with 1 Axes>"
      ]
     },
     "metadata": {
      "image/png": {
       "height": 501,
       "width": 490
      }
     },
     "output_type": "display_data"
    }
   ],
   "source": [
    "g = sns.catplot(x='model',y='Train_Accuracy',kind='bar',data=df_model_scores.sort_values('Train_Accuracy' , ascending = False))\n",
    "g.ax.set_ylim(0,1)\n",
    "for p in g.ax.patches:\n",
    "    txt = str(p.get_height().round(2)) \n",
    "    txt_x = p.get_x()\n",
    "    txt_y = p.get_height()\n",
    "    g.ax.text(txt_x,txt_y,txt)"
   ]
  },
  {
   "cell_type": "code",
   "execution_count": 120,
   "id": "a2858c6d",
   "metadata": {},
   "outputs": [
    {
     "data": {
      "image/png": "[encoded data removed]",
      "text/plain": [
       "<Figure size 500x500 with 1 Axes>"
      ]
     },
     "metadata": {
      "image/png": {
       "height": 495,
       "width": 489
      }
     },
     "output_type": "display_data"
    }
   ],
   "source": [
    "g = sns.catplot(x='model',y='Test_Accuracy',kind='bar',data=df_model_scores.sort_values('Test_Accuracy' , ascending = False))\n",
    "g.ax.set_ylim(0,1)\n",
    "for p in g.ax.patches:\n",
    "    txt = str(p.get_height().round(2)) \n",
    "    txt_x = p.get_x()\n",
    "    txt_y = p.get_height()\n",
    "    g.ax.text(txt_x,txt_y,txt)"
   ]
  },
  {
   "cell_type": "code",
   "execution_count": 121,
   "id": "0c43e7df",
   "metadata": {},
   "outputs": [
    {
     "data": {
      "image/png": "[encoded data removed]",
      "text/plain": [
       "<Figure size 500x500 with 1 Axes>"
      ]
     },
     "metadata": {
      "image/png": {
       "height": 495,
       "width": 489
      }
     },
     "output_type": "display_data"
    }
   ],
   "source": [
    "g = sns.catplot(x='model',y='Recall',kind='bar',data=df_model_scores.sort_values('Recall' , ascending = False))\n",
    "g.ax.set_ylim(0,1)\n",
    "for p in g.ax.patches:\n",
    "    txt = str(p.get_height().round(2)) \n",
    "    txt_x = p.get_x()\n",
    "    txt_y = p.get_height()\n",
    "    g.ax.text(txt_x,txt_y,txt)"
   ]
  },
  {
   "cell_type": "code",
   "execution_count": 122,
   "id": "aa78a498",
   "metadata": {},
   "outputs": [
    {
     "data": {
      "image/png": "[encoded data removed]",
      "text/plain": [
       "<Figure size 500x500 with 1 Axes>"
      ]
     },
     "metadata": {
      "image/png": {
       "height": 495,
       "width": 489
      }
     },
     "output_type": "display_data"
    }
   ],
   "source": [
    "g = sns.catplot(x='model',y='Precision',kind='bar',data=df_model_scores.sort_values('Precision' , ascending = False))\n",
    "g.ax.set_ylim(0,1)\n",
    "for p in g.ax.patches:\n",
    "    txt = str(p.get_height().round(2)) \n",
    "    txt_x = p.get_x()\n",
    "    txt_y = p.get_height()\n",
    "    g.ax.text(txt_x,txt_y,txt)"
   ]
  },
  {
   "cell_type": "code",
   "execution_count": 123,
   "id": "47fa7a81",
   "metadata": {},
   "outputs": [
    {
     "data": {
      "image/png": "[encoded data removed]",
      "text/plain": [
       "<Figure size 500x500 with 1 Axes>"
      ]
     },
     "metadata": {
      "image/png": {
       "height": 495,
       "width": 489
      }
     },
     "output_type": "display_data"
    }
   ],
   "source": [
    "g = sns.catplot(x='model',y='F1-Score',kind='bar',data=df_model_scores.sort_values('F1-Score' , ascending = False))\n",
    "g.ax.set_ylim(0,1)\n",
    "for p in g.ax.patches:\n",
    "    txt = str(p.get_height().round(2)) \n",
    "    txt_x = p.get_x()\n",
    "    txt_y = p.get_height()\n",
    "    g.ax.text(txt_x,txt_y,txt)"
   ]
  },
  {
   "cell_type": "code",
   "execution_count": null,
   "id": "6203044c",
   "metadata": {},
   "outputs": [],
   "source": [
    "asasas"
   ]
  },
  {
   "cell_type": "markdown",
   "id": "6f4eb36d",
   "metadata": {},
   "source": [
    "## Pipeline"
   ]
  },
  {
   "cell_type": "code",
   "execution_count": 127,
   "id": "4df925f4",
   "metadata": {},
   "outputs": [],
   "source": [
    "from sklearn.pipeline import Pipeline"
   ]
  },
  {
   "cell_type": "code",
   "execution_count": 124,
   "id": "8d587b37",
   "metadata": {},
   "outputs": [],
   "source": [
    "X = df.drop(['rowID', 'stroke','Age_R','health_level','LDL_level','Age_R_e','health_level_e','LDL_level_e'], axis=1)\n",
    "y = df['stroke']"
   ]
  },
  {
   "cell_type": "code",
   "execution_count": 125,
   "id": "05a4b210",
   "metadata": {},
   "outputs": [],
   "source": [
    "rus = RandomUnderSampler(sampling_strategy=1) \n",
    "X_rus, y_rus = rus.fit_resample(X, y)"
   ]
  },
  {
   "cell_type": "code",
   "execution_count": 126,
   "id": "f491518e",
   "metadata": {},
   "outputs": [],
   "source": [
    "# train 85 & test 15\n",
    "X_train, X_test, y_train, y_test = train_test_split(X_rus, y_rus, test_size=0.15, random_state=131)"
   ]
  },
  {
   "cell_type": "code",
   "execution_count": 141,
   "id": "7b2619e5",
   "metadata": {},
   "outputs": [
    {
     "data": {
      "text/html": [
       "<div>\n",
       "<style scoped>\n",
       "    .dataframe tbody tr th:only-of-type {\n",
       "        vertical-align: middle;\n",
       "    }\n",
       "\n",
       "    .dataframe tbody tr th {\n",
       "        vertical-align: top;\n",
       "    }\n",
       "\n",
       "    .dataframe thead th {\n",
       "        text-align: right;\n",
       "    }\n",
       "</style>\n",
       "<table border=\"1\" class=\"dataframe\">\n",
       "  <thead>\n",
       "    <tr style=\"text-align: right;\">\n",
       "      <th></th>\n",
       "      <th>mean_fit_time</th>\n",
       "      <th>std_fit_time</th>\n",
       "      <th>mean_score_time</th>\n",
       "      <th>std_score_time</th>\n",
       "      <th>param_estimator</th>\n",
       "      <th>params</th>\n",
       "      <th>split0_test_score</th>\n",
       "      <th>split1_test_score</th>\n",
       "      <th>split2_test_score</th>\n",
       "      <th>split3_test_score</th>\n",
       "      <th>split4_test_score</th>\n",
       "      <th>split5_test_score</th>\n",
       "      <th>mean_test_score</th>\n",
       "      <th>std_test_score</th>\n",
       "      <th>rank_test_score</th>\n",
       "      <th>split0_train_score</th>\n",
       "      <th>split1_train_score</th>\n",
       "      <th>split2_train_score</th>\n",
       "      <th>split3_train_score</th>\n",
       "      <th>split4_train_score</th>\n",
       "      <th>split5_train_score</th>\n",
       "      <th>mean_train_score</th>\n",
       "      <th>std_train_score</th>\n",
       "    </tr>\n",
       "  </thead>\n",
       "  <tbody>\n",
       "    <tr>\n",
       "      <th>0</th>\n",
       "      <td>0.00</td>\n",
       "      <td>0.00</td>\n",
       "      <td>0.17</td>\n",
       "      <td>0.02</td>\n",
       "      <td>KNeighborsClassifier()</td>\n",
       "      <td>{'estimator': KNeighborsClassifier()}</td>\n",
       "      <td>0.65</td>\n",
       "      <td>0.65</td>\n",
       "      <td>0.65</td>\n",
       "      <td>0.65</td>\n",
       "      <td>0.66</td>\n",
       "      <td>0.64</td>\n",
       "      <td>0.65</td>\n",
       "      <td>0.01</td>\n",
       "      <td>8</td>\n",
       "      <td>0.77</td>\n",
       "      <td>0.77</td>\n",
       "      <td>0.78</td>\n",
       "      <td>0.77</td>\n",
       "      <td>0.78</td>\n",
       "      <td>0.77</td>\n",
       "      <td>0.77</td>\n",
       "      <td>0.00</td>\n",
       "    </tr>\n",
       "    <tr>\n",
       "      <th>1</th>\n",
       "      <td>0.07</td>\n",
       "      <td>0.00</td>\n",
       "      <td>0.00</td>\n",
       "      <td>0.00</td>\n",
       "      <td>LogisticRegression()</td>\n",
       "      <td>{'estimator': LogisticRegression()}</td>\n",
       "      <td>0.72</td>\n",
       "      <td>0.69</td>\n",
       "      <td>0.69</td>\n",
       "      <td>0.71</td>\n",
       "      <td>0.68</td>\n",
       "      <td>0.69</td>\n",
       "      <td>0.70</td>\n",
       "      <td>0.01</td>\n",
       "      <td>5</td>\n",
       "      <td>0.71</td>\n",
       "      <td>0.70</td>\n",
       "      <td>0.70</td>\n",
       "      <td>0.70</td>\n",
       "      <td>0.70</td>\n",
       "      <td>0.71</td>\n",
       "      <td>0.70</td>\n",
       "      <td>0.00</td>\n",
       "    </tr>\n",
       "    <tr>\n",
       "      <th>2</th>\n",
       "      <td>0.07</td>\n",
       "      <td>0.01</td>\n",
       "      <td>0.00</td>\n",
       "      <td>0.00</td>\n",
       "      <td>DecisionTreeClassifier()</td>\n",
       "      <td>{'estimator': DecisionTreeClassifier()}</td>\n",
       "      <td>0.72</td>\n",
       "      <td>0.68</td>\n",
       "      <td>0.70</td>\n",
       "      <td>0.70</td>\n",
       "      <td>0.69</td>\n",
       "      <td>0.69</td>\n",
       "      <td>0.70</td>\n",
       "      <td>0.01</td>\n",
       "      <td>6</td>\n",
       "      <td>1.00</td>\n",
       "      <td>1.00</td>\n",
       "      <td>1.00</td>\n",
       "      <td>1.00</td>\n",
       "      <td>1.00</td>\n",
       "      <td>1.00</td>\n",
       "      <td>1.00</td>\n",
       "      <td>0.00</td>\n",
       "    </tr>\n",
       "    <tr>\n",
       "      <th>3</th>\n",
       "      <td>0.96</td>\n",
       "      <td>0.03</td>\n",
       "      <td>0.03</td>\n",
       "      <td>0.00</td>\n",
       "      <td>(DecisionTreeClassifier(max_features='auto', r...</td>\n",
       "      <td>{'estimator': (DecisionTreeClassifier(max_feat...</td>\n",
       "      <td>0.81</td>\n",
       "      <td>0.80</td>\n",
       "      <td>0.80</td>\n",
       "      <td>0.81</td>\n",
       "      <td>0.77</td>\n",
       "      <td>0.79</td>\n",
       "      <td>0.80</td>\n",
       "      <td>0.01</td>\n",
       "      <td>4</td>\n",
       "      <td>1.00</td>\n",
       "      <td>1.00</td>\n",
       "      <td>1.00</td>\n",
       "      <td>1.00</td>\n",
       "      <td>1.00</td>\n",
       "      <td>1.00</td>\n",
       "      <td>1.00</td>\n",
       "      <td>0.00</td>\n",
       "    </tr>\n",
       "    <tr>\n",
       "      <th>4</th>\n",
       "      <td>1.21</td>\n",
       "      <td>0.01</td>\n",
       "      <td>0.00</td>\n",
       "      <td>0.00</td>\n",
       "      <td>([DecisionTreeRegressor(criterion='friedman_ms...</td>\n",
       "      <td>{'estimator': ([DecisionTreeRegressor(criterio...</td>\n",
       "      <td>0.82</td>\n",
       "      <td>0.79</td>\n",
       "      <td>0.81</td>\n",
       "      <td>0.82</td>\n",
       "      <td>0.79</td>\n",
       "      <td>0.79</td>\n",
       "      <td>0.80</td>\n",
       "      <td>0.01</td>\n",
       "      <td>3</td>\n",
       "      <td>0.82</td>\n",
       "      <td>0.83</td>\n",
       "      <td>0.83</td>\n",
       "      <td>0.83</td>\n",
       "      <td>0.83</td>\n",
       "      <td>0.84</td>\n",
       "      <td>0.83</td>\n",
       "      <td>0.01</td>\n",
       "    </tr>\n",
       "    <tr>\n",
       "      <th>5</th>\n",
       "      <td>0.35</td>\n",
       "      <td>0.04</td>\n",
       "      <td>0.01</td>\n",
       "      <td>0.00</td>\n",
       "      <td>XGBClassifier(base_score=None, booster=None, c...</td>\n",
       "      <td>{'estimator': XGBClassifier(base_score=None, b...</td>\n",
       "      <td>0.85</td>\n",
       "      <td>0.83</td>\n",
       "      <td>0.83</td>\n",
       "      <td>0.84</td>\n",
       "      <td>0.81</td>\n",
       "      <td>0.81</td>\n",
       "      <td>0.83</td>\n",
       "      <td>0.01</td>\n",
       "      <td>2</td>\n",
       "      <td>0.99</td>\n",
       "      <td>0.99</td>\n",
       "      <td>0.99</td>\n",
       "      <td>0.99</td>\n",
       "      <td>0.99</td>\n",
       "      <td>0.99</td>\n",
       "      <td>0.99</td>\n",
       "      <td>0.00</td>\n",
       "    </tr>\n",
       "    <tr>\n",
       "      <th>6</th>\n",
       "      <td>0.19</td>\n",
       "      <td>0.01</td>\n",
       "      <td>0.01</td>\n",
       "      <td>0.00</td>\n",
       "      <td>LGBMClassifier()</td>\n",
       "      <td>{'estimator': LGBMClassifier()}</td>\n",
       "      <td>0.87</td>\n",
       "      <td>0.83</td>\n",
       "      <td>0.83</td>\n",
       "      <td>0.84</td>\n",
       "      <td>0.82</td>\n",
       "      <td>0.82</td>\n",
       "      <td>0.83</td>\n",
       "      <td>0.02</td>\n",
       "      <td>1</td>\n",
       "      <td>0.94</td>\n",
       "      <td>0.94</td>\n",
       "      <td>0.94</td>\n",
       "      <td>0.94</td>\n",
       "      <td>0.94</td>\n",
       "      <td>0.94</td>\n",
       "      <td>0.94</td>\n",
       "      <td>0.00</td>\n",
       "    </tr>\n",
       "    <tr>\n",
       "      <th>7</th>\n",
       "      <td>0.01</td>\n",
       "      <td>0.00</td>\n",
       "      <td>0.00</td>\n",
       "      <td>0.00</td>\n",
       "      <td>MultinomialNB()</td>\n",
       "      <td>{'estimator': MultinomialNB()}</td>\n",
       "      <td>0.66</td>\n",
       "      <td>0.65</td>\n",
       "      <td>0.63</td>\n",
       "      <td>0.63</td>\n",
       "      <td>0.64</td>\n",
       "      <td>0.64</td>\n",
       "      <td>0.64</td>\n",
       "      <td>0.01</td>\n",
       "      <td>9</td>\n",
       "      <td>0.64</td>\n",
       "      <td>0.64</td>\n",
       "      <td>0.65</td>\n",
       "      <td>0.64</td>\n",
       "      <td>0.64</td>\n",
       "      <td>0.64</td>\n",
       "      <td>0.64</td>\n",
       "      <td>0.00</td>\n",
       "    </tr>\n",
       "    <tr>\n",
       "      <th>8</th>\n",
       "      <td>1.73</td>\n",
       "      <td>0.04</td>\n",
       "      <td>0.60</td>\n",
       "      <td>0.02</td>\n",
       "      <td>SVC()</td>\n",
       "      <td>{'estimator': SVC()}</td>\n",
       "      <td>0.70</td>\n",
       "      <td>0.67</td>\n",
       "      <td>0.68</td>\n",
       "      <td>0.68</td>\n",
       "      <td>0.67</td>\n",
       "      <td>0.67</td>\n",
       "      <td>0.68</td>\n",
       "      <td>0.01</td>\n",
       "      <td>7</td>\n",
       "      <td>0.68</td>\n",
       "      <td>0.69</td>\n",
       "      <td>0.68</td>\n",
       "      <td>0.69</td>\n",
       "      <td>0.68</td>\n",
       "      <td>0.69</td>\n",
       "      <td>0.68</td>\n",
       "      <td>0.00</td>\n",
       "    </tr>\n",
       "  </tbody>\n",
       "</table>\n",
       "</div>"
      ],
      "text/plain": [
       "   mean_fit_time  std_fit_time  mean_score_time  std_score_time  \\\n",
       "0           0.00          0.00             0.17            0.02   \n",
       "1           0.07          0.00             0.00            0.00   \n",
       "2           0.07          0.01             0.00            0.00   \n",
       "3           0.96          0.03             0.03            0.00   \n",
       "4           1.21          0.01             0.00            0.00   \n",
       "5           0.35          0.04             0.01            0.00   \n",
       "6           0.19          0.01             0.01            0.00   \n",
       "7           0.01          0.00             0.00            0.00   \n",
       "8           1.73          0.04             0.60            0.02   \n",
       "\n",
       "                                     param_estimator  \\\n",
       "0                             KNeighborsClassifier()   \n",
       "1                               LogisticRegression()   \n",
       "2                           DecisionTreeClassifier()   \n",
       "3  (DecisionTreeClassifier(max_features='auto', r...   \n",
       "4  ([DecisionTreeRegressor(criterion='friedman_ms...   \n",
       "5  XGBClassifier(base_score=None, booster=None, c...   \n",
       "6                                   LGBMClassifier()   \n",
       "7                                    MultinomialNB()   \n",
       "8                                              SVC()   \n",
       "\n",
       "                                              params  split0_test_score  \\\n",
       "0              {'estimator': KNeighborsClassifier()}               0.65   \n",
       "1                {'estimator': LogisticRegression()}               0.72   \n",
       "2            {'estimator': DecisionTreeClassifier()}               0.72   \n",
       "3  {'estimator': (DecisionTreeClassifier(max_feat...               0.81   \n",
       "4  {'estimator': ([DecisionTreeRegressor(criterio...               0.82   \n",
       "5  {'estimator': XGBClassifier(base_score=None, b...               0.85   \n",
       "6                    {'estimator': LGBMClassifier()}               0.87   \n",
       "7                     {'estimator': MultinomialNB()}               0.66   \n",
       "8                               {'estimator': SVC()}               0.70   \n",
       "\n",
       "   split1_test_score  split2_test_score  split3_test_score  split4_test_score  \\\n",
       "0               0.65               0.65               0.65               0.66   \n",
       "1               0.69               0.69               0.71               0.68   \n",
       "2               0.68               0.70               0.70               0.69   \n",
       "3               0.80               0.80               0.81               0.77   \n",
       "4               0.79               0.81               0.82               0.79   \n",
       "5               0.83               0.83               0.84               0.81   \n",
       "6               0.83               0.83               0.84               0.82   \n",
       "7               0.65               0.63               0.63               0.64   \n",
       "8               0.67               0.68               0.68               0.67   \n",
       "\n",
       "   split5_test_score  mean_test_score  std_test_score  rank_test_score  \\\n",
       "0               0.64             0.65            0.01                8   \n",
       "1               0.69             0.70            0.01                5   \n",
       "2               0.69             0.70            0.01                6   \n",
       "3               0.79             0.80            0.01                4   \n",
       "4               0.79             0.80            0.01                3   \n",
       "5               0.81             0.83            0.01                2   \n",
       "6               0.82             0.83            0.02                1   \n",
       "7               0.64             0.64            0.01                9   \n",
       "8               0.67             0.68            0.01                7   \n",
       "\n",
       "   split0_train_score  split1_train_score  split2_train_score  \\\n",
       "0                0.77                0.77                0.78   \n",
       "1                0.71                0.70                0.70   \n",
       "2                1.00                1.00                1.00   \n",
       "3                1.00                1.00                1.00   \n",
       "4                0.82                0.83                0.83   \n",
       "5                0.99                0.99                0.99   \n",
       "6                0.94                0.94                0.94   \n",
       "7                0.64                0.64                0.65   \n",
       "8                0.68                0.69                0.68   \n",
       "\n",
       "   split3_train_score  split4_train_score  split5_train_score  \\\n",
       "0                0.77                0.78                0.77   \n",
       "1                0.70                0.70                0.71   \n",
       "2                1.00                1.00                1.00   \n",
       "3                1.00                1.00                1.00   \n",
       "4                0.83                0.83                0.84   \n",
       "5                0.99                0.99                0.99   \n",
       "6                0.94                0.94                0.94   \n",
       "7                0.64                0.64                0.64   \n",
       "8                0.69                0.68                0.69   \n",
       "\n",
       "   mean_train_score  std_train_score  \n",
       "0              0.77             0.00  \n",
       "1              0.70             0.00  \n",
       "2              1.00             0.00  \n",
       "3              1.00             0.00  \n",
       "4              0.83             0.01  \n",
       "5              0.99             0.00  \n",
       "6              0.94             0.00  \n",
       "7              0.64             0.00  \n",
       "8              0.68             0.00  "
      ]
     },
     "execution_count": 141,
     "metadata": {},
     "output_type": "execute_result"
    }
   ],
   "source": [
    "models = Pipeline(steps=[('estimator', KNN_model)])\n",
    "param_grid = [{'estimator':[KNN_model]}, {'estimator':[lr]},{'estimator':[dt]},{'estimator':[rf]},\n",
    "             {'estimator':[GBC]},{'estimator':[xg]},{'estimator':[lgb]},\n",
    "             {'estimator':[nb]},{'estimator':[svm]}]\n",
    "tuning_model = GridSearchCV(models, scoring='accuracy', return_train_score= True,cv=6, param_grid=param_grid)\n",
    "tuning_model.fit(X_train,y_train)\n",
    "pd.DataFrame(tuning_model.cv_results_)"
   ]
  },
  {
   "cell_type": "code",
   "execution_count": null,
   "id": "ac6354ae",
   "metadata": {},
   "outputs": [],
   "source": []
  },
  {
   "cell_type": "code",
   "execution_count": null,
   "id": "76640dde",
   "metadata": {},
   "outputs": [],
   "source": []
  },
  {
   "cell_type": "code",
   "execution_count": null,
   "id": "e2721fbd",
   "metadata": {},
   "outputs": [],
   "source": []
  },
  {
   "cell_type": "markdown",
   "id": "d6ab46b4",
   "metadata": {},
   "source": [
    "## feature importance (under sample) "
   ]
  },
  {
   "cell_type": "code",
   "execution_count": null,
   "id": "ff6352f6",
   "metadata": {},
   "outputs": [],
   "source": [
    "features = pd.Series(rf.feature_importances_, index=X_rus.columns).sort_values(ascending=False)\n",
    "\n",
    "sns.barplot(x=features, y=features.index)\n",
    "plt.xlabel('Score')\n",
    "plt.ylabel('Parameter')\n",
    "plt.title('Feature Importance')\n",
    "plt.show()"
   ]
  },
  {
   "cell_type": "code",
   "execution_count": null,
   "id": "1713b747",
   "metadata": {},
   "outputs": [],
   "source": [
    "fs = pd.Series(rf.feature_importances_, index=X_rus.columns).sort_values(ascending=False)\n",
    "fs[fs > 0.045]"
   ]
  },
  {
   "cell_type": "code",
   "execution_count": null,
   "id": "dfd9c753",
   "metadata": {},
   "outputs": [],
   "source": [
    "fs = pd.Series(rf.feature_importances_, index=X_rus.columns).sort_values(ascending=False)\n",
    "fs[fs > 0.00]"
   ]
  },
  {
   "cell_type": "code",
   "execution_count": null,
   "id": "e884ee91",
   "metadata": {},
   "outputs": [],
   "source": [
    "asasas"
   ]
  },
  {
   "cell_type": "code",
   "execution_count": null,
   "id": "02a13551",
   "metadata": {},
   "outputs": [],
   "source": []
  },
  {
   "cell_type": "markdown",
   "id": "b71eebad",
   "metadata": {},
   "source": [
    "## Decision Tree UnderSample (fea im)"
   ]
  },
  {
   "cell_type": "code",
   "execution_count": null,
   "id": "886385fd",
   "metadata": {},
   "outputs": [],
   "source": [
    "X = df[['Cholesterol','HCT','LDL-Cholesterol','Potassium','Creatinine',\n",
    "       'vital_bmi']]\n",
    "y = df['stroke']"
   ]
  },
  {
   "cell_type": "code",
   "execution_count": null,
   "id": "7957d7e4",
   "metadata": {},
   "outputs": [],
   "source": [
    "# X = df[['Cholesterol','HCT','LDL-Cholesterol','Potassium','Creatinine',\n",
    "#        'vital_bmi','Triglyceride','vital_rr','patientAge','FBS','vital_bps','vital_bpd','vital_pulse',\n",
    "#        'vital_temperature','patientSexName','alcohol','Hypertension']]\n",
    "# y = df['stroke']"
   ]
  },
  {
   "cell_type": "code",
   "execution_count": null,
   "id": "e01d6213",
   "metadata": {},
   "outputs": [],
   "source": [
    "# X = df[['Cholesterol','HCT','LDL-Cholesterol','Potassium','Creatinine',\n",
    "#        'vital_bmi','Triglyceride','vital_rr','patientAge','FBS','vital_bps','vital_bpd','vital_pulse']]\n",
    "# y = df['stroke']"
   ]
  },
  {
   "cell_type": "code",
   "execution_count": null,
   "id": "e82cc0ee",
   "metadata": {},
   "outputs": [],
   "source": [
    "# X = df[['Cholesterol','Creatinine','LDL_level_e','Triglyceride','health_level_e','FBS','vital_bpd',\n",
    "#        'vital_bps','vital_pulse','Age_R_e','Potassium','HCT','patientSexName','smoking','Diabetes_Mellitus']]\n",
    "# y = df['stroke']"
   ]
  },
  {
   "cell_type": "code",
   "execution_count": null,
   "id": "c97a0c70",
   "metadata": {},
   "outputs": [],
   "source": [
    "rus = RandomUnderSampler(sampling_strategy=1) \n",
    "X_rus, y_rus = rus.fit_resample(X, y)"
   ]
  },
  {
   "cell_type": "code",
   "execution_count": null,
   "id": "15f957f9",
   "metadata": {},
   "outputs": [],
   "source": [
    "Counter(y_rus)"
   ]
  },
  {
   "cell_type": "code",
   "execution_count": null,
   "id": "59433c34",
   "metadata": {},
   "outputs": [],
   "source": [
    "# train 90 & test 10 \n",
    "X_train, X_test, y_train, y_test = train_test_split(X_rus, y_rus, test_size=0.15, random_state=123)"
   ]
  },
  {
   "cell_type": "code",
   "execution_count": null,
   "id": "22357827",
   "metadata": {},
   "outputs": [],
   "source": [
    "from sklearn import tree\n",
    "dt = tree.DecisionTreeClassifier()\n",
    "dt.fit(X_train,y_train)"
   ]
  },
  {
   "cell_type": "code",
   "execution_count": null,
   "id": "b16304c8",
   "metadata": {},
   "outputs": [],
   "source": [
    "dt.score(X_train,y_train)"
   ]
  },
  {
   "cell_type": "code",
   "execution_count": null,
   "id": "3d0bf187",
   "metadata": {},
   "outputs": [],
   "source": [
    "dt.score(X_test,y_test)"
   ]
  },
  {
   "cell_type": "code",
   "execution_count": null,
   "id": "4ac6ea64",
   "metadata": {},
   "outputs": [],
   "source": [
    "y_pred = dt.predict(X_test)"
   ]
  },
  {
   "cell_type": "code",
   "execution_count": null,
   "id": "aec324c1",
   "metadata": {},
   "outputs": [],
   "source": [
    "confusion_matrix(y_test, y_pred)"
   ]
  },
  {
   "cell_type": "code",
   "execution_count": null,
   "id": "0434d3e8",
   "metadata": {},
   "outputs": [],
   "source": [
    "print(classification_report(y_test, y_pred))"
   ]
  },
  {
   "cell_type": "markdown",
   "id": "9f0e588f",
   "metadata": {},
   "source": [
    "## Random Forest UnderSample (fea im)"
   ]
  },
  {
   "cell_type": "code",
   "execution_count": null,
   "id": "00975b60",
   "metadata": {},
   "outputs": [],
   "source": [
    "rf = RandomForestClassifier()\n",
    "rf = rf.fit(X_train, y_train)\n",
    "y_pred = rf.predict(X_test)"
   ]
  },
  {
   "cell_type": "code",
   "execution_count": null,
   "id": "3252b36d",
   "metadata": {},
   "outputs": [],
   "source": [
    "# X_train"
   ]
  },
  {
   "cell_type": "code",
   "execution_count": null,
   "id": "dbbfa200",
   "metadata": {},
   "outputs": [],
   "source": [
    "rf.score(X_train, y_train)"
   ]
  },
  {
   "cell_type": "code",
   "execution_count": null,
   "id": "b78f09d7",
   "metadata": {},
   "outputs": [],
   "source": [
    "rf.score(X_test, y_test)"
   ]
  },
  {
   "cell_type": "code",
   "execution_count": null,
   "id": "7c8ee9aa",
   "metadata": {},
   "outputs": [],
   "source": [
    "print(classification_report(y_test, y_pred))"
   ]
  },
  {
   "cell_type": "code",
   "execution_count": null,
   "id": "3c7b986b",
   "metadata": {},
   "outputs": [],
   "source": [
    "# y_train"
   ]
  },
  {
   "cell_type": "code",
   "execution_count": null,
   "id": "fd449830",
   "metadata": {},
   "outputs": [],
   "source": [
    "# y_pred_train = rf.predict(X_train)"
   ]
  },
  {
   "cell_type": "code",
   "execution_count": null,
   "id": "0438a374",
   "metadata": {},
   "outputs": [],
   "source": [
    "# print(classification_report(y_train, y_pred_train))"
   ]
  },
  {
   "cell_type": "markdown",
   "id": "765cc388",
   "metadata": {},
   "source": [
    "## Gradien UnderSample (fea im)"
   ]
  },
  {
   "cell_type": "code",
   "execution_count": null,
   "id": "0e057811",
   "metadata": {},
   "outputs": [],
   "source": [
    "GBC = GradientBoostingClassifier()\n",
    "GBC.fit(X_train, y_train)\n",
    "y_pred = GBC.predict(X_test)"
   ]
  },
  {
   "cell_type": "code",
   "execution_count": null,
   "id": "682ea78a",
   "metadata": {},
   "outputs": [],
   "source": [
    "GBC.score(X_train, y_train)"
   ]
  },
  {
   "cell_type": "code",
   "execution_count": null,
   "id": "485eb549",
   "metadata": {},
   "outputs": [],
   "source": [
    "GBC.score(X_test, y_test)"
   ]
  },
  {
   "cell_type": "code",
   "execution_count": null,
   "id": "278c1ee7",
   "metadata": {},
   "outputs": [],
   "source": [
    "print(classification_report(y_test, y_pred))"
   ]
  },
  {
   "cell_type": "markdown",
   "id": "0d617ca7",
   "metadata": {},
   "source": [
    "## XGBoost UnderSample (fea im)"
   ]
  },
  {
   "cell_type": "code",
   "execution_count": null,
   "id": "2839399d",
   "metadata": {},
   "outputs": [],
   "source": [
    "import xgboost as xgb\n",
    "xg = xgb.XGBClassifier()\n",
    "xg.fit(X_train, y_train)\n",
    "y_pred = xg.predict(X_test)"
   ]
  },
  {
   "cell_type": "code",
   "execution_count": null,
   "id": "6c2a2452",
   "metadata": {},
   "outputs": [],
   "source": [
    "xg.score(X_train, y_train)"
   ]
  },
  {
   "cell_type": "code",
   "execution_count": null,
   "id": "4cd3f608",
   "metadata": {},
   "outputs": [],
   "source": [
    "xg.score(X_test, y_test)"
   ]
  },
  {
   "cell_type": "code",
   "execution_count": null,
   "id": "f7b354c1",
   "metadata": {},
   "outputs": [],
   "source": [
    "print(classification_report(y_test, y_pred))"
   ]
  },
  {
   "cell_type": "markdown",
   "id": "d8db2ec0",
   "metadata": {},
   "source": [
    "## Lightgbm "
   ]
  },
  {
   "cell_type": "code",
   "execution_count": null,
   "id": "34027446",
   "metadata": {},
   "outputs": [],
   "source": [
    "# conda install lightgbm\n",
    "import lightgbm as lgb\n",
    "lgb = lgb.LGBMClassifier()\n",
    "lgb.fit(X_train,y_train)\n",
    "y_pred = lgb.predict(X_test)"
   ]
  },
  {
   "cell_type": "code",
   "execution_count": null,
   "id": "d2d085c5",
   "metadata": {},
   "outputs": [],
   "source": [
    "lgb.score(X_train, y_train)"
   ]
  },
  {
   "cell_type": "code",
   "execution_count": null,
   "id": "8ccebbe6",
   "metadata": {},
   "outputs": [],
   "source": [
    "lgb.score(X_test, y_test)"
   ]
  },
  {
   "cell_type": "code",
   "execution_count": null,
   "id": "4c964dc6",
   "metadata": {},
   "outputs": [],
   "source": [
    "print(classification_report(y_test, y_pred))"
   ]
  },
  {
   "cell_type": "markdown",
   "id": "e6658293",
   "metadata": {},
   "source": [
    "## Naive Bayes UnderSample (fea im)"
   ]
  },
  {
   "cell_type": "code",
   "execution_count": null,
   "id": "3df289b5",
   "metadata": {},
   "outputs": [],
   "source": [
    "from sklearn.naive_bayes import MultinomialNB # MultinomialNB or BernoulliNB\n",
    "nb = MultinomialNB()\n",
    "nb.fit(X_train, y_train)\n",
    "y_pred = nb.predict(X_test)"
   ]
  },
  {
   "cell_type": "code",
   "execution_count": null,
   "id": "96ed89ff",
   "metadata": {},
   "outputs": [],
   "source": [
    "nb.score(X_train, y_train)"
   ]
  },
  {
   "cell_type": "code",
   "execution_count": null,
   "id": "afc42322",
   "metadata": {},
   "outputs": [],
   "source": [
    "nb.score(X_test, y_test)"
   ]
  },
  {
   "cell_type": "code",
   "execution_count": null,
   "id": "4ead4acb",
   "metadata": {},
   "outputs": [],
   "source": [
    "print(classification_report(y_test, y_pred))"
   ]
  },
  {
   "cell_type": "markdown",
   "id": "6278a0d5",
   "metadata": {},
   "source": [
    "## LR UnderSample (fea im)"
   ]
  },
  {
   "cell_type": "code",
   "execution_count": null,
   "id": "02c5a6e2",
   "metadata": {},
   "outputs": [],
   "source": [
    "from sklearn.linear_model import LogisticRegression\n",
    "lr = LogisticRegression()\n",
    "lr.fit(X_train,y_train)\n",
    "y_pred = lr.predict(X_test)"
   ]
  },
  {
   "cell_type": "code",
   "execution_count": null,
   "id": "f3bccdf5",
   "metadata": {},
   "outputs": [],
   "source": [
    "lr.score(X_train, y_train)"
   ]
  },
  {
   "cell_type": "code",
   "execution_count": null,
   "id": "98af93a5",
   "metadata": {},
   "outputs": [],
   "source": [
    "lr.score(X_test, y_test)"
   ]
  },
  {
   "cell_type": "code",
   "execution_count": null,
   "id": "bf2d8a83",
   "metadata": {},
   "outputs": [],
   "source": [
    "print(classification_report(y_test, y_pred))"
   ]
  },
  {
   "cell_type": "markdown",
   "id": "efb165be",
   "metadata": {},
   "source": [
    "## SVM UnderSample (fea im)"
   ]
  },
  {
   "cell_type": "code",
   "execution_count": null,
   "id": "03df5082",
   "metadata": {},
   "outputs": [],
   "source": [
    "from sklearn import svm \n",
    "svm = svm.SVC()\n",
    "svm.fit(X_train,y_train)\n",
    "y_pred = svm.predict(X_test)"
   ]
  },
  {
   "cell_type": "code",
   "execution_count": null,
   "id": "4c62d819",
   "metadata": {},
   "outputs": [],
   "source": [
    "svm.score(X_train, y_train)"
   ]
  },
  {
   "cell_type": "code",
   "execution_count": null,
   "id": "ffdfa569",
   "metadata": {},
   "outputs": [],
   "source": [
    "svm.score(X_test, y_test)"
   ]
  },
  {
   "cell_type": "code",
   "execution_count": null,
   "id": "1a9b8eff",
   "metadata": {},
   "outputs": [],
   "source": [
    "print(classification_report(y_test, y_pred))"
   ]
  },
  {
   "cell_type": "markdown",
   "id": "6e772e31",
   "metadata": {},
   "source": [
    "## KNN"
   ]
  },
  {
   "cell_type": "code",
   "execution_count": null,
   "id": "94572c3d",
   "metadata": {},
   "outputs": [],
   "source": [
    "from sklearn.neighbors import KNeighborsClassifier\n",
    "KNN_model = KNeighborsClassifier()\n",
    "KNN_model.fit(X_train,y_train)\n",
    "y_pred = KNN_model.predict(X_test)"
   ]
  },
  {
   "cell_type": "code",
   "execution_count": null,
   "id": "da15c826",
   "metadata": {},
   "outputs": [],
   "source": [
    "KNN_model.score(X_train, y_train)"
   ]
  },
  {
   "cell_type": "code",
   "execution_count": null,
   "id": "5b060ff8",
   "metadata": {},
   "outputs": [],
   "source": [
    "KNN_model.score(X_test, y_test)"
   ]
  },
  {
   "cell_type": "code",
   "execution_count": null,
   "id": "449c32e4",
   "metadata": {},
   "outputs": [],
   "source": [
    "print(classification_report(y_test, y_pred))"
   ]
  },
  {
   "cell_type": "code",
   "execution_count": null,
   "id": "a1db0476",
   "metadata": {},
   "outputs": [],
   "source": []
  },
  {
   "cell_type": "code",
   "execution_count": null,
   "id": "0ab97652",
   "metadata": {},
   "outputs": [],
   "source": []
  },
  {
   "cell_type": "markdown",
   "id": "fb596842",
   "metadata": {},
   "source": [
    "## SMOTE "
   ]
  },
  {
   "cell_type": "code",
   "execution_count": null,
   "id": "d9166ead",
   "metadata": {},
   "outputs": [],
   "source": [
    "# sm = SMOTE(random_state = 10)\n",
    "# X_sm, y_sm = sm.fit_resample(X, y)"
   ]
  },
  {
   "cell_type": "code",
   "execution_count": null,
   "id": "85db236e",
   "metadata": {},
   "outputs": [],
   "source": [
    "# Counter(y_sm)"
   ]
  },
  {
   "cell_type": "code",
   "execution_count": null,
   "id": "f2b9b578",
   "metadata": {},
   "outputs": [],
   "source": [
    "# # train 80 & test 20 \n",
    "# X_train, X_test, y_train, y_test = train_test_split(X_sm, y_sm, test_size=0.2, random_state=7)"
   ]
  },
  {
   "cell_type": "code",
   "execution_count": null,
   "id": "fa0e1228",
   "metadata": {},
   "outputs": [],
   "source": [
    "# from sklearn import tree\n",
    "# dt = tree.DecisionTreeClassifier()"
   ]
  },
  {
   "cell_type": "code",
   "execution_count": null,
   "id": "04c2b301",
   "metadata": {},
   "outputs": [],
   "source": [
    "# dt.fit(X_train,y_train)"
   ]
  },
  {
   "cell_type": "code",
   "execution_count": null,
   "id": "ef817b39",
   "metadata": {},
   "outputs": [],
   "source": [
    "# dt.score(X_train,y_train)"
   ]
  },
  {
   "cell_type": "code",
   "execution_count": null,
   "id": "daa7a1c0",
   "metadata": {},
   "outputs": [],
   "source": [
    "# dt.score(X_test,y_test)"
   ]
  },
  {
   "cell_type": "code",
   "execution_count": null,
   "id": "bab610b3",
   "metadata": {},
   "outputs": [],
   "source": [
    "# y_pred = dt.predict(X_test)"
   ]
  },
  {
   "cell_type": "code",
   "execution_count": null,
   "id": "afa27370",
   "metadata": {},
   "outputs": [],
   "source": [
    "# print(classification_report(y_test, y_pred))"
   ]
  },
  {
   "cell_type": "markdown",
   "id": "52fd58e4",
   "metadata": {},
   "source": [
    "## Scale  (mean=0, std=1)"
   ]
  },
  {
   "cell_type": "code",
   "execution_count": null,
   "id": "45017858",
   "metadata": {},
   "outputs": [],
   "source": [
    "df.head()"
   ]
  },
  {
   "cell_type": "code",
   "execution_count": null,
   "id": "8bb2c6f5",
   "metadata": {},
   "outputs": [],
   "source": [
    "from sklearn import preprocessing"
   ]
  },
  {
   "cell_type": "code",
   "execution_count": null,
   "id": "da1bd190",
   "metadata": {},
   "outputs": [],
   "source": [
    "# scaler = preprocessing.StandardScaler()\n",
    "# cols = df[['Age_R_e','patientSexName','smoking','exercise','alcohol','health_level_e',\n",
    "#            'vital_hr','vital_pulse','vital_temperature','vital_rr','vital_bps',\n",
    "#           'vital_bpd','Cholesterol','Creatinine','FBS','LDL_level_e','Triglyceride',\n",
    "#           'Potassium','HCT','Hypertension','Hyperlipidaemia','Diabetes_Mellitus','Hemiplegia',\n",
    "#           'Chronic_kidney','Atrial_fibrillation','Hypokalemia']]\n",
    "# scaler.fit(cols)\n",
    "# z = scaler.transform(cols)\n",
    "# z[:2]"
   ]
  },
  {
   "cell_type": "code",
   "execution_count": null,
   "id": "38ac8f58",
   "metadata": {},
   "outputs": [],
   "source": [
    "# scaler = preprocessing.StandardScaler()\n",
    "# cols = df[['patientAge','patientSexName','smoking','alcohol','vital_bmi',\n",
    "#            'vital_hr','vital_pulse','vital_temperature','vital_rr','vital_bps',\n",
    "#           'vital_bpd','Cholesterol','Creatinine','FBS','LDL-Cholesterol','Triglyceride',\n",
    "#           'Potassium','HCT','Hypertension','Hyperlipidaemia','Diabetes_Mellitus','Hemiplegia',\n",
    "#           'Chronic_kidney','Atrial_fibrillation','Hypokalemia','Age_R_e','health_level_e','LDL_level_e']]\n",
    "# scaler.fit(cols)\n",
    "# z = scaler.transform(cols)\n",
    "# z[:2]"
   ]
  },
  {
   "cell_type": "code",
   "execution_count": null,
   "id": "79502005",
   "metadata": {},
   "outputs": [],
   "source": [
    "scaler = preprocessing.StandardScaler()\n",
    "cols = df[['patientAge','patientSexName','vital_bmi',\n",
    "           'vital_hr','vital_pulse','vital_temperature','vital_rr','vital_bps',\n",
    "          'vital_bpd','Cholesterol','Creatinine','FBS','LDL-Cholesterol','Triglyceride',\n",
    "          'Potassium','HCT','Hypertension','Hyperlipidaemia','Diabetes_Mellitus','Hemiplegia',\n",
    "          'Chronic_kidney','Atrial_fibrillation','Hypokalemia','Age_R_e','health_level_e','LDL_level_e']]\n",
    "scaler.fit(cols)\n",
    "z = scaler.transform(cols)\n",
    "z[:2]"
   ]
  },
  {
   "cell_type": "code",
   "execution_count": null,
   "id": "2a66a595",
   "metadata": {
    "scrolled": true
   },
   "outputs": [],
   "source": [
    "# df_s = pd.concat([df, pd.DataFrame(z, columns=['z_Age_R_e','z_patientSexName','z_smoking','z_exercise',\n",
    "#                                              'z_alcohol','z_health_level_e','z_vital_hr','z_vital_pulse',\n",
    "#                                              'z_vital_temperature','z_vital_rr','z_vital_bps','z_vital_bpd',\n",
    "#                                              'z_Cholesterol','z_Creatinine','z_FBS','z_LDL_level_e',\n",
    "#                                              'z_Triglyceride','z_Potassium','z_HCT','z_Hypertension','z_Hyperlipidaemia',\n",
    "#                                               'z_Diabetes_Mellitus', 'z_Hemiplegia','z_Chronic_kidney','z_Atrial_fibrillation',\n",
    "#                                               'z_Hypokalemia'])], axis=1)\n",
    "# df_s.head"
   ]
  },
  {
   "cell_type": "code",
   "execution_count": null,
   "id": "7cd4bb7b",
   "metadata": {},
   "outputs": [],
   "source": [
    "df_s = pd.concat([df, pd.DataFrame(z, columns=['z_patientAge','z_patientSexName','z_vital_bmi','z_vital_hr','z_vital_pulse',\n",
    "                                             'z_vital_temperature','z_vital_rr','z_vital_bps','z_vital_bpd',\n",
    "                                             'z_Cholesterol','z_Creatinine','z_FBS','z_LDL-Cholesterol',\n",
    "                                             'z_Triglyceride','z_Potassium','z_HCT','z_Hypertension','z_Hyperlipidaemia',\n",
    "                                              'z_Diabetes_Mellitus', 'z_Hemiplegia','z_Chronic_kidney','z_Atrial_fibrillation',\n",
    "                                              'z_Hypokalemia','z_Age_R_e','z_health_level_e','z_LDL_level_e'])], axis=1)\n",
    "df_s.head"
   ]
  },
  {
   "cell_type": "code",
   "execution_count": null,
   "id": "abc269c8",
   "metadata": {},
   "outputs": [],
   "source": [
    "# df_s = pd.concat([df, pd.DataFrame(z, columns=['z_patientAge','z_patientSexName','z_smoking',\n",
    "#                                              'z_alcohol','z_vital_bmi','z_vital_hr','z_vital_pulse',\n",
    "#                                              'z_vital_temperature','z_vital_rr','z_vital_bps','z_vital_bpd',\n",
    "#                                              'z_Cholesterol','z_Creatinine','z_FBS','z_LDL-Cholesterol',\n",
    "#                                              'z_Triglyceride','z_Potassium','z_HCT','z_Hypertension','z_Hyperlipidaemia',\n",
    "#                                               'z_Diabetes_Mellitus', 'z_Hemiplegia','z_Chronic_kidney','z_Atrial_fibrillation',\n",
    "#                                               'z_Hypokalemia','z_Age_R_e','z_health_level_e','z_LDL_level_e'])], axis=1)\n",
    "# df_s.head"
   ]
  },
  {
   "cell_type": "code",
   "execution_count": null,
   "id": "0be2fca8",
   "metadata": {},
   "outputs": [],
   "source": [
    "df_s"
   ]
  },
  {
   "cell_type": "code",
   "execution_count": null,
   "id": "49e6d6b0",
   "metadata": {},
   "outputs": [],
   "source": [
    "# df_s = df_s.drop(['Age_R_e','patientSexName','smoking','alcohol','health_level_e',\n",
    "#            'vital_hr','vital_pulse','vital_temperature','vital_rr','vital_bps',\n",
    "#           'vital_bpd','Cholesterol','Creatinine','FBS','LDL_level_e','Triglyceride',\n",
    "#           'Potassium','HCT','Hypertension','Hyperlipidaemia','Diabetes_Mellitus','Hemiplegia',\n",
    "#           'Chronic_kidney','Atrial_fibrillation','Hypokalemia','patientAge','vital_bmi','LDL-Cholesterol'],axis = 1)\n",
    "# df_s"
   ]
  },
  {
   "cell_type": "code",
   "execution_count": null,
   "id": "875e7b5c",
   "metadata": {},
   "outputs": [],
   "source": [
    "df_s = df_s.drop(['Age_R_e','patientSexName','health_level_e',\n",
    "           'vital_hr','vital_pulse','vital_temperature','vital_rr','vital_bps',\n",
    "          'vital_bpd','Cholesterol','Creatinine','FBS','LDL_level_e','Triglyceride',\n",
    "          'Potassium','HCT','Hypertension','Hyperlipidaemia','Diabetes_Mellitus','Hemiplegia',\n",
    "          'Chronic_kidney','Atrial_fibrillation','Hypokalemia','patientAge','vital_bmi','LDL-Cholesterol'],axis = 1)\n",
    "df_s"
   ]
  },
  {
   "cell_type": "code",
   "execution_count": null,
   "id": "18a750d2",
   "metadata": {},
   "outputs": [],
   "source": [
    "# X = df_s.drop(['rowID', 'stroke','Age_R','health_level','LDL_level','patientAge','vital_bmi','LDL-Cholesterol'], axis=1)\n",
    "# y = df_s['stroke']"
   ]
  },
  {
   "cell_type": "code",
   "execution_count": null,
   "id": "f9516eed",
   "metadata": {},
   "outputs": [],
   "source": [
    "X = df_s.drop(['rowID', 'stroke','Age_R','health_level','LDL_level','z_Age_R_e','z_health_level_e','z_LDL_level_e'], axis=1)\n",
    "y = df_s['stroke']"
   ]
  },
  {
   "cell_type": "code",
   "execution_count": null,
   "id": "5cd57777",
   "metadata": {},
   "outputs": [],
   "source": [
    "X"
   ]
  },
  {
   "cell_type": "code",
   "execution_count": null,
   "id": "1e232add",
   "metadata": {},
   "outputs": [],
   "source": [
    "rus = RandomUnderSampler(sampling_strategy=1) \n",
    "X_rus, y_rus = rus.fit_resample(X, y)"
   ]
  },
  {
   "cell_type": "code",
   "execution_count": null,
   "id": "080f3370",
   "metadata": {},
   "outputs": [],
   "source": [
    "Counter(y_rus)"
   ]
  },
  {
   "cell_type": "code",
   "execution_count": null,
   "id": "8e4673d9",
   "metadata": {},
   "outputs": [],
   "source": [
    "# train 90 & test 10\n",
    "X_train, X_test, y_train, y_test = train_test_split(X_rus, y_rus, test_size=0.15,shuffle=True ,random_state=123)"
   ]
  },
  {
   "cell_type": "code",
   "execution_count": null,
   "id": "55f906fd",
   "metadata": {},
   "outputs": [],
   "source": [
    "asasas"
   ]
  },
  {
   "cell_type": "markdown",
   "id": "595a9812",
   "metadata": {},
   "source": [
    "## Decision Tree "
   ]
  },
  {
   "cell_type": "code",
   "execution_count": null,
   "id": "fa08568a",
   "metadata": {},
   "outputs": [],
   "source": [
    "from sklearn import tree\n",
    "dt = tree.DecisionTreeClassifier()\n",
    "dt = dt.fit(X_train, y_train)\n",
    "y_pred = dt.predict(X_test)"
   ]
  },
  {
   "cell_type": "code",
   "execution_count": null,
   "id": "6ff8d49b",
   "metadata": {},
   "outputs": [],
   "source": [
    "dt.score(X_train, y_train)"
   ]
  },
  {
   "cell_type": "code",
   "execution_count": null,
   "id": "36a631d5",
   "metadata": {},
   "outputs": [],
   "source": [
    "dt.score(X_test, y_test)"
   ]
  },
  {
   "cell_type": "code",
   "execution_count": null,
   "id": "7d8225dd",
   "metadata": {},
   "outputs": [],
   "source": [
    "print(classification_report(y_test, y_pred))"
   ]
  },
  {
   "cell_type": "markdown",
   "id": "5a784bf9",
   "metadata": {},
   "source": [
    "## Random Forest "
   ]
  },
  {
   "cell_type": "code",
   "execution_count": null,
   "id": "c702ebb5",
   "metadata": {},
   "outputs": [],
   "source": [
    "rf = RandomForestClassifier()\n",
    "rf = rf.fit(X_train, y_train)\n",
    "y_pred = rf.predict(X_test)"
   ]
  },
  {
   "cell_type": "code",
   "execution_count": null,
   "id": "190a0d4f",
   "metadata": {},
   "outputs": [],
   "source": [
    "rf.score(X_train, y_train)"
   ]
  },
  {
   "cell_type": "code",
   "execution_count": null,
   "id": "73cddb57",
   "metadata": {},
   "outputs": [],
   "source": [
    "rf.score(X_test, y_test)"
   ]
  },
  {
   "cell_type": "code",
   "execution_count": null,
   "id": "74ff0c23",
   "metadata": {},
   "outputs": [],
   "source": [
    "print(classification_report(y_test, y_pred))"
   ]
  },
  {
   "cell_type": "markdown",
   "id": "3d23c625",
   "metadata": {},
   "source": [
    "## KNN "
   ]
  },
  {
   "cell_type": "code",
   "execution_count": null,
   "id": "c3b4b8a5",
   "metadata": {},
   "outputs": [],
   "source": [
    "from sklearn.neighbors import KNeighborsClassifier\n",
    "KNN_model = KNeighborsClassifier()\n",
    "KNN_model.fit(X_train,y_train)\n",
    "y_pred = KNN_model.predict(X_test)"
   ]
  },
  {
   "cell_type": "code",
   "execution_count": null,
   "id": "0108905b",
   "metadata": {},
   "outputs": [],
   "source": [
    "KNN_model.score(X_train,y_train)"
   ]
  },
  {
   "cell_type": "code",
   "execution_count": null,
   "id": "fc279485",
   "metadata": {},
   "outputs": [],
   "source": [
    "KNN_model.score(X_test,y_test)"
   ]
  },
  {
   "cell_type": "code",
   "execution_count": null,
   "id": "9b39647f",
   "metadata": {},
   "outputs": [],
   "source": [
    "print(classification_report(y_test, y_pred))"
   ]
  },
  {
   "cell_type": "markdown",
   "id": "1721a1e8",
   "metadata": {},
   "source": [
    "## Rogistic "
   ]
  },
  {
   "cell_type": "code",
   "execution_count": null,
   "id": "124d0641",
   "metadata": {},
   "outputs": [],
   "source": [
    "from sklearn.linear_model import LogisticRegression\n",
    "lr = LogisticRegression()\n",
    "lr.fit(X_train,y_train)\n",
    "y_pred = lr.predict(X_test)"
   ]
  },
  {
   "cell_type": "code",
   "execution_count": null,
   "id": "f15ab930",
   "metadata": {},
   "outputs": [],
   "source": [
    "lr.score(X_train,y_train)"
   ]
  },
  {
   "cell_type": "code",
   "execution_count": null,
   "id": "d76b3e5f",
   "metadata": {},
   "outputs": [],
   "source": [
    "lr.score(X_test,y_test)"
   ]
  },
  {
   "cell_type": "code",
   "execution_count": null,
   "id": "0bb7398a",
   "metadata": {},
   "outputs": [],
   "source": [
    "print(classification_report(y_test, y_pred))"
   ]
  },
  {
   "cell_type": "markdown",
   "id": "4e34246e",
   "metadata": {},
   "source": [
    "## SVM "
   ]
  },
  {
   "cell_type": "code",
   "execution_count": null,
   "id": "8c1b7a69",
   "metadata": {},
   "outputs": [],
   "source": [
    "from sklearn import svm \n",
    "svm = svm.SVC()\n",
    "svm.fit(X_train,y_train)\n",
    "y_pred = svm.predict(X_test)"
   ]
  },
  {
   "cell_type": "code",
   "execution_count": null,
   "id": "073fcbf5",
   "metadata": {},
   "outputs": [],
   "source": [
    "svm.score(X_train,y_train)"
   ]
  },
  {
   "cell_type": "code",
   "execution_count": null,
   "id": "20f3762a",
   "metadata": {},
   "outputs": [],
   "source": [
    "svm.score(X_test,y_test)"
   ]
  },
  {
   "cell_type": "code",
   "execution_count": null,
   "id": "e7c39de2",
   "metadata": {},
   "outputs": [],
   "source": [
    "print(classification_report(y_test, y_pred))"
   ]
  },
  {
   "cell_type": "markdown",
   "id": "11e96744",
   "metadata": {},
   "source": [
    "## Gradien"
   ]
  },
  {
   "cell_type": "code",
   "execution_count": null,
   "id": "7adcc4f2",
   "metadata": {},
   "outputs": [],
   "source": [
    "GBC = GradientBoostingClassifier()\n",
    "GBC.fit(X_train, y_train)\n",
    "y_pred = GBC.predict(X_test)"
   ]
  },
  {
   "cell_type": "code",
   "execution_count": null,
   "id": "192f4bba",
   "metadata": {},
   "outputs": [],
   "source": [
    "GBC.score(X_train,y_train)"
   ]
  },
  {
   "cell_type": "code",
   "execution_count": null,
   "id": "a19d9bb9",
   "metadata": {},
   "outputs": [],
   "source": [
    "GBC.score(X_test,y_test)"
   ]
  },
  {
   "cell_type": "code",
   "execution_count": null,
   "id": "36a07a53",
   "metadata": {},
   "outputs": [],
   "source": [
    "print(classification_report(y_test, y_pred))"
   ]
  },
  {
   "cell_type": "markdown",
   "id": "9350316a",
   "metadata": {},
   "source": [
    "## XGBoost "
   ]
  },
  {
   "cell_type": "code",
   "execution_count": null,
   "id": "967b0379",
   "metadata": {},
   "outputs": [],
   "source": [
    "import xgboost as xgb\n",
    "xg = xgb.XGBClassifier()\n",
    "xg.fit(X_train, y_train)\n",
    "y_pred = xg.predict(X_test)"
   ]
  },
  {
   "cell_type": "code",
   "execution_count": null,
   "id": "dd8bf512",
   "metadata": {},
   "outputs": [],
   "source": [
    "xg.score(X_train,y_train)"
   ]
  },
  {
   "cell_type": "code",
   "execution_count": null,
   "id": "c1f5a7ac",
   "metadata": {},
   "outputs": [],
   "source": [
    "xg.score(X_test,y_test)"
   ]
  },
  {
   "cell_type": "code",
   "execution_count": null,
   "id": "eac79f68",
   "metadata": {},
   "outputs": [],
   "source": [
    "print(classification_report(y_test, y_pred))"
   ]
  },
  {
   "cell_type": "markdown",
   "id": "3107ac41",
   "metadata": {},
   "source": [
    "## Lightgbm "
   ]
  },
  {
   "cell_type": "code",
   "execution_count": null,
   "id": "73147eb3",
   "metadata": {},
   "outputs": [],
   "source": [
    "# conda install lightgbm\n",
    "import lightgbm as lgb\n",
    "lgb = lgb.LGBMClassifier()\n",
    "lgb.fit(X_train,y_train)\n",
    "y_pred = lgb.predict(X_test)"
   ]
  },
  {
   "cell_type": "code",
   "execution_count": null,
   "id": "f98bdeed",
   "metadata": {},
   "outputs": [],
   "source": [
    "lgb.score(X_train,y_train)"
   ]
  },
  {
   "cell_type": "code",
   "execution_count": null,
   "id": "24cb5654",
   "metadata": {},
   "outputs": [],
   "source": [
    "lgb.score(X_test,y_test)"
   ]
  },
  {
   "cell_type": "code",
   "execution_count": null,
   "id": "f2226be9",
   "metadata": {},
   "outputs": [],
   "source": [
    "print(classification_report(y_test, y_pred))"
   ]
  },
  {
   "cell_type": "code",
   "execution_count": null,
   "id": "9340927a",
   "metadata": {},
   "outputs": [],
   "source": []
  },
  {
   "cell_type": "markdown",
   "id": "574971d3",
   "metadata": {},
   "source": [
    "## Naive Bayes"
   ]
  },
  {
   "cell_type": "code",
   "execution_count": null,
   "id": "3bdbbb31",
   "metadata": {},
   "outputs": [],
   "source": [
    "from sklearn.naive_bayes import BernoulliNB\n",
    "nb = BernoulliNB()\n",
    "nb.fit(X_train, y_train)\n",
    "y_pred = nb.predict(X_test)"
   ]
  },
  {
   "cell_type": "code",
   "execution_count": null,
   "id": "19c13891",
   "metadata": {},
   "outputs": [],
   "source": [
    "nb.score(X_train,y_train)"
   ]
  },
  {
   "cell_type": "code",
   "execution_count": null,
   "id": "75e60f6a",
   "metadata": {},
   "outputs": [],
   "source": [
    "nb.score(X_test,y_test)"
   ]
  },
  {
   "cell_type": "code",
   "execution_count": null,
   "id": "06161211",
   "metadata": {},
   "outputs": [],
   "source": [
    "print(classification_report(y_test, y_pred))"
   ]
  },
  {
   "cell_type": "markdown",
   "id": "a665bbab",
   "metadata": {},
   "source": [
    "## Feature Importance"
   ]
  },
  {
   "cell_type": "code",
   "execution_count": null,
   "id": "786e5325",
   "metadata": {},
   "outputs": [],
   "source": [
    "features = pd.Series(rf.feature_importances_, index=X_rus.columns).sort_values(ascending=False)\n",
    "\n",
    "sns.barplot(x=features, y=features.index)\n",
    "plt.xlabel('Score')\n",
    "plt.ylabel('Parameter')\n",
    "plt.title('Feature Importance')\n",
    "plt.show()"
   ]
  },
  {
   "cell_type": "code",
   "execution_count": null,
   "id": "62adbada",
   "metadata": {},
   "outputs": [],
   "source": [
    "fs = pd.Series(rf.feature_importances_, index=X_rus.columns).sort_values(ascending=False)\n",
    "fs[fs >= 0.045]"
   ]
  },
  {
   "cell_type": "code",
   "execution_count": null,
   "id": "af6d0912",
   "metadata": {},
   "outputs": [],
   "source": [
    "X = df_s[['z_Cholesterol','z_Creatinine','z_FBS','z_vital_bmi','z_Triglyceride','z_LDL-Cholesterol',\n",
    "        'z_Potassium','z_HCT','z_patientAge','z_vital_rr','z_vital_bps','z_vital_bpd']]\n",
    "y = df_s['stroke']"
   ]
  },
  {
   "cell_type": "code",
   "execution_count": null,
   "id": "fd4e356f",
   "metadata": {},
   "outputs": [],
   "source": [
    "rus = RandomUnderSampler(sampling_strategy=1) \n",
    "X_rus, y_rus = rus.fit_resample(X, y)"
   ]
  },
  {
   "cell_type": "code",
   "execution_count": null,
   "id": "55dd86db",
   "metadata": {},
   "outputs": [],
   "source": [
    "Counter(y_rus)"
   ]
  },
  {
   "cell_type": "code",
   "execution_count": null,
   "id": "a4cccf24",
   "metadata": {},
   "outputs": [],
   "source": [
    "# train 90 & test 10 \n",
    "X_train, X_test, y_train, y_test = train_test_split(X_rus, y_rus, test_size=0.15, random_state=123)"
   ]
  },
  {
   "cell_type": "markdown",
   "id": "db7cd547",
   "metadata": {},
   "source": [
    "## DT"
   ]
  },
  {
   "cell_type": "code",
   "execution_count": null,
   "id": "8bf6c211",
   "metadata": {},
   "outputs": [],
   "source": [
    "from sklearn import tree\n",
    "dt = tree.DecisionTreeClassifier()\n",
    "dt = dt.fit(X_train, y_train)\n",
    "y_pred = dt.predict(X_test)"
   ]
  },
  {
   "cell_type": "code",
   "execution_count": null,
   "id": "23532f73",
   "metadata": {},
   "outputs": [],
   "source": [
    "dt.score(X_train,y_train)"
   ]
  },
  {
   "cell_type": "code",
   "execution_count": null,
   "id": "fc87e63d",
   "metadata": {},
   "outputs": [],
   "source": [
    "dt.score(X_test,y_test)"
   ]
  },
  {
   "cell_type": "code",
   "execution_count": null,
   "id": "69320aa9",
   "metadata": {},
   "outputs": [],
   "source": [
    "print(classification_report(y_test, y_pred))"
   ]
  },
  {
   "cell_type": "markdown",
   "id": "94a98c1c",
   "metadata": {},
   "source": [
    "## RF "
   ]
  },
  {
   "cell_type": "code",
   "execution_count": null,
   "id": "87b78c88",
   "metadata": {},
   "outputs": [],
   "source": [
    "rf = RandomForestClassifier()\n",
    "rf = rf.fit(X_train, y_train)\n",
    "y_pred = rf.predict(X_test)"
   ]
  },
  {
   "cell_type": "code",
   "execution_count": null,
   "id": "1e42f88d",
   "metadata": {},
   "outputs": [],
   "source": [
    "rf.score(X_train,y_train)"
   ]
  },
  {
   "cell_type": "code",
   "execution_count": null,
   "id": "476abad4",
   "metadata": {},
   "outputs": [],
   "source": [
    "rf.score(X_test,y_test)"
   ]
  },
  {
   "cell_type": "code",
   "execution_count": null,
   "id": "d086b13b",
   "metadata": {},
   "outputs": [],
   "source": [
    "print(classification_report(y_test, y_pred))"
   ]
  },
  {
   "cell_type": "markdown",
   "id": "776601e1",
   "metadata": {},
   "source": [
    "## KNN"
   ]
  },
  {
   "cell_type": "code",
   "execution_count": null,
   "id": "0a401670",
   "metadata": {},
   "outputs": [],
   "source": [
    "from sklearn.neighbors import KNeighborsClassifier\n",
    "KNN_model = KNeighborsClassifier()\n",
    "KNN_model.fit(X_train,y_train)\n",
    "y_pred = KNN_model.predict(X_test)"
   ]
  },
  {
   "cell_type": "code",
   "execution_count": null,
   "id": "bd594b94",
   "metadata": {},
   "outputs": [],
   "source": [
    "KNN_model.score(X_train,y_train)"
   ]
  },
  {
   "cell_type": "code",
   "execution_count": null,
   "id": "520e217f",
   "metadata": {},
   "outputs": [],
   "source": [
    "KNN_model.score(X_test,y_test)"
   ]
  },
  {
   "cell_type": "code",
   "execution_count": null,
   "id": "860220cc",
   "metadata": {},
   "outputs": [],
   "source": [
    "print(classification_report(y_test, y_pred))"
   ]
  },
  {
   "cell_type": "markdown",
   "id": "faf1cb09",
   "metadata": {},
   "source": [
    "## LR"
   ]
  },
  {
   "cell_type": "code",
   "execution_count": null,
   "id": "129fdb69",
   "metadata": {},
   "outputs": [],
   "source": [
    "from sklearn.linear_model import LogisticRegression\n",
    "lr = LogisticRegression()\n",
    "lr.fit(X_train,y_train)\n",
    "y_pred = lr.predict(X_test)"
   ]
  },
  {
   "cell_type": "code",
   "execution_count": null,
   "id": "bac877af",
   "metadata": {},
   "outputs": [],
   "source": [
    "lr.score(X_train,y_train)"
   ]
  },
  {
   "cell_type": "code",
   "execution_count": null,
   "id": "b986b076",
   "metadata": {},
   "outputs": [],
   "source": [
    "lr.score(X_test,y_test)"
   ]
  },
  {
   "cell_type": "code",
   "execution_count": null,
   "id": "b097d9dc",
   "metadata": {},
   "outputs": [],
   "source": [
    "print(classification_report(y_test, y_pred))"
   ]
  },
  {
   "cell_type": "markdown",
   "id": "2add8c05",
   "metadata": {},
   "source": [
    "## SVM"
   ]
  },
  {
   "cell_type": "code",
   "execution_count": null,
   "id": "69e35f4a",
   "metadata": {},
   "outputs": [],
   "source": [
    "from sklearn import svm \n",
    "svm = svm.SVC()\n",
    "svm.fit(X_train,y_train)\n",
    "y_pred = svm.predict(X_test)"
   ]
  },
  {
   "cell_type": "code",
   "execution_count": null,
   "id": "077e1a5e",
   "metadata": {},
   "outputs": [],
   "source": [
    "svm.score(X_train,y_train)"
   ]
  },
  {
   "cell_type": "code",
   "execution_count": null,
   "id": "eae383e2",
   "metadata": {},
   "outputs": [],
   "source": [
    "svm.score(X_test,y_test)"
   ]
  },
  {
   "cell_type": "code",
   "execution_count": null,
   "id": "ce2509c0",
   "metadata": {},
   "outputs": [],
   "source": [
    "print(classification_report(y_test, y_pred))"
   ]
  },
  {
   "cell_type": "markdown",
   "id": "20495c77",
   "metadata": {},
   "source": [
    "## GBC "
   ]
  },
  {
   "cell_type": "code",
   "execution_count": null,
   "id": "51835996",
   "metadata": {},
   "outputs": [],
   "source": [
    "GBC = GradientBoostingClassifier()\n",
    "GBC.fit(X_train, y_train)\n",
    "y_pred = GBC.predict(X_test)"
   ]
  },
  {
   "cell_type": "code",
   "execution_count": null,
   "id": "b3b26f13",
   "metadata": {},
   "outputs": [],
   "source": [
    "GBC.score(X_train,y_train)"
   ]
  },
  {
   "cell_type": "code",
   "execution_count": null,
   "id": "b7740780",
   "metadata": {},
   "outputs": [],
   "source": [
    "GBC.score(X_test,y_test)"
   ]
  },
  {
   "cell_type": "code",
   "execution_count": null,
   "id": "2e298f2c",
   "metadata": {},
   "outputs": [],
   "source": [
    "print(classification_report(y_test, y_pred))"
   ]
  },
  {
   "cell_type": "markdown",
   "id": "ea7b478a",
   "metadata": {},
   "source": [
    "## XGBoost"
   ]
  },
  {
   "cell_type": "code",
   "execution_count": null,
   "id": "e5b9f7aa",
   "metadata": {},
   "outputs": [],
   "source": [
    "import xgboost as xgb\n",
    "xg = xgb.XGBClassifier()\n",
    "xg.fit(X_train, y_train)\n",
    "y_pred = xg.predict(X_test)"
   ]
  },
  {
   "cell_type": "code",
   "execution_count": null,
   "id": "c83d06f0",
   "metadata": {},
   "outputs": [],
   "source": [
    "xg.score(X_train,y_train)"
   ]
  },
  {
   "cell_type": "code",
   "execution_count": null,
   "id": "61739d67",
   "metadata": {},
   "outputs": [],
   "source": [
    "xg.score(X_test,y_test)"
   ]
  },
  {
   "cell_type": "code",
   "execution_count": null,
   "id": "224a04f4",
   "metadata": {},
   "outputs": [],
   "source": [
    "print(classification_report(y_test, y_pred))"
   ]
  },
  {
   "cell_type": "markdown",
   "id": "4f6ebe4f",
   "metadata": {},
   "source": [
    "## LGBM"
   ]
  },
  {
   "cell_type": "code",
   "execution_count": null,
   "id": "1b12ca03",
   "metadata": {},
   "outputs": [],
   "source": [
    "# conda install lightgbm\n",
    "import lightgbm as lgb\n",
    "lgb = lgb.LGBMClassifier()\n",
    "lgb.fit(X_train,y_train)\n",
    "y_pred = lgb.predict(X_test)"
   ]
  },
  {
   "cell_type": "code",
   "execution_count": null,
   "id": "eceb6b7d",
   "metadata": {},
   "outputs": [],
   "source": [
    "lgb.score(X_train,y_train)"
   ]
  },
  {
   "cell_type": "code",
   "execution_count": null,
   "id": "f1d97496",
   "metadata": {},
   "outputs": [],
   "source": [
    "lgb.score(X_test,y_test)"
   ]
  },
  {
   "cell_type": "code",
   "execution_count": null,
   "id": "36b68089",
   "metadata": {},
   "outputs": [],
   "source": [
    "print(classification_report(y_test, y_pred))"
   ]
  },
  {
   "cell_type": "code",
   "execution_count": null,
   "id": "8513ae0d",
   "metadata": {},
   "outputs": [],
   "source": []
  },
  {
   "cell_type": "markdown",
   "id": "c46c0146",
   "metadata": {},
   "source": [
    "## Naive Bayes"
   ]
  },
  {
   "cell_type": "code",
   "execution_count": null,
   "id": "3280af04",
   "metadata": {},
   "outputs": [],
   "source": [
    "from sklearn.naive_bayes import BernoulliNB\n",
    "nb = BernoulliNB()\n",
    "nb.fit(X_train, y_train)\n",
    "y_pred = nb.predict(X_test)"
   ]
  },
  {
   "cell_type": "code",
   "execution_count": null,
   "id": "0b6bbf50",
   "metadata": {},
   "outputs": [],
   "source": [
    "nb.score(X_train,y_train)"
   ]
  },
  {
   "cell_type": "code",
   "execution_count": null,
   "id": "35642b7d",
   "metadata": {},
   "outputs": [],
   "source": [
    "nb.score(X_test,y_test)"
   ]
  },
  {
   "cell_type": "code",
   "execution_count": null,
   "id": "be72183f",
   "metadata": {},
   "outputs": [],
   "source": [
    "print(classification_report(y_test, y_pred))"
   ]
  },
  {
   "cell_type": "code",
   "execution_count": null,
   "id": "ad2301db",
   "metadata": {},
   "outputs": [],
   "source": []
  },
  {
   "cell_type": "markdown",
   "id": "32bc461d",
   "metadata": {},
   "source": [
    "## Lazy Predict"
   ]
  },
  {
   "cell_type": "markdown",
   "id": "53586b18",
   "metadata": {},
   "source": [
    "Lazy Predict\n",
    "มันเป็นหนึ่งในไลบรารีไพทอนที่ช่วยทำงานในการเรียนรู้ของเครื่องกึ่งอัตโนมัติ มันสร้างโมเดลพื้นฐานจำนวนมากโดยไม่ต้องใช้โค้ดมาก และช่วยให้เข้าใจว่าโมเดลใดทำงานได้ดีขึ้นโดยไม่ต้องปรับพารามิเตอร์ใดๆ\n",
    "\n",
    "สมมติว่าเรามีคำสั่งเกี่ยวกับปัญหาและเราจำเป็นต้องใช้แบบจำลองทั้งหมดในชุดข้อมูลนั้นจริง ๆ และเราต้องวิเคราะห์ว่าแบบจำลองพื้นฐานของเราทำงานเป็นอย่างไร โมเดลพื้นฐานในที่นี้หมายถึง \"โมเดลที่ไม่มีพารามิเตอร์\" ดังนั้นเราจึงสามารถทำงานนี้ได้โดยตรงโดยใช้ Lazy Predict หลังจากได้ความแม่นยำทั้งหมดแล้ว เราสามารถเลือกโมเดล 5 อันดับแรก จากนั้นใช้การปรับไฮเปอร์พารามิเตอร์กับโมเดลเหล่านั้นได้"
   ]
  },
  {
   "cell_type": "code",
   "execution_count": null,
   "id": "b5745a0f",
   "metadata": {},
   "outputs": [],
   "source": [
    "df"
   ]
  },
  {
   "cell_type": "code",
   "execution_count": null,
   "id": "f6c597a6",
   "metadata": {},
   "outputs": [],
   "source": [
    "from lazypredict.Supervised import LazyClassifier"
   ]
  },
  {
   "cell_type": "code",
   "execution_count": null,
   "id": "40da96f5",
   "metadata": {},
   "outputs": [],
   "source": [
    "X = df.drop(['rowID', 'stroke','Age_R','health_level','LDL_level','Age_R_e','health_level_e','LDL_level_e'], axis=1)\n",
    "y = df['stroke']"
   ]
  },
  {
   "cell_type": "code",
   "execution_count": null,
   "id": "dca800df",
   "metadata": {},
   "outputs": [],
   "source": [
    "X_train, X_test, y_train, y_test = train_test_split(X, y,test_size=0.15,random_state =123)"
   ]
  },
  {
   "cell_type": "code",
   "execution_count": null,
   "id": "b1f78c62",
   "metadata": {},
   "outputs": [],
   "source": [
    "clf = LazyClassifier(verbose=0,ignore_warnings=True, custom_metric=None)\n",
    "models,predictions = clf.fit(X_train, X_test, y_train, y_test)"
   ]
  },
  {
   "cell_type": "code",
   "execution_count": null,
   "id": "1d25e7ac",
   "metadata": {},
   "outputs": [],
   "source": [
    "print(models)"
   ]
  },
  {
   "cell_type": "code",
   "execution_count": null,
   "id": "09f346b3",
   "metadata": {},
   "outputs": [],
   "source": []
  },
  {
   "cell_type": "code",
   "execution_count": null,
   "id": "3cb8acca",
   "metadata": {},
   "outputs": [],
   "source": [
    "rus = RandomUnderSampler(sampling_strategy=1) \n",
    "X_rus, y_rus = rus.fit_resample(X, y)"
   ]
  },
  {
   "cell_type": "code",
   "execution_count": null,
   "id": "72dff7f4",
   "metadata": {},
   "outputs": [],
   "source": [
    "Counter(y_rus)"
   ]
  },
  {
   "cell_type": "code",
   "execution_count": null,
   "id": "e3a1f074",
   "metadata": {},
   "outputs": [],
   "source": [
    "X_train, X_test, y_train, y_test = train_test_split(X_rus, y_rus,test_size=0.15,random_state =123)"
   ]
  },
  {
   "cell_type": "code",
   "execution_count": null,
   "id": "0ccc1306",
   "metadata": {},
   "outputs": [],
   "source": [
    "clf = LazyClassifier(verbose=0,ignore_warnings=True, custom_metric=None)\n",
    "models,predictions = clf.fit(X_train, X_test, y_train, y_test)"
   ]
  },
  {
   "cell_type": "code",
   "execution_count": null,
   "id": "8c03261a",
   "metadata": {},
   "outputs": [],
   "source": [
    "print(models)"
   ]
  },
  {
   "cell_type": "code",
   "execution_count": null,
   "id": "5e454b13",
   "metadata": {},
   "outputs": [],
   "source": [
    "# !pip install auto-sklearn"
   ]
  },
  {
   "cell_type": "code",
   "execution_count": null,
   "id": "c1bba036",
   "metadata": {},
   "outputs": [],
   "source": []
  }
 ],
 "metadata": {
  "kernelspec": {
   "display_name": "Python 3 (ipykernel)",
   "language": "python",
   "name": "python3"
  },
  "language_info": {
   "codemirror_mode": {
    "name": "ipython",
    "version": 3
   },
   "file_extension": ".py",
   "mimetype": "text/x-python",
   "name": "python",
   "nbconvert_exporter": "python",
   "pygments_lexer": "ipython3",
   "version": "3.9.13"
  }
 },
 "nbformat": 4,
 "nbformat_minor": 5
}
